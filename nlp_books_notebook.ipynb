{
 "cells": [
  {
   "cell_type": "markdown",
   "metadata": {},
   "source": [
    "## Run all - Check which data to use (practice,full, lemmatized) - Hyperparameters"
   ]
  },
  {
   "cell_type": "code",
   "execution_count": 585,
   "metadata": {},
   "outputs": [],
   "source": [
    "reset -fs"
   ]
  },
  {
   "cell_type": "code",
   "execution_count": 586,
   "metadata": {},
   "outputs": [],
   "source": [
    "import nltk\n",
    "from nltk.tokenize import word_tokenize\n",
    "from nltk.corpus import stopwords\n",
    "import pandas as pd\n",
    "import numpy as np\n",
    "import pickle\n",
    "\n",
    "import warnings\n",
    "warnings.filterwarnings(\"ignore\", category=DeprecationWarning)\n",
    "\n",
    "#sklearn\n",
    "import sklearn\n",
    "from sklearn.feature_extraction.text import CountVectorizer \n",
    "from sklearn.decomposition import TruncatedSVD\n",
    "from sklearn.decomposition import NMF\n",
    "from sklearn.metrics.pairwise import cosine_similarity\n",
    "from sklearn.feature_extraction.text import CountVectorizer, TfidfVectorizer\n",
    "from sklearn.decomposition import LatentDirichletAllocation\n",
    "from sklearn.feature_extraction.text import TfidfVectorizer, CountVectorizer\n",
    "\n",
    "#visualizations\n",
    "import pyLDAvis\n",
    "import pyLDAvis.sklearn\n",
    "pyLDAvis.enable_notebook()\n",
    "\n",
    "import spacy\n",
    "import string"
   ]
  },
  {
   "cell_type": "markdown",
   "metadata": {},
   "source": [
    "#### Function for displaying top words in topic"
   ]
  },
  {
   "cell_type": "code",
   "execution_count": 587,
   "metadata": {},
   "outputs": [],
   "source": [
    "def display_topics(model, feature_names, no_top_words, topic_names=None):\n",
    "    for idx, topic in enumerate(model.components_):\n",
    "        if not topic_names or not topic_names[idx]:\n",
    "            print(\"\\nTopic \", idx)\n",
    "        else:\n",
    "            print(\"\\nTopic: '\",topic_names[idx],\"'\")\n",
    "        print(\", \".join([feature_names[i]\n",
    "                        for i in topic.argsort()[:-no_top_words - 1:-1]]))"
   ]
  },
  {
   "cell_type": "markdown",
   "metadata": {},
   "source": [
    "#### Function for lemmatization"
   ]
  },
  {
   "cell_type": "code",
   "execution_count": 588,
   "metadata": {},
   "outputs": [],
   "source": [
    "def lemmatization(texts, allowed_postags=[\"NOUN\", \"ADJ\", \"VERB\", \"ADV\"]):\n",
    "    nlp = spacy.load(\"en_core_web_sm\", disable=[\"parser\", \"ner\"])\n",
    "    texts_out = []\n",
    "    for text in texts:\n",
    "        doc = nlp(text)\n",
    "        new_text = []\n",
    "        for token in doc:\n",
    "            if token.pos_ in allowed_postags:\n",
    "                new_text.append(token.lemma_)\n",
    "        final = \" \".join(new_text)\n",
    "        texts_out.append(final)\n",
    "    \n",
    "    return texts_out  "
   ]
  },
  {
   "cell_type": "markdown",
   "metadata": {},
   "source": [
    "### Importing dataset as books_df"
   ]
  },
  {
   "cell_type": "code",
   "execution_count": 589,
   "metadata": {},
   "outputs": [],
   "source": [
    "books_df = pd.read_csv('./books_with_blurbs.csv')"
   ]
  },
  {
   "cell_type": "code",
   "execution_count": 590,
   "metadata": {},
   "outputs": [
    {
     "data": {
      "text/html": [
       "<div>\n",
       "<style scoped>\n",
       "    .dataframe tbody tr th:only-of-type {\n",
       "        vertical-align: middle;\n",
       "    }\n",
       "\n",
       "    .dataframe tbody tr th {\n",
       "        vertical-align: top;\n",
       "    }\n",
       "\n",
       "    .dataframe thead th {\n",
       "        text-align: right;\n",
       "    }\n",
       "</style>\n",
       "<table border=\"1\" class=\"dataframe\">\n",
       "  <thead>\n",
       "    <tr style=\"text-align: right;\">\n",
       "      <th></th>\n",
       "      <th>ISBN</th>\n",
       "      <th>Title</th>\n",
       "      <th>Author</th>\n",
       "      <th>Year</th>\n",
       "      <th>Publisher</th>\n",
       "      <th>Blurb</th>\n",
       "    </tr>\n",
       "  </thead>\n",
       "  <tbody>\n",
       "    <tr>\n",
       "      <th>0</th>\n",
       "      <td>0060973129</td>\n",
       "      <td>Decision in Normandy</td>\n",
       "      <td>Carlo D'Este</td>\n",
       "      <td>1991</td>\n",
       "      <td>HarperPerennial</td>\n",
       "      <td>Here, for the first time in paperback, is an o...</td>\n",
       "    </tr>\n",
       "    <tr>\n",
       "      <th>1</th>\n",
       "      <td>0374157065</td>\n",
       "      <td>Flu: The Story of the Great Influenza Pandemic...</td>\n",
       "      <td>Gina Bari Kolata</td>\n",
       "      <td>1999</td>\n",
       "      <td>Farrar Straus Giroux</td>\n",
       "      <td>The fascinating, true story of the world's dea...</td>\n",
       "    </tr>\n",
       "    <tr>\n",
       "      <th>2</th>\n",
       "      <td>0399135782</td>\n",
       "      <td>The Kitchen God's Wife</td>\n",
       "      <td>Amy Tan</td>\n",
       "      <td>1991</td>\n",
       "      <td>Putnam Pub Group</td>\n",
       "      <td>Winnie and Helen have kept each others worst s...</td>\n",
       "    </tr>\n",
       "    <tr>\n",
       "      <th>3</th>\n",
       "      <td>0425176428</td>\n",
       "      <td>What If?: The World's Foremost Military Histor...</td>\n",
       "      <td>Robert Cowley</td>\n",
       "      <td>2000</td>\n",
       "      <td>Berkley Publishing Group</td>\n",
       "      <td>Historians and inquisitive laymen alike love t...</td>\n",
       "    </tr>\n",
       "    <tr>\n",
       "      <th>4</th>\n",
       "      <td>1881320189</td>\n",
       "      <td>Goodbye to the Buttermilk Sky</td>\n",
       "      <td>Julia Oliver</td>\n",
       "      <td>1994</td>\n",
       "      <td>River City Pub</td>\n",
       "      <td>This highly praised first novel by fiction wri...</td>\n",
       "    </tr>\n",
       "  </tbody>\n",
       "</table>\n",
       "</div>"
      ],
      "text/plain": [
       "         ISBN                                              Title  \\\n",
       "0  0060973129                               Decision in Normandy   \n",
       "1  0374157065  Flu: The Story of the Great Influenza Pandemic...   \n",
       "2  0399135782                             The Kitchen God's Wife   \n",
       "3  0425176428  What If?: The World's Foremost Military Histor...   \n",
       "4  1881320189                      Goodbye to the Buttermilk Sky   \n",
       "\n",
       "             Author  Year                 Publisher  \\\n",
       "0      Carlo D'Este  1991           HarperPerennial   \n",
       "1  Gina Bari Kolata  1999      Farrar Straus Giroux   \n",
       "2           Amy Tan  1991          Putnam Pub Group   \n",
       "3     Robert Cowley  2000  Berkley Publishing Group   \n",
       "4      Julia Oliver  1994            River City Pub   \n",
       "\n",
       "                                               Blurb  \n",
       "0  Here, for the first time in paperback, is an o...  \n",
       "1  The fascinating, true story of the world's dea...  \n",
       "2  Winnie and Helen have kept each others worst s...  \n",
       "3  Historians and inquisitive laymen alike love t...  \n",
       "4  This highly praised first novel by fiction wri...  "
      ]
     },
     "execution_count": 590,
     "metadata": {},
     "output_type": "execute_result"
    }
   ],
   "source": [
    "books_df.head()"
   ]
  },
  {
   "cell_type": "code",
   "execution_count": 591,
   "metadata": {},
   "outputs": [],
   "source": [
    "corpus = [x for x in books_df.Blurb]"
   ]
  },
  {
   "cell_type": "code",
   "execution_count": 592,
   "metadata": {},
   "outputs": [],
   "source": [
    "#smaller corpus for practicing model building\n",
    "practice_corpus = corpus[:400]"
   ]
  },
  {
   "cell_type": "code",
   "execution_count": 593,
   "metadata": {},
   "outputs": [],
   "source": [
    "corpus_lower = []\n",
    "lower_split = []\n",
    "for text in corpus:\n",
    "    corpus_lower.append(text.lower())\n",
    "    lower_split.append(text.lower().split(\" \"))"
   ]
  },
  {
   "cell_type": "code",
   "execution_count": 594,
   "metadata": {},
   "outputs": [],
   "source": [
    "# lemmatized_texts = lemmatization(corpus_lower)"
   ]
  },
  {
   "cell_type": "code",
   "execution_count": 595,
   "metadata": {},
   "outputs": [],
   "source": [
    "practice_lower = corpus_lower[:400]"
   ]
  },
  {
   "cell_type": "code",
   "execution_count": 596,
   "metadata": {},
   "outputs": [],
   "source": [
    "practice_lemmatized_text = lemmatization(practice_lower)"
   ]
  },
  {
   "cell_type": "markdown",
   "metadata": {},
   "source": [
    "### Appending to stopword list"
   ]
  },
  {
   "cell_type": "code",
   "execution_count": 597,
   "metadata": {},
   "outputs": [],
   "source": [
    "stop_words = nltk.corpus.stopwords.words('english')\n",
    "stop_words.extend(['orson', 'scott', 'card','short','stories'])"
   ]
  },
  {
   "cell_type": "markdown",
   "metadata": {},
   "source": [
    "## Change max_df, min_df and corpus to run with all documents  min_df=65, max_df=.05)"
   ]
  },
  {
   "cell_type": "code",
   "execution_count": 598,
   "metadata": {},
   "outputs": [],
   "source": [
    "count_vectorizer = CountVectorizer(stop_words=stop_words, min_df=65, max_df=.05)\n",
    "doc_word = count_vectorizer.fit_transform(corpus)"
   ]
  },
  {
   "cell_type": "code",
   "execution_count": 599,
   "metadata": {},
   "outputs": [
    {
     "name": "stderr",
     "output_type": "stream",
     "text": [
      "/Users/derekcall/opt/anaconda3/lib/python3.8/site-packages/sklearn/feature_extraction/text.py:2029: UserWarning: Only (<class 'numpy.float64'>, <class 'numpy.float32'>, <class 'numpy.float16'>) 'dtype' should be used. <class 'numpy.int64'> 'dtype' will be converted to np.float64.\n",
      "  warnings.warn(\n"
     ]
    }
   ],
   "source": [
    "tfidf_vectorizer = TfidfVectorizer(**count_vectorizer.get_params())    \n",
    "tfidf_matrix = tfidf_vectorizer.fit_transform(corpus)"
   ]
  },
  {
   "cell_type": "code",
   "execution_count": 600,
   "metadata": {},
   "outputs": [
    {
     "data": {
      "text/plain": [
       "LatentDirichletAllocation(n_components=12, random_state=0)"
      ]
     },
     "execution_count": 600,
     "metadata": {},
     "output_type": "execute_result"
    }
   ],
   "source": [
    "lda_tf = LatentDirichletAllocation(n_components=12, random_state=0)\n",
    "lda_tf.fit(tfidf_matrix)"
   ]
  },
  {
   "cell_type": "code",
   "execution_count": 601,
   "metadata": {},
   "outputs": [],
   "source": [
    "pandas_cristo = pd.DataFrame(tfidf_matrix[6752])"
   ]
  },
  {
   "cell_type": "code",
   "execution_count": 602,
   "metadata": {},
   "outputs": [
    {
     "data": {
      "text/plain": [
       "sklearn.decomposition._lda.LatentDirichletAllocation"
      ]
     },
     "execution_count": 602,
     "metadata": {},
     "output_type": "execute_result"
    }
   ],
   "source": [
    "type(lda_tf)"
   ]
  },
  {
   "cell_type": "code",
   "execution_count": 603,
   "metadata": {},
   "outputs": [
    {
     "data": {
      "text/html": [
       "<div>\n",
       "<style scoped>\n",
       "    .dataframe tbody tr th:only-of-type {\n",
       "        vertical-align: middle;\n",
       "    }\n",
       "\n",
       "    .dataframe tbody tr th {\n",
       "        vertical-align: top;\n",
       "    }\n",
       "\n",
       "    .dataframe thead th {\n",
       "        text-align: right;\n",
       "    }\n",
       "</style>\n",
       "<table border=\"1\" class=\"dataframe\">\n",
       "  <thead>\n",
       "    <tr style=\"text-align: right;\">\n",
       "      <th></th>\n",
       "      <th>0</th>\n",
       "    </tr>\n",
       "  </thead>\n",
       "  <tbody>\n",
       "    <tr>\n",
       "      <th>0</th>\n",
       "      <td>(0, 7439)\\t0.14004132199774771\\n  (0, 7344)\\...</td>\n",
       "    </tr>\n",
       "  </tbody>\n",
       "</table>\n",
       "</div>"
      ],
      "text/plain": [
       "                                                   0\n",
       "0    (0, 7439)\\t0.14004132199774771\\n  (0, 7344)\\..."
      ]
     },
     "execution_count": 603,
     "metadata": {},
     "output_type": "execute_result"
    }
   ],
   "source": [
    "pandas_cristo.head()"
   ]
  },
  {
   "cell_type": "code",
   "execution_count": null,
   "metadata": {},
   "outputs": [],
   "source": []
  },
  {
   "cell_type": "code",
   "execution_count": 604,
   "metadata": {},
   "outputs": [],
   "source": [
    "# lda_tf.save('models/lda_tf.model')"
   ]
  },
  {
   "cell_type": "markdown",
   "metadata": {},
   "source": [
    "## practice on lemmatized text"
   ]
  },
  {
   "cell_type": "code",
   "execution_count": 605,
   "metadata": {},
   "outputs": [],
   "source": [
    "# prac_lemmatized_tfidf = tfidf.fit_transform(practice_lemmatized_text)"
   ]
  },
  {
   "cell_type": "code",
   "execution_count": 606,
   "metadata": {},
   "outputs": [],
   "source": [
    "# display_topics(lda_tf, tfidf.get_feature_names(), 15)   Did not include as many relevant topics\n",
    "# didn't have cooking, French, German, Self help....."
   ]
  },
  {
   "cell_type": "markdown",
   "metadata": {},
   "source": [
    "### Topics and lists displayed"
   ]
  },
  {
   "cell_type": "code",
   "execution_count": 624,
   "metadata": {},
   "outputs": [
    {
     "name": "stdout",
     "output_type": "stream",
     "text": [
      "\n",
      "Topic: ' Cooking '\n",
      "recipes, collection, guide, food, includes, color, books, edition, cooking, photos, information, full, dishes, film, including\n",
      "\n",
      "Topic: ' German '\n",
      "und, der, die, den, ein, zu, sie, ist, von, das, mit, sich, er, auf, eine\n",
      "\n",
      "Topic: ' Nazi/Horror '\n",
      "vampire, nazi, jessie, german, jewish, holocaust, dracula, poland, hitler, vampires, camp, jews, concentration, killer, anita\n",
      "\n",
      "Topic: ' Buzzwords '\n",
      "purchase, released, available, 24, copies, jo, pages, 25, paperback, 2003, million, hardcover, 2002, 2001, 000\n",
      "\n",
      "Topic: ' Classic Literature/Fantasy '\n",
      "collection, fiction, published, classic, written, literary, edition, writers, tales, literature, award, volume, characters, poems, writer\n",
      "\n",
      "Topic: ' Mystery/Thriller '\n",
      "killer, dead, wife, case, mystery, husband, daughter, crime, dark, town, passion, soon, detective, truth, secrets\n",
      "\n",
      "Topic: ' Self Improvement '\n",
      "guide, offers, spiritual, self, practical, shows, god, use, personal, health, questions, learn, provides, today, information\n",
      "\n",
      "Topic: ' Science/SciFi '\n",
      "earth, planet, space, alien, ship, battle, captain, mission, crew, evil, land, adventure, race, future, forces\n",
      "\n",
      "Topic: ' How-To '\n",
      "color, illustrations, guide, full, easy, step, reference, information, photographs, illustrated, text, includes, instructions, features, projects\n",
      "\n",
      "Topic: ' Contemporary Fiction '\n",
      "friends, school, girl, town, house, things, friend, big, baby, something, wants, go, boy, away, always\n",
      "\n",
      "Topic: ' French '\n",
      "de, la, un, en, que, et, le, el, les, una, se, il, une, est, del\n",
      "\n",
      "Topic: ' Historical '\n",
      "political, president, hollywood, tells, memoir, portrait, account, civil, childhood, personal, age, white, country, nation, unforgettable\n"
     ]
    }
   ],
   "source": [
    "display_topics(lda_tf, tfidf_vectorizer.get_feature_names(), no_top_words=15, topic_names=['Cooking','German','Nazi/Horror','Buzzwords', 'Classic Literature/Fantasy', \\\n",
    "                                                                   'Mystery/Thriller', 'Self Improvement', 'Science/SciFi','How-To', \\\n",
    "                                                                   'Contemporary Fiction', 'French', 'Historical'])"
   ]
  },
  {
   "cell_type": "markdown",
   "metadata": {},
   "source": [
    "### LDA Fit Transform for Document-Topic Matrix"
   ]
  },
  {
   "cell_type": "code",
   "execution_count": 608,
   "metadata": {},
   "outputs": [],
   "source": [
    "transfor_lda_tf = LatentDirichletAllocation(n_components=12, random_state=0)\n",
    "transformed_lda_matrix = transfor_lda_tf.fit_transform(tfidf_matrix)"
   ]
  },
  {
   "cell_type": "code",
   "execution_count": 609,
   "metadata": {},
   "outputs": [
    {
     "data": {
      "text/plain": [
       "(57510, 12)"
      ]
     },
     "execution_count": 609,
     "metadata": {},
     "output_type": "execute_result"
    }
   ],
   "source": [
    "transformed_lda_matrix.shape"
   ]
  },
  {
   "cell_type": "code",
   "execution_count": 610,
   "metadata": {},
   "outputs": [],
   "source": [
    "lda_doc_topic_df = pd.DataFrame(transformed_lda_matrix, columns = ['Cooking','German','Nazi/Horror','Buzzwords', 'Classic Literature/Fantasy', \\\n",
    "                                                                   'Mystery/Thriller', 'Self Improvement', 'Science/SciFi','How-To', \\\n",
    "                                                                   'Contemporary Fiction', 'French', 'Historical'])"
   ]
  },
  {
   "cell_type": "code",
   "execution_count": 611,
   "metadata": {},
   "outputs": [
    {
     "data": {
      "text/html": [
       "<div>\n",
       "<style scoped>\n",
       "    .dataframe tbody tr th:only-of-type {\n",
       "        vertical-align: middle;\n",
       "    }\n",
       "\n",
       "    .dataframe tbody tr th {\n",
       "        vertical-align: top;\n",
       "    }\n",
       "\n",
       "    .dataframe thead th {\n",
       "        text-align: right;\n",
       "    }\n",
       "</style>\n",
       "<table border=\"1\" class=\"dataframe\">\n",
       "  <thead>\n",
       "    <tr style=\"text-align: right;\">\n",
       "      <th></th>\n",
       "      <th>Cooking</th>\n",
       "      <th>German</th>\n",
       "      <th>Nazi/Horror</th>\n",
       "      <th>Buzzwords</th>\n",
       "      <th>Classic Literature/Fantasy</th>\n",
       "      <th>Mystery/Thriller</th>\n",
       "      <th>Self Improvement</th>\n",
       "      <th>Science/SciFi</th>\n",
       "      <th>How-To</th>\n",
       "      <th>Contemporary Fiction</th>\n",
       "      <th>French</th>\n",
       "      <th>Historical</th>\n",
       "    </tr>\n",
       "  </thead>\n",
       "  <tbody>\n",
       "    <tr>\n",
       "      <th>0</th>\n",
       "      <td>0.355381</td>\n",
       "      <td>0.019142</td>\n",
       "      <td>0.019142</td>\n",
       "      <td>0.019143</td>\n",
       "      <td>0.019143</td>\n",
       "      <td>0.019142</td>\n",
       "      <td>0.019143</td>\n",
       "      <td>0.453192</td>\n",
       "      <td>0.019143</td>\n",
       "      <td>0.019142</td>\n",
       "      <td>0.019142</td>\n",
       "      <td>0.019145</td>\n",
       "    </tr>\n",
       "    <tr>\n",
       "      <th>1</th>\n",
       "      <td>0.011183</td>\n",
       "      <td>0.011182</td>\n",
       "      <td>0.011182</td>\n",
       "      <td>0.011182</td>\n",
       "      <td>0.011182</td>\n",
       "      <td>0.011182</td>\n",
       "      <td>0.011184</td>\n",
       "      <td>0.876997</td>\n",
       "      <td>0.011182</td>\n",
       "      <td>0.011182</td>\n",
       "      <td>0.011182</td>\n",
       "      <td>0.011182</td>\n",
       "    </tr>\n",
       "    <tr>\n",
       "      <th>2</th>\n",
       "      <td>0.013579</td>\n",
       "      <td>0.013579</td>\n",
       "      <td>0.013579</td>\n",
       "      <td>0.013579</td>\n",
       "      <td>0.013580</td>\n",
       "      <td>0.850630</td>\n",
       "      <td>0.013579</td>\n",
       "      <td>0.013579</td>\n",
       "      <td>0.013579</td>\n",
       "      <td>0.013579</td>\n",
       "      <td>0.013579</td>\n",
       "      <td>0.013580</td>\n",
       "    </tr>\n",
       "    <tr>\n",
       "      <th>3</th>\n",
       "      <td>0.015376</td>\n",
       "      <td>0.015376</td>\n",
       "      <td>0.015376</td>\n",
       "      <td>0.015376</td>\n",
       "      <td>0.015377</td>\n",
       "      <td>0.015377</td>\n",
       "      <td>0.830862</td>\n",
       "      <td>0.015376</td>\n",
       "      <td>0.015376</td>\n",
       "      <td>0.015377</td>\n",
       "      <td>0.015376</td>\n",
       "      <td>0.015376</td>\n",
       "    </tr>\n",
       "    <tr>\n",
       "      <th>4</th>\n",
       "      <td>0.007992</td>\n",
       "      <td>0.007991</td>\n",
       "      <td>0.007992</td>\n",
       "      <td>0.007993</td>\n",
       "      <td>0.563376</td>\n",
       "      <td>0.007992</td>\n",
       "      <td>0.007992</td>\n",
       "      <td>0.007992</td>\n",
       "      <td>0.007992</td>\n",
       "      <td>0.356706</td>\n",
       "      <td>0.007991</td>\n",
       "      <td>0.007992</td>\n",
       "    </tr>\n",
       "  </tbody>\n",
       "</table>\n",
       "</div>"
      ],
      "text/plain": [
       "    Cooking    German  Nazi/Horror  Buzzwords  Classic Literature/Fantasy  \\\n",
       "0  0.355381  0.019142     0.019142   0.019143                    0.019143   \n",
       "1  0.011183  0.011182     0.011182   0.011182                    0.011182   \n",
       "2  0.013579  0.013579     0.013579   0.013579                    0.013580   \n",
       "3  0.015376  0.015376     0.015376   0.015376                    0.015377   \n",
       "4  0.007992  0.007991     0.007992   0.007993                    0.563376   \n",
       "\n",
       "   Mystery/Thriller  Self Improvement  Science/SciFi    How-To  \\\n",
       "0          0.019142          0.019143       0.453192  0.019143   \n",
       "1          0.011182          0.011184       0.876997  0.011182   \n",
       "2          0.850630          0.013579       0.013579  0.013579   \n",
       "3          0.015377          0.830862       0.015376  0.015376   \n",
       "4          0.007992          0.007992       0.007992  0.007992   \n",
       "\n",
       "   Contemporary Fiction    French  Historical  \n",
       "0              0.019142  0.019142    0.019145  \n",
       "1              0.011182  0.011182    0.011182  \n",
       "2              0.013579  0.013579    0.013580  \n",
       "3              0.015377  0.015376    0.015376  \n",
       "4              0.356706  0.007991    0.007992  "
      ]
     },
     "execution_count": 611,
     "metadata": {},
     "output_type": "execute_result"
    }
   ],
   "source": [
    "lda_doc_topic_df.head()"
   ]
  },
  {
   "cell_type": "code",
   "execution_count": null,
   "metadata": {},
   "outputs": [],
   "source": []
  },
  {
   "cell_type": "code",
   "execution_count": 612,
   "metadata": {},
   "outputs": [],
   "source": [
    "lda_doc_topic_df.to_csv('./lda_doc_topic.csv')"
   ]
  },
  {
   "cell_type": "code",
   "execution_count": 613,
   "metadata": {},
   "outputs": [],
   "source": [
    "topic_document_df = lda_doc_topic_df.transpose()"
   ]
  },
  {
   "cell_type": "code",
   "execution_count": 614,
   "metadata": {},
   "outputs": [
    {
     "data": {
      "text/html": [
       "<div>\n",
       "<style scoped>\n",
       "    .dataframe tbody tr th:only-of-type {\n",
       "        vertical-align: middle;\n",
       "    }\n",
       "\n",
       "    .dataframe tbody tr th {\n",
       "        vertical-align: top;\n",
       "    }\n",
       "\n",
       "    .dataframe thead th {\n",
       "        text-align: right;\n",
       "    }\n",
       "</style>\n",
       "<table border=\"1\" class=\"dataframe\">\n",
       "  <thead>\n",
       "    <tr style=\"text-align: right;\">\n",
       "      <th></th>\n",
       "      <th>0</th>\n",
       "      <th>1</th>\n",
       "      <th>2</th>\n",
       "      <th>3</th>\n",
       "      <th>4</th>\n",
       "      <th>5</th>\n",
       "      <th>6</th>\n",
       "      <th>7</th>\n",
       "      <th>8</th>\n",
       "      <th>9</th>\n",
       "      <th>...</th>\n",
       "      <th>57500</th>\n",
       "      <th>57501</th>\n",
       "      <th>57502</th>\n",
       "      <th>57503</th>\n",
       "      <th>57504</th>\n",
       "      <th>57505</th>\n",
       "      <th>57506</th>\n",
       "      <th>57507</th>\n",
       "      <th>57508</th>\n",
       "      <th>57509</th>\n",
       "    </tr>\n",
       "  </thead>\n",
       "  <tbody>\n",
       "    <tr>\n",
       "      <th>Cooking</th>\n",
       "      <td>0.355381</td>\n",
       "      <td>0.011183</td>\n",
       "      <td>0.013579</td>\n",
       "      <td>0.015376</td>\n",
       "      <td>0.007992</td>\n",
       "      <td>0.010637</td>\n",
       "      <td>0.007387</td>\n",
       "      <td>0.013400</td>\n",
       "      <td>0.879637</td>\n",
       "      <td>0.016843</td>\n",
       "      <td>...</td>\n",
       "      <td>0.009308</td>\n",
       "      <td>0.009967</td>\n",
       "      <td>0.011783</td>\n",
       "      <td>0.010290</td>\n",
       "      <td>0.011747</td>\n",
       "      <td>0.013895</td>\n",
       "      <td>0.010491</td>\n",
       "      <td>0.009924</td>\n",
       "      <td>0.009845</td>\n",
       "      <td>0.018774</td>\n",
       "    </tr>\n",
       "    <tr>\n",
       "      <th>German</th>\n",
       "      <td>0.019142</td>\n",
       "      <td>0.011182</td>\n",
       "      <td>0.013579</td>\n",
       "      <td>0.015376</td>\n",
       "      <td>0.007991</td>\n",
       "      <td>0.010636</td>\n",
       "      <td>0.007386</td>\n",
       "      <td>0.013399</td>\n",
       "      <td>0.010940</td>\n",
       "      <td>0.016841</td>\n",
       "      <td>...</td>\n",
       "      <td>0.009308</td>\n",
       "      <td>0.009967</td>\n",
       "      <td>0.011782</td>\n",
       "      <td>0.010290</td>\n",
       "      <td>0.011746</td>\n",
       "      <td>0.013895</td>\n",
       "      <td>0.010491</td>\n",
       "      <td>0.009924</td>\n",
       "      <td>0.009845</td>\n",
       "      <td>0.018773</td>\n",
       "    </tr>\n",
       "    <tr>\n",
       "      <th>Nazi/Horror</th>\n",
       "      <td>0.019142</td>\n",
       "      <td>0.011182</td>\n",
       "      <td>0.013579</td>\n",
       "      <td>0.015376</td>\n",
       "      <td>0.007992</td>\n",
       "      <td>0.010636</td>\n",
       "      <td>0.007386</td>\n",
       "      <td>0.013399</td>\n",
       "      <td>0.010940</td>\n",
       "      <td>0.016842</td>\n",
       "      <td>...</td>\n",
       "      <td>0.009308</td>\n",
       "      <td>0.009967</td>\n",
       "      <td>0.011782</td>\n",
       "      <td>0.010290</td>\n",
       "      <td>0.011746</td>\n",
       "      <td>0.013895</td>\n",
       "      <td>0.010491</td>\n",
       "      <td>0.009925</td>\n",
       "      <td>0.009845</td>\n",
       "      <td>0.018773</td>\n",
       "    </tr>\n",
       "    <tr>\n",
       "      <th>Buzzwords</th>\n",
       "      <td>0.019143</td>\n",
       "      <td>0.011182</td>\n",
       "      <td>0.013579</td>\n",
       "      <td>0.015376</td>\n",
       "      <td>0.007993</td>\n",
       "      <td>0.010636</td>\n",
       "      <td>0.007386</td>\n",
       "      <td>0.013401</td>\n",
       "      <td>0.010940</td>\n",
       "      <td>0.016842</td>\n",
       "      <td>...</td>\n",
       "      <td>0.009308</td>\n",
       "      <td>0.009967</td>\n",
       "      <td>0.011782</td>\n",
       "      <td>0.010290</td>\n",
       "      <td>0.011746</td>\n",
       "      <td>0.013895</td>\n",
       "      <td>0.010491</td>\n",
       "      <td>0.009924</td>\n",
       "      <td>0.009845</td>\n",
       "      <td>0.018773</td>\n",
       "    </tr>\n",
       "    <tr>\n",
       "      <th>Classic Literature/Fantasy</th>\n",
       "      <td>0.019143</td>\n",
       "      <td>0.011182</td>\n",
       "      <td>0.013580</td>\n",
       "      <td>0.015377</td>\n",
       "      <td>0.563376</td>\n",
       "      <td>0.010637</td>\n",
       "      <td>0.394653</td>\n",
       "      <td>0.692872</td>\n",
       "      <td>0.010946</td>\n",
       "      <td>0.016843</td>\n",
       "      <td>...</td>\n",
       "      <td>0.009308</td>\n",
       "      <td>0.009967</td>\n",
       "      <td>0.011783</td>\n",
       "      <td>0.010293</td>\n",
       "      <td>0.011747</td>\n",
       "      <td>0.013895</td>\n",
       "      <td>0.010491</td>\n",
       "      <td>0.009925</td>\n",
       "      <td>0.009845</td>\n",
       "      <td>0.018774</td>\n",
       "    </tr>\n",
       "    <tr>\n",
       "      <th>Mystery/Thriller</th>\n",
       "      <td>0.019142</td>\n",
       "      <td>0.011182</td>\n",
       "      <td>0.850630</td>\n",
       "      <td>0.015377</td>\n",
       "      <td>0.007992</td>\n",
       "      <td>0.882997</td>\n",
       "      <td>0.531483</td>\n",
       "      <td>0.013400</td>\n",
       "      <td>0.010944</td>\n",
       "      <td>0.016842</td>\n",
       "      <td>...</td>\n",
       "      <td>0.839387</td>\n",
       "      <td>0.009967</td>\n",
       "      <td>0.011782</td>\n",
       "      <td>0.628665</td>\n",
       "      <td>0.011747</td>\n",
       "      <td>0.847152</td>\n",
       "      <td>0.884599</td>\n",
       "      <td>0.890829</td>\n",
       "      <td>0.009845</td>\n",
       "      <td>0.793483</td>\n",
       "    </tr>\n",
       "    <tr>\n",
       "      <th>Self Improvement</th>\n",
       "      <td>0.019143</td>\n",
       "      <td>0.011184</td>\n",
       "      <td>0.013579</td>\n",
       "      <td>0.830862</td>\n",
       "      <td>0.007992</td>\n",
       "      <td>0.010637</td>\n",
       "      <td>0.007387</td>\n",
       "      <td>0.173134</td>\n",
       "      <td>0.010942</td>\n",
       "      <td>0.016844</td>\n",
       "      <td>...</td>\n",
       "      <td>0.009308</td>\n",
       "      <td>0.459879</td>\n",
       "      <td>0.011783</td>\n",
       "      <td>0.010291</td>\n",
       "      <td>0.011747</td>\n",
       "      <td>0.013895</td>\n",
       "      <td>0.010491</td>\n",
       "      <td>0.009925</td>\n",
       "      <td>0.009845</td>\n",
       "      <td>0.018774</td>\n",
       "    </tr>\n",
       "    <tr>\n",
       "      <th>Science/SciFi</th>\n",
       "      <td>0.453192</td>\n",
       "      <td>0.876997</td>\n",
       "      <td>0.013579</td>\n",
       "      <td>0.015376</td>\n",
       "      <td>0.007992</td>\n",
       "      <td>0.010637</td>\n",
       "      <td>0.007386</td>\n",
       "      <td>0.013399</td>\n",
       "      <td>0.010941</td>\n",
       "      <td>0.016842</td>\n",
       "      <td>...</td>\n",
       "      <td>0.009309</td>\n",
       "      <td>0.440451</td>\n",
       "      <td>0.182254</td>\n",
       "      <td>0.010291</td>\n",
       "      <td>0.393426</td>\n",
       "      <td>0.013899</td>\n",
       "      <td>0.010492</td>\n",
       "      <td>0.009925</td>\n",
       "      <td>0.891707</td>\n",
       "      <td>0.018774</td>\n",
       "    </tr>\n",
       "    <tr>\n",
       "      <th>How-To</th>\n",
       "      <td>0.019143</td>\n",
       "      <td>0.011182</td>\n",
       "      <td>0.013579</td>\n",
       "      <td>0.015376</td>\n",
       "      <td>0.007992</td>\n",
       "      <td>0.010637</td>\n",
       "      <td>0.007386</td>\n",
       "      <td>0.013399</td>\n",
       "      <td>0.010942</td>\n",
       "      <td>0.016844</td>\n",
       "      <td>...</td>\n",
       "      <td>0.009308</td>\n",
       "      <td>0.009967</td>\n",
       "      <td>0.011783</td>\n",
       "      <td>0.010290</td>\n",
       "      <td>0.011746</td>\n",
       "      <td>0.013895</td>\n",
       "      <td>0.010491</td>\n",
       "      <td>0.009924</td>\n",
       "      <td>0.009845</td>\n",
       "      <td>0.018776</td>\n",
       "    </tr>\n",
       "    <tr>\n",
       "      <th>Contemporary Fiction</th>\n",
       "      <td>0.019142</td>\n",
       "      <td>0.011182</td>\n",
       "      <td>0.013579</td>\n",
       "      <td>0.015377</td>\n",
       "      <td>0.356706</td>\n",
       "      <td>0.010637</td>\n",
       "      <td>0.007387</td>\n",
       "      <td>0.013400</td>\n",
       "      <td>0.010945</td>\n",
       "      <td>0.814734</td>\n",
       "      <td>...</td>\n",
       "      <td>0.009308</td>\n",
       "      <td>0.009967</td>\n",
       "      <td>0.699923</td>\n",
       "      <td>0.010292</td>\n",
       "      <td>0.489109</td>\n",
       "      <td>0.013895</td>\n",
       "      <td>0.010491</td>\n",
       "      <td>0.009925</td>\n",
       "      <td>0.009845</td>\n",
       "      <td>0.018774</td>\n",
       "    </tr>\n",
       "    <tr>\n",
       "      <th>French</th>\n",
       "      <td>0.019142</td>\n",
       "      <td>0.011182</td>\n",
       "      <td>0.013579</td>\n",
       "      <td>0.015376</td>\n",
       "      <td>0.007991</td>\n",
       "      <td>0.010636</td>\n",
       "      <td>0.007386</td>\n",
       "      <td>0.013399</td>\n",
       "      <td>0.010941</td>\n",
       "      <td>0.016841</td>\n",
       "      <td>...</td>\n",
       "      <td>0.067532</td>\n",
       "      <td>0.009967</td>\n",
       "      <td>0.011782</td>\n",
       "      <td>0.010305</td>\n",
       "      <td>0.011746</td>\n",
       "      <td>0.013895</td>\n",
       "      <td>0.010491</td>\n",
       "      <td>0.009924</td>\n",
       "      <td>0.009845</td>\n",
       "      <td>0.018777</td>\n",
       "    </tr>\n",
       "    <tr>\n",
       "      <th>Historical</th>\n",
       "      <td>0.019145</td>\n",
       "      <td>0.011182</td>\n",
       "      <td>0.013580</td>\n",
       "      <td>0.015376</td>\n",
       "      <td>0.007992</td>\n",
       "      <td>0.010637</td>\n",
       "      <td>0.007386</td>\n",
       "      <td>0.013400</td>\n",
       "      <td>0.010942</td>\n",
       "      <td>0.016842</td>\n",
       "      <td>...</td>\n",
       "      <td>0.009308</td>\n",
       "      <td>0.009967</td>\n",
       "      <td>0.011782</td>\n",
       "      <td>0.268413</td>\n",
       "      <td>0.011747</td>\n",
       "      <td>0.013895</td>\n",
       "      <td>0.010491</td>\n",
       "      <td>0.009925</td>\n",
       "      <td>0.009845</td>\n",
       "      <td>0.018774</td>\n",
       "    </tr>\n",
       "  </tbody>\n",
       "</table>\n",
       "<p>12 rows × 57510 columns</p>\n",
       "</div>"
      ],
      "text/plain": [
       "                               0         1         2         3         4      \\\n",
       "Cooking                     0.355381  0.011183  0.013579  0.015376  0.007992   \n",
       "German                      0.019142  0.011182  0.013579  0.015376  0.007991   \n",
       "Nazi/Horror                 0.019142  0.011182  0.013579  0.015376  0.007992   \n",
       "Buzzwords                   0.019143  0.011182  0.013579  0.015376  0.007993   \n",
       "Classic Literature/Fantasy  0.019143  0.011182  0.013580  0.015377  0.563376   \n",
       "Mystery/Thriller            0.019142  0.011182  0.850630  0.015377  0.007992   \n",
       "Self Improvement            0.019143  0.011184  0.013579  0.830862  0.007992   \n",
       "Science/SciFi               0.453192  0.876997  0.013579  0.015376  0.007992   \n",
       "How-To                      0.019143  0.011182  0.013579  0.015376  0.007992   \n",
       "Contemporary Fiction        0.019142  0.011182  0.013579  0.015377  0.356706   \n",
       "French                      0.019142  0.011182  0.013579  0.015376  0.007991   \n",
       "Historical                  0.019145  0.011182  0.013580  0.015376  0.007992   \n",
       "\n",
       "                               5         6         7         8         9      \\\n",
       "Cooking                     0.010637  0.007387  0.013400  0.879637  0.016843   \n",
       "German                      0.010636  0.007386  0.013399  0.010940  0.016841   \n",
       "Nazi/Horror                 0.010636  0.007386  0.013399  0.010940  0.016842   \n",
       "Buzzwords                   0.010636  0.007386  0.013401  0.010940  0.016842   \n",
       "Classic Literature/Fantasy  0.010637  0.394653  0.692872  0.010946  0.016843   \n",
       "Mystery/Thriller            0.882997  0.531483  0.013400  0.010944  0.016842   \n",
       "Self Improvement            0.010637  0.007387  0.173134  0.010942  0.016844   \n",
       "Science/SciFi               0.010637  0.007386  0.013399  0.010941  0.016842   \n",
       "How-To                      0.010637  0.007386  0.013399  0.010942  0.016844   \n",
       "Contemporary Fiction        0.010637  0.007387  0.013400  0.010945  0.814734   \n",
       "French                      0.010636  0.007386  0.013399  0.010941  0.016841   \n",
       "Historical                  0.010637  0.007386  0.013400  0.010942  0.016842   \n",
       "\n",
       "                            ...     57500     57501     57502     57503  \\\n",
       "Cooking                     ...  0.009308  0.009967  0.011783  0.010290   \n",
       "German                      ...  0.009308  0.009967  0.011782  0.010290   \n",
       "Nazi/Horror                 ...  0.009308  0.009967  0.011782  0.010290   \n",
       "Buzzwords                   ...  0.009308  0.009967  0.011782  0.010290   \n",
       "Classic Literature/Fantasy  ...  0.009308  0.009967  0.011783  0.010293   \n",
       "Mystery/Thriller            ...  0.839387  0.009967  0.011782  0.628665   \n",
       "Self Improvement            ...  0.009308  0.459879  0.011783  0.010291   \n",
       "Science/SciFi               ...  0.009309  0.440451  0.182254  0.010291   \n",
       "How-To                      ...  0.009308  0.009967  0.011783  0.010290   \n",
       "Contemporary Fiction        ...  0.009308  0.009967  0.699923  0.010292   \n",
       "French                      ...  0.067532  0.009967  0.011782  0.010305   \n",
       "Historical                  ...  0.009308  0.009967  0.011782  0.268413   \n",
       "\n",
       "                               57504     57505     57506     57507     57508  \\\n",
       "Cooking                     0.011747  0.013895  0.010491  0.009924  0.009845   \n",
       "German                      0.011746  0.013895  0.010491  0.009924  0.009845   \n",
       "Nazi/Horror                 0.011746  0.013895  0.010491  0.009925  0.009845   \n",
       "Buzzwords                   0.011746  0.013895  0.010491  0.009924  0.009845   \n",
       "Classic Literature/Fantasy  0.011747  0.013895  0.010491  0.009925  0.009845   \n",
       "Mystery/Thriller            0.011747  0.847152  0.884599  0.890829  0.009845   \n",
       "Self Improvement            0.011747  0.013895  0.010491  0.009925  0.009845   \n",
       "Science/SciFi               0.393426  0.013899  0.010492  0.009925  0.891707   \n",
       "How-To                      0.011746  0.013895  0.010491  0.009924  0.009845   \n",
       "Contemporary Fiction        0.489109  0.013895  0.010491  0.009925  0.009845   \n",
       "French                      0.011746  0.013895  0.010491  0.009924  0.009845   \n",
       "Historical                  0.011747  0.013895  0.010491  0.009925  0.009845   \n",
       "\n",
       "                               57509  \n",
       "Cooking                     0.018774  \n",
       "German                      0.018773  \n",
       "Nazi/Horror                 0.018773  \n",
       "Buzzwords                   0.018773  \n",
       "Classic Literature/Fantasy  0.018774  \n",
       "Mystery/Thriller            0.793483  \n",
       "Self Improvement            0.018774  \n",
       "Science/SciFi               0.018774  \n",
       "How-To                      0.018776  \n",
       "Contemporary Fiction        0.018774  \n",
       "French                      0.018777  \n",
       "Historical                  0.018774  \n",
       "\n",
       "[12 rows x 57510 columns]"
      ]
     },
     "execution_count": 614,
     "metadata": {},
     "output_type": "execute_result"
    }
   ],
   "source": [
    "topic_document_df.tail(12)"
   ]
  },
  {
   "cell_type": "code",
   "execution_count": null,
   "metadata": {},
   "outputs": [],
   "source": []
  },
  {
   "cell_type": "markdown",
   "metadata": {},
   "source": [
    "### Assigning topics to books"
   ]
  },
  {
   "cell_type": "code",
   "execution_count": 615,
   "metadata": {},
   "outputs": [
    {
     "data": {
      "text/html": [
       "<div>\n",
       "<style scoped>\n",
       "    .dataframe tbody tr th:only-of-type {\n",
       "        vertical-align: middle;\n",
       "    }\n",
       "\n",
       "    .dataframe tbody tr th {\n",
       "        vertical-align: top;\n",
       "    }\n",
       "\n",
       "    .dataframe thead th {\n",
       "        text-align: right;\n",
       "    }\n",
       "</style>\n",
       "<table border=\"1\" class=\"dataframe\">\n",
       "  <thead>\n",
       "    <tr style=\"text-align: right;\">\n",
       "      <th></th>\n",
       "      <th>Title</th>\n",
       "    </tr>\n",
       "  </thead>\n",
       "  <tbody>\n",
       "    <tr>\n",
       "      <th>0</th>\n",
       "      <td>Decision in Normandy</td>\n",
       "    </tr>\n",
       "    <tr>\n",
       "      <th>1</th>\n",
       "      <td>Flu: The Story of the Great Influenza Pandemic...</td>\n",
       "    </tr>\n",
       "    <tr>\n",
       "      <th>2</th>\n",
       "      <td>The Kitchen God's Wife</td>\n",
       "    </tr>\n",
       "    <tr>\n",
       "      <th>3</th>\n",
       "      <td>What If?: The World's Foremost Military Histor...</td>\n",
       "    </tr>\n",
       "    <tr>\n",
       "      <th>4</th>\n",
       "      <td>Goodbye to the Buttermilk Sky</td>\n",
       "    </tr>\n",
       "  </tbody>\n",
       "</table>\n",
       "</div>"
      ],
      "text/plain": [
       "                                               Title\n",
       "0                               Decision in Normandy\n",
       "1  Flu: The Story of the Great Influenza Pandemic...\n",
       "2                             The Kitchen God's Wife\n",
       "3  What If?: The World's Foremost Military Histor...\n",
       "4                      Goodbye to the Buttermilk Sky"
      ]
     },
     "execution_count": 615,
     "metadata": {},
     "output_type": "execute_result"
    }
   ],
   "source": [
    "book_title_topic_df = pd.DataFrame(books_df.Title)\n",
    "\n",
    "book_title_topic_df.head()"
   ]
  },
  {
   "cell_type": "code",
   "execution_count": 616,
   "metadata": {},
   "outputs": [],
   "source": [
    "index_topic_dict = {}\n",
    "\n",
    "for i in range(len(lda_doc_topic_df)):\n",
    "    index_topic_dict[i] = lda_doc_topic_df.iloc[i].idxmax()\n"
   ]
  },
  {
   "cell_type": "code",
   "execution_count": null,
   "metadata": {},
   "outputs": [],
   "source": []
  },
  {
   "cell_type": "code",
   "execution_count": 617,
   "metadata": {},
   "outputs": [],
   "source": [
    "index_topic_series = pd.Series(index_topic_dict,index=index_topic_dict.keys())"
   ]
  },
  {
   "cell_type": "code",
   "execution_count": 618,
   "metadata": {},
   "outputs": [
    {
     "data": {
      "text/html": [
       "<div>\n",
       "<style scoped>\n",
       "    .dataframe tbody tr th:only-of-type {\n",
       "        vertical-align: middle;\n",
       "    }\n",
       "\n",
       "    .dataframe tbody tr th {\n",
       "        vertical-align: top;\n",
       "    }\n",
       "\n",
       "    .dataframe thead th {\n",
       "        text-align: right;\n",
       "    }\n",
       "</style>\n",
       "<table border=\"1\" class=\"dataframe\">\n",
       "  <thead>\n",
       "    <tr style=\"text-align: right;\">\n",
       "      <th></th>\n",
       "      <th>Title</th>\n",
       "      <th>topic</th>\n",
       "    </tr>\n",
       "  </thead>\n",
       "  <tbody>\n",
       "    <tr>\n",
       "      <th>0</th>\n",
       "      <td>Decision in Normandy</td>\n",
       "      <td>Science/SciFi</td>\n",
       "    </tr>\n",
       "    <tr>\n",
       "      <th>1</th>\n",
       "      <td>Flu: The Story of the Great Influenza Pandemic...</td>\n",
       "      <td>Science/SciFi</td>\n",
       "    </tr>\n",
       "    <tr>\n",
       "      <th>2</th>\n",
       "      <td>The Kitchen God's Wife</td>\n",
       "      <td>Mystery/Thriller</td>\n",
       "    </tr>\n",
       "    <tr>\n",
       "      <th>3</th>\n",
       "      <td>What If?: The World's Foremost Military Histor...</td>\n",
       "      <td>Self Improvement</td>\n",
       "    </tr>\n",
       "    <tr>\n",
       "      <th>4</th>\n",
       "      <td>Goodbye to the Buttermilk Sky</td>\n",
       "      <td>Classic Literature/Fantasy</td>\n",
       "    </tr>\n",
       "  </tbody>\n",
       "</table>\n",
       "</div>"
      ],
      "text/plain": [
       "                                               Title  \\\n",
       "0                               Decision in Normandy   \n",
       "1  Flu: The Story of the Great Influenza Pandemic...   \n",
       "2                             The Kitchen God's Wife   \n",
       "3  What If?: The World's Foremost Military Histor...   \n",
       "4                      Goodbye to the Buttermilk Sky   \n",
       "\n",
       "                        topic  \n",
       "0               Science/SciFi  \n",
       "1               Science/SciFi  \n",
       "2            Mystery/Thriller  \n",
       "3            Self Improvement  \n",
       "4  Classic Literature/Fantasy  "
      ]
     },
     "execution_count": 618,
     "metadata": {},
     "output_type": "execute_result"
    }
   ],
   "source": [
    "book_title_topic_df['topic'] = index_topic_series\n",
    "book_title_topic_df.head()"
   ]
  },
  {
   "cell_type": "code",
   "execution_count": 619,
   "metadata": {},
   "outputs": [
    {
     "data": {
      "text/plain": [
       "topic\n",
       "Mystery/Thriller              16878\n",
       "Contemporary Fiction          11505\n",
       "Classic Literature/Fantasy     8202\n",
       "Self Improvement               6888\n",
       "Science/SciFi                  5026\n",
       "Cooking                        2333\n",
       "Historical                     1966\n",
       "French                         1790\n",
       "How-To                         1433\n",
       "German                          984\n",
       "Buzzwords                       271\n",
       "Nazi/Horror                     234\n",
       "dtype: int64"
      ]
     },
     "execution_count": 619,
     "metadata": {},
     "output_type": "execute_result"
    }
   ],
   "source": [
    "book_title_topic_df.value_counts('topic')"
   ]
  },
  {
   "cell_type": "code",
   "execution_count": null,
   "metadata": {},
   "outputs": [],
   "source": []
  },
  {
   "cell_type": "markdown",
   "metadata": {},
   "source": [
    "### pyLDAvis visualization"
   ]
  },
  {
   "cell_type": "code",
   "execution_count": 620,
   "metadata": {},
   "outputs": [
    {
     "name": "stderr",
     "output_type": "stream",
     "text": [
      "/Users/derekcall/opt/anaconda3/lib/python3.8/site-packages/sklearn/utils/deprecation.py:87: FutureWarning: Function get_feature_names is deprecated; get_feature_names is deprecated in 1.0 and will be removed in 1.2. Please use get_feature_names_out instead.\n",
      "  warnings.warn(msg, category=FutureWarning)\n",
      "/Users/derekcall/opt/anaconda3/lib/python3.8/site-packages/pyLDAvis/_prepare.py:246: FutureWarning: In a future version of pandas all arguments of DataFrame.drop except for the argument 'labels' will be keyword-only\n",
      "  default_term_info = default_term_info.sort_values(\n"
     ]
    }
   ],
   "source": [
    "pylda_model = pyLDAvis.sklearn.prepare(lda_tf, tfidf_matrix, tfidf_vectorizer)\n",
    "pyLDAvis.save_html(pylda_model, 'lda.html')"
   ]
  },
  {
   "cell_type": "code",
   "execution_count": 621,
   "metadata": {},
   "outputs": [
    {
     "data": {
      "text/html": [
       "\n",
       "<link rel=\"stylesheet\" type=\"text/css\" href=\"https://cdn.jsdelivr.net/gh/bmabey/pyLDAvis@3.3.1/pyLDAvis/js/ldavis.v1.0.0.css\">\n",
       "\n",
       "\n",
       "<div id=\"ldavis_el528391403460303329443997491209\"></div>\n",
       "<script type=\"text/javascript\">\n",
       "\n",
       "var ldavis_el528391403460303329443997491209_data = {\"mdsDat\": {\"x\": [-0.05203258918627753, -0.07209198202464376, -0.08175820756249037, -0.11447987002734829, -0.06883866597486292, -0.10269027588805753, -0.06941330488489753, 0.36056707675448535, -0.0912117360946226, 0.29999308223518384, -0.0098555331739145, 0.0018120058274448303], \"y\": [-0.12396330589734637, -0.06571395429455819, -0.011746260891184572, 0.07759686262836789, -0.11112294193795641, 0.14244438617283686, -0.12112594204412674, 0.06786974042115566, 0.2772342581455787, -0.017075935388825795, -0.12436772281348495, 0.009970815899544218], \"topics\": [1, 2, 3, 4, 5, 6, 7, 8, 9, 10, 11, 12], \"cluster\": [1, 1, 1, 1, 1, 1, 1, 1, 1, 1, 1, 1], \"Freq\": [28.2319793834324, 17.611413997369784, 13.448252134102814, 11.478816409368369, 8.637953023040064, 4.323269064784999, 4.21571857651451, 3.3498374905114447, 3.033429672649101, 2.4522213471928755, 1.6363710021943991, 1.5807378988392426]}, \"tinfo\": {\"Term\": [\"de\", \"la\", \"und\", \"der\", \"die\", \"un\", \"en\", \"que\", \"et\", \"le\", \"el\", \"available\", \"color\", \"les\", \"den\", \"ein\", \"released\", \"guide\", \"des\", \"purchase\", \"zu\", \"sie\", \"ist\", \"una\", \"von\", \"se\", \"das\", \"full\", \"mit\", \"er\", \"pitt\", \"prosecutor\", \"poirot\", \"motive\", \"blackmail\", \"superintendent\", \"stabbed\", \"deceit\", \"earl\", \"murdering\", \"hercule\", \"forensic\", \"cops\", \"homicide\", \"inspector\", \"sleuth\", \"attorney\", \"unsolved\", \"heiress\", \"birthright\", \"detectives\", \"dashing\", \"mob\", \"suspected\", \"unmask\", \"suspect\", \"raped\", \"nobleman\", \"reservation\", \"jury\", \"accused\", \"murderer\", \"killer\", \"murdered\", \"detective\", \"police\", \"crime\", \"fbi\", \"investigation\", \"case\", \"victim\", \"investigator\", \"cop\", \"lady\", \"innocent\", \"murders\", \"dead\", \"suspects\", \"investigate\", \"mystery\", \"passion\", \"dangerous\", \"killed\", \"wife\", \"secrets\", \"stranger\", \"husband\", \"daughter\", \"truth\", \"dark\", \"soon\", \"handsome\", \"determined\", \"danger\", \"blood\", \"suspense\", \"deadly\", \"town\", \"night\", \"mysterious\", \"knows\", \"becomes\", \"london\", \"city\", \"body\", \"brother\", \"son\", \"another\", \"marriage\", \"face\", \"friend\", \"grandma\", \"wakefield\", \"dad\", \"puppy\", \"nice\", \"cute\", \"daddy\", \"mom\", \"guys\", \"bunny\", \"classmates\", \"josh\", \"spooky\", \"antics\", \"duck\", \"mama\", \"kick\", \"doll\", \"lovable\", \"candy\", \"adorable\", \"waitress\", \"oh\", \"stuck\", \"wearing\", \"mall\", \"bachelor\", \"pal\", \"sassy\", \"scare\", \"maybe\", \"laugh\", \"rabbit\", \"boyfriend\", \"guy\", \"dog\", \"christmas\", \"baby\", \"got\", \"school\", \"bad\", \"going\", \"gets\", \"big\", \"lot\", \"crazy\", \"friends\", \"cat\", \"sexy\", \"things\", \"wants\", \"trouble\", \"really\", \"kids\", \"funny\", \"summer\", \"girls\", \"girl\", \"go\", \"friend\", \"something\", \"house\", \"sister\", \"always\", \"town\", \"boy\", \"thing\", \"away\", \"parents\", \"perfect\", \"right\", \"night\", \"everything\", \"husband\", \"comes\", \"knows\", \"novelette\", \"poets\", \"oates\", \"bradbury\", \"woolf\", \"twain\", \"poem\", \"dickens\", \"poems\", \"translations\", \"novellas\", \"hemingway\", \"tolkien\", \"poetry\", \"translated\", \"eliot\", \"lovecraft\", \"poe\", \"updike\", \"genres\", \"canon\", \"edith\", \"novella\", \"translation\", \"autobiographical\", \"penguin\", \"anthology\", \"unpublished\", \"joyce\", \"masterpieces\", \"literature\", \"poet\", \"literary\", \"writings\", \"published\", \"fiction\", \"writers\", \"tales\", \"prose\", \"masterpiece\", \"wrote\", \"novels\", \"award\", \"collection\", \"works\", \"volume\", \"prize\", \"fantasy\", \"written\", \"classic\", \"writer\", \"introduction\", \"characters\", \"english\", \"edition\", \"modern\", \"writing\", \"acclaimed\", \"contemporary\", \"original\", \"art\", \"winning\", \"john\", \"times\", \"books\", \"disorders\", \"remedies\", \"buddhism\", \"managers\", \"exercises\", \"processes\", \"spirituality\", \"negative\", \"mathematics\", \"stress\", \"improve\", \"positive\", \"parenting\", \"buddhist\", \"workplace\", \"clinical\", \"emphasis\", \"meditations\", \"symptoms\", \"guidelines\", \"management\", \"sciences\", \"christians\", \"programs\", \"energies\", \"tarot\", \"argues\", \"exercise\", \"application\", \"theoretical\", \"principles\", \"effective\", \"communication\", \"health\", \"proven\", \"strategies\", \"bible\", \"addresses\", \"practical\", \"practices\", \"spiritual\", \"explains\", \"theory\", \"practice\", \"program\", \"healing\", \"approach\", \"diet\", \"specific\", \"issues\", \"advice\", \"understanding\", \"relationships\", \"shows\", \"methods\", \"study\", \"problems\", \"guide\", \"questions\", \"god\", \"offers\", \"wisdom\", \"students\", \"self\", \"provides\", \"use\", \"personal\", \"techniques\", \"today\", \"experience\", \"information\", \"learn\", \"research\", \"step\", \"need\", \"social\", \"dr\", \"important\", \"edition\", \"business\", \"starship\", \"picard\", \"starfleet\", \"galactic\", \"galaxy\", \"spaceship\", \"interstellar\", \"federation\", \"colonists\", \"alien\", \"aliens\", \"planet\", \"robots\", \"kirk\", \"solar\", \"robot\", \"enterprise\", \"submarine\", \"vessel\", \"planets\", \"explorers\", \"ships\", \"pilots\", \"fleet\", \"crew\", \"invaders\", \"mars\", \"atomic\", \"extinction\", \"virus\", \"ship\", \"nuclear\", \"weapons\", \"space\", \"earth\", \"captain\", \"humans\", \"mankind\", \"navy\", \"mission\", \"universe\", \"military\", \"scientists\", \"battle\", \"race\", \"empire\", \"enemy\", \"destruction\", \"humanity\", \"forces\", \"sea\", \"evil\", \"land\", \"adventure\", \"destroy\", \"future\", \"science\", \"force\", \"ancient\", \"save\", \"powers\", \"deadly\", \"journey\", \"across\", \"cookbook\", \"cuisine\", \"culinary\", \"dishes\", \"recipes\", \"disney\", \"vegetarian\", \"desserts\", \"trivia\", \"cooks\", \"gourmet\", \"restaurants\", \"cooking\", \"listings\", \"ingredients\", \"menu\", \"dish\", \"recipe\", \"meals\", \"syndicated\", \"hotels\", \"tours\", \"cookies\", \"bread\", \"attractions\", \"chocolate\", \"dining\", \"parks\", \"delectable\", \"foods\", \"meal\", \"baseball\", \"favorites\", \"wine\", \"delicious\", \"food\", \"chef\", \"kitchen\", \"feature\", \"chicken\", \"photos\", \"soup\", \"collection\", \"film\", \"guide\", \"movie\", \"includes\", \"favorite\", \"fans\", \"color\", \"information\", \"books\", \"edition\", \"complete\", \"popular\", \"features\", \"photographs\", \"including\", \"full\", \"000\", \"show\", \"classic\", \"pages\", \"game\", \"illustrations\", \"special\", \"clinton\", \"roosevelt\", \"monroe\", \"presidential\", \"bush\", \"marilyn\", \"election\", \"presidents\", \"blacks\", \"communist\", \"stardom\", \"confederate\", \"kennedy\", \"conservative\", \"iran\", \"administration\", \"60s\", \"turbulent\", \"cuba\", \"candor\", \"superstar\", \"democratic\", \"correspondent\", \"triumphs\", \"tumultuous\", \"eleanor\", \"autobiography\", \"triumphant\", \"arab\", \"jackie\", \"memoir\", \"president\", \"hollywood\", \"civil\", \"political\", \"husbands\", \"biography\", \"portrait\", \"revolution\", \"rights\", \"politics\", \"sweeping\", \"daughters\", \"vietnam\", \"nation\", \"recounts\", \"rise\", \"account\", \"childhood\", \"saga\", \"tells\", \"dramatic\", \"era\", \"unforgettable\", \"personal\", \"age\", \"intimate\", \"white\", \"moving\", \"country\", \"struggle\", \"career\", \"extraordinary\", \"black\", \"south\", \"washington\", \"early\", \"marriage\", \"epic\", \"bestselling\", \"daughter\", \"que\", \"et\", \"una\", \"se\", \"il\", \"une\", \"est\", \"les\", \"su\", \"qui\", \"dans\", \"un\", \"por\", \"ce\", \"sa\", \"qu\", \"para\", \"en\", \"pas\", \"sus\", \"el\", \"ses\", \"che\", \"avec\", \"como\", \"si\", \"sur\", \"la\", \"m\\u00e1s\", \"lui\", \"au\", \"de\", \"del\", \"le\", \"pour\", \"du\", \"par\", \"elle\", \"las\", \"di\", \"con\", \"los\", \"des\", \"gardening\", \"identification\", \"designs\", \"diagrams\", \"beginner\", \"projects\", \"decorating\", \"jewelry\", \"illus\", \"rom\", \"definitions\", \"alphabet\", \"instructions\", \"vocabulary\", \"dictionary\", \"birds\", \"plants\", \"beginners\", \"colour\", \"crafts\", \"cd\", \"reference\", \"pocket\", \"600\", \"color\", \"interactive\", \"users\", \"basics\", \"glossary\", \"concise\", \"herbs\", \"illustrations\", \"design\", \"entries\", \"maps\", \"photographs\", \"step\", \"illustrated\", \"easy\", \"drawings\", \"guide\", \"full\", \"text\", \"information\", \"covers\", \"features\", \"photos\", \"techniques\", \"includes\", \"detailed\", \"fun\", \"format\", \"use\", \"books\", \"complete\", \"edition\", \"000\", \"und\", \"der\", \"ein\", \"zu\", \"sie\", \"ist\", \"mit\", \"sich\", \"auf\", \"eine\", \"dem\", \"als\", \"im\", \"einer\", \"nicht\", \"wird\", \"einem\", \"f\\u00fcr\", \"aus\", \"nach\", \"einen\", \"doch\", \"wie\", \"ihr\", \"nur\", \"auch\", \"eines\", \"sind\", \"das\", \"leben\", \"den\", \"von\", \"er\", \"seine\", \"die\", \"hat\", \"es\", \"des\", \"poland\", \"jessie\", \"dracula\", \"concentration\", \"bram\", \"stoker\", \"holocaust\", \"camps\", \"anita\", \"delaware\", \"nazi\", \"nazis\", \"jews\", \"hitler\", \"cathy\", \"vampires\", \"slayer\", \"undead\", \"german\", \"vampire\", \"polish\", \"railroad\", \"1943\", \"asylum\", \"jewish\", \"occupation\", \"amsterdam\", \"indiana\", \"camp\", \"occupied\", \"survivor\", \"germany\", \"attic\", \"serial\", \"diary\", \"survival\", \"killer\", \"alex\", \"ii\", \"tells\", \"horror\", \"purchase\", \"2003\", \"released\", \"jo\", \"24\", \"2002\", \"23\", \"isbn\", \"spine\", \"2001\", \"cloth\", \"25\", \"printing\", \"1st\", \"available\", \"shipping\", \"binding\", \"jacket\", \"meg\", \"deaf\", \"fur\", \"copies\", \"excited\", \"1998\", \"1997\", \"jan\", \"22\", \"beth\", \"guaranteed\", \"hardcover\", \"paperback\", \"cats\", \"print\", \"pages\", \"sold\", \"million\", \"14\", \"10\", \"000\", \"clean\", \"edition\", \"publication\"], \"Freq\": [897.0, 554.0, 397.0, 395.0, 412.0, 333.0, 308.0, 269.0, 249.0, 265.0, 224.0, 201.0, 252.0, 177.0, 162.0, 158.0, 144.0, 304.0, 199.0, 134.0, 147.0, 147.0, 147.0, 158.0, 147.0, 157.0, 138.0, 304.0, 133.0, 134.0, 25.907719782495473, 16.579093016450695, 28.787107586767327, 21.251073304631493, 19.04667166811114, 15.145366675292264, 15.172434606518308, 22.805579328174776, 42.56874042833494, 17.189457360514766, 20.11459880215179, 23.89078762101266, 29.05317614751641, 39.1949597450601, 51.266491896543236, 38.672778164221754, 49.42424356248823, 20.492487753559892, 27.71469835972918, 11.173246594480888, 27.391423180277, 32.05741513514595, 22.341844537423164, 22.012332279749867, 10.937678378971189, 63.815039230116476, 10.911186853680928, 16.702163328363667, 14.334657058736349, 21.446310740264224, 43.682681918455955, 62.746220492967815, 194.57491247624654, 99.01033296653272, 134.9470868527079, 124.86715917905312, 147.40208140960462, 57.76562373282416, 79.74673615194641, 154.28856421401753, 83.08190788199613, 40.5604044215949, 58.81198247667923, 109.44341598383859, 75.20385447413771, 57.020690177976036, 170.44672467414512, 47.03857336303279, 49.02816125447604, 153.21153283689728, 138.16437242383927, 117.91227226427975, 76.39319841122948, 159.21424601602902, 128.0763149353427, 76.40187876473, 149.0744094207205, 147.48621996232248, 128.12498738758714, 146.65246650030494, 135.1596375808049, 95.57896810795225, 104.9006950169556, 90.64270070191652, 89.35529228207047, 81.79130836337812, 94.52700976386501, 141.39529629924846, 126.07257845140447, 113.18300152393013, 111.88438297534488, 107.7977159299646, 103.0997641512018, 126.90576423274456, 107.65926515494992, 103.67697364090901, 120.89045722029775, 111.97986184063573, 106.0475475874347, 105.98259254874479, 106.1904627412999, 15.712938894413812, 18.190611581352766, 31.890972340073933, 15.119273716921823, 27.572303485969737, 9.596607543263383, 16.54026498926257, 33.38347456276514, 19.041218322916915, 16.368560877593517, 13.9275406463568, 17.065492461387485, 11.761213630854288, 11.394166372241747, 11.564014763550245, 17.852652773396112, 9.447980532627568, 15.840567387752847, 19.8848965439531, 14.361795930661685, 13.333958062949584, 9.803685389849356, 16.23692356233121, 19.941087465395142, 16.843115144422356, 10.471256321654057, 20.501023895967954, 12.050816026463908, 12.014070047174316, 10.300754955439734, 43.476280549377954, 40.32702405203492, 22.591647453274348, 43.85287409024026, 46.56182517214906, 87.06438479743822, 83.14428321029489, 100.84834722672605, 62.494534765495686, 139.78375022222633, 76.08283456060772, 88.93180999377792, 75.23734716205341, 101.72621990667375, 48.783024987745584, 31.67302291319795, 141.41563965762603, 84.41722785377841, 48.61873698414605, 112.16936843920479, 99.3759597111781, 65.39048801519601, 88.5311384096003, 65.3962451130557, 86.31555639218574, 77.06591118324224, 64.13434432001569, 122.55857584410904, 96.31537161213996, 110.78243813892809, 99.85309832778078, 113.20145575102609, 86.72078596282542, 90.18186776068195, 118.05116133976385, 94.55173969703277, 69.99192084452675, 90.26569885778977, 84.94283982931077, 85.15390682740446, 80.2287362043917, 88.12941059353639, 84.14969901384109, 85.8182928361109, 81.57235090314302, 78.67693521210292, 23.90039381770755, 42.81287066773888, 14.167715954140304, 16.18220271578721, 16.65810727785219, 30.198614433830052, 31.054740173290575, 30.796694288615537, 95.6977549164033, 19.639109489880173, 13.990252014279932, 27.19449544776816, 21.87482077369534, 84.543409953208, 35.33093277188131, 23.037349641077355, 18.090603722651473, 24.15762874285437, 12.288175714522536, 12.616653439237176, 10.349727927939368, 15.520844227047442, 20.324456391962098, 41.285825251734046, 24.02930468163962, 21.28906062793162, 47.82061910311224, 16.65471340019436, 30.102383764833156, 17.043112258411025, 106.12098149881935, 63.18723400550743, 116.0574506902473, 32.51014753645163, 138.7581307305794, 146.59014523673102, 108.93238285928341, 108.45163407032491, 54.10752843203816, 56.49878503564627, 50.600327093362054, 91.17389226814649, 102.6115022921272, 150.4660644822181, 90.29090465668456, 100.21882435790783, 62.4734679442156, 74.18396740908298, 116.96309918464621, 123.65710183013321, 95.18334685396059, 73.8682083636561, 96.06376581378657, 89.16866852885599, 110.25693362699286, 93.29815201147562, 82.92875910530319, 71.86212582006853, 69.63549167998534, 81.09768115531107, 75.85259740438335, 68.51512443896792, 73.44924427939463, 72.97632957698428, 74.01186660814083, 15.051434722395332, 15.735579748665963, 13.900234504286077, 12.274706467441243, 38.94955271675688, 12.10998918136643, 23.846731311800216, 12.882818486349139, 12.57980405931656, 28.285870623656518, 25.55742346900911, 29.270978893316222, 18.59076692442316, 17.0735004643643, 13.466440587018145, 12.189955336807726, 12.439654726017059, 18.41729361163108, 15.559263390455936, 15.137426367109189, 28.079856272059036, 11.518203044702645, 17.545002954995788, 20.300745058390714, 9.979651763645727, 17.447009887062165, 17.501280279784492, 24.916976921787345, 10.820683679554445, 9.630986499772277, 38.22720395418171, 34.784297407833584, 24.852073715440493, 77.45702746683564, 22.767746076991042, 34.29941179836977, 52.48596964222418, 24.454859381484706, 89.17606637016858, 27.066706939748425, 91.70654945689485, 56.02825004457448, 40.26089847337876, 46.21001809554896, 50.697137338039646, 52.8679357464526, 46.44073982578537, 31.27538037715389, 30.45386709245235, 54.20277122243382, 70.20799054184647, 63.61188863219469, 57.65381265947005, 86.158682296272, 33.526846397152966, 59.38793392079529, 60.62187795841297, 119.96838363592104, 77.08289934128058, 85.90720424400152, 95.97726370659677, 60.40781075426202, 58.44945731061433, 89.96966577436027, 73.443184783738, 80.87531491928853, 80.24777207844242, 52.904919810553324, 72.81348478536034, 66.82604482289483, 72.50804819289002, 73.63648329135737, 54.701278056943, 63.91348171912574, 63.12344864892951, 59.10811943572981, 59.25997831214553, 56.6492411681823, 58.63457359735679, 56.754919370826016, 28.68615823887031, 25.46861762883132, 18.74723159692607, 18.513047544297763, 49.55973250219609, 14.581264277451716, 21.28952759924447, 33.404601957364434, 13.17252772869017, 85.09345684392275, 35.388158732895526, 128.15520418099314, 15.822531379105966, 30.464040544975234, 20.154586636248197, 19.233083471905765, 36.29952816229455, 14.895987672437464, 13.029944685173529, 20.856646853433737, 12.396063301641226, 24.23733087013999, 12.117216499730942, 14.875889801359488, 69.82417547873783, 13.228130379733047, 23.955003882914855, 12.684574745404268, 14.642279187483846, 19.545999808331594, 76.2026311901432, 33.141485453707844, 31.19582358791876, 96.59500650381575, 154.2225733280496, 73.39243665710318, 55.637553650382635, 28.449236772117427, 29.602887279991375, 72.09204216066344, 57.43346002197391, 46.17458336755205, 32.91677936224132, 74.84541817260246, 60.81491456264783, 49.56035990504222, 52.49469081663043, 40.96231126890095, 45.10370188039874, 58.05997651069113, 51.13386320500154, 64.32315211020551, 63.682711100870094, 61.85389254599376, 45.67759566490365, 58.33279510414257, 53.68928590563681, 48.657686378987115, 52.68939077854727, 50.490965263656484, 45.305489089772074, 45.87615501118261, 46.87851186791619, 46.01890169446686, 33.958060639391675, 17.985642582794565, 22.04720804547057, 37.86523533325669, 110.36420483655333, 25.78219996637424, 16.134016188256126, 14.122901318064393, 16.12151677373405, 17.440905869604293, 12.964463557640382, 20.737433700351545, 42.412679721127, 13.472898157894425, 23.04378763587004, 10.499949438543291, 9.81099629298291, 20.459673739651656, 17.90098356632402, 11.48922326098051, 10.07108924841358, 9.016300422424587, 10.620501723623144, 13.96713362054855, 8.514603461039874, 23.742743874754726, 10.582573260528388, 13.056588157746964, 8.46955230504021, 23.142629489240303, 12.967992105603981, 25.415603895618343, 13.324988757605848, 18.372402807628188, 26.62504964502411, 59.63010335000089, 17.12771643878413, 25.870758290682165, 22.472327036718465, 19.26453670608504, 41.203333580674744, 16.569304612146816, 67.68850308328992, 37.74761789966849, 62.05927406051814, 33.61476962792793, 50.02774781146202, 34.28489280014245, 33.64014510022115, 46.91002046920618, 40.74446767858831, 45.01943407125458, 44.47941290165672, 35.04257803030407, 36.97433203457985, 33.684968074615654, 32.630863534103746, 37.708486271054895, 38.116572975686545, 31.88977005663649, 31.1598532024527, 34.403931801408, 30.20599985705804, 29.368502720048397, 29.52017241294953, 29.182546160504184, 16.24754540697567, 12.35025025925814, 12.606756779897376, 13.615983902722936, 21.667546615888337, 18.911838875390185, 10.159522747950854, 7.336407992336356, 7.2850713709393, 11.973632888495736, 9.361249600143122, 9.046926553664179, 18.830510476301512, 8.180835885685852, 8.30955891848862, 7.152464246616892, 6.690247135724323, 19.196385941071746, 7.629819427243495, 7.961379894031165, 9.050517909261721, 5.616986635313813, 7.276028768332888, 13.479060789823533, 12.524621379991665, 11.871848596915719, 20.76106801681973, 11.96864951758832, 7.611599680548792, 10.773267259026397, 35.88634973662903, 37.581055249159405, 36.36619032584093, 31.7206492033952, 49.214380598201245, 11.009075248295941, 22.9136498378491, 35.41106046183507, 22.56126306191068, 19.36540173065318, 24.59979805594317, 16.428648408599177, 19.964990010945655, 18.18846023738418, 26.923607650208314, 18.651302286906663, 20.504965962061338, 32.19725187248542, 31.01835035598333, 23.507905408432336, 36.040822107960096, 22.254072852794298, 21.3253584900487, 25.787688072052475, 30.505093805023762, 30.082931826132526, 20.47330894157901, 27.78727416173065, 25.31677782298471, 27.684486770272937, 23.794081000140917, 24.408345110916663, 24.103072549277112, 24.553707018242743, 22.623708689446296, 21.576139681890716, 22.63434134437141, 23.02727352668854, 21.923369476040477, 22.55528543428659, 21.9382871755718, 268.2129333056502, 247.8723864547138, 157.75866423920797, 156.48969675143283, 138.10808607255174, 136.35128837788977, 128.12814967017934, 176.06418978123003, 113.95404010098731, 109.83364965135424, 97.32574835830492, 329.2812091145984, 74.18908560547574, 62.73670235306335, 62.00615312861299, 60.985180509884444, 58.58282583229164, 301.39847845953983, 47.652898331120845, 45.52436081951914, 218.14643425545663, 44.50407005298727, 42.631088031340845, 42.491715554941685, 41.753403410912654, 40.874460965034224, 52.75513311473421, 538.0746139788497, 38.88974280073115, 37.92208159787597, 66.34094651032451, 812.471039946127, 119.71257516599556, 239.5046910367654, 69.62207620297212, 95.87012176846483, 62.3716871421807, 48.43130167930723, 82.49150230830791, 68.18057493293173, 80.81953874709296, 111.51542274526909, 112.82188863849885, 22.519582773874614, 18.230820000656703, 32.27423181839405, 18.788677612222028, 17.484813143136815, 46.65564894146102, 14.358315609259355, 16.781210425109794, 21.593888055678985, 13.16003762638071, 16.220549347023415, 19.40725067794281, 48.62259047758973, 21.060371056492166, 33.30606480195065, 35.92307182297215, 36.06676589391391, 12.750227738250125, 16.566804947592463, 15.033975349009278, 20.32103165406943, 66.1686504800972, 27.75936692226079, 10.268823598632853, 145.3118183932173, 12.77214526460858, 11.588748344564053, 16.063686388299978, 13.893966550677092, 20.743893493144796, 18.553867216011984, 102.46918620122632, 35.497152023218966, 24.856948671584004, 34.30981255751687, 60.20381721536898, 69.60998162407454, 59.37182628848943, 74.91365578675111, 34.67045613734393, 88.32788175591489, 85.82284893281641, 57.49545614178462, 62.64481747013088, 38.80268110206967, 46.81298621037818, 41.962039276306854, 38.10225509877264, 56.33544149884309, 35.98466160958977, 43.05335528504552, 31.14426513592905, 44.21125941898137, 45.31507626097248, 38.10572912349756, 35.65024307827682, 33.40073845683327, 396.4681910480383, 394.3017128260664, 157.0303931008366, 146.53076851455228, 146.38327829675652, 146.1508617564065, 132.52264652499352, 129.33378848105707, 115.37119817909213, 112.59149153453059, 105.06623847404379, 107.64941718523079, 85.1320651518732, 79.50378404678385, 78.42958056377071, 76.03735323642081, 74.87147881274888, 73.27785730857795, 66.87072973487655, 59.040625538752224, 54.46677086675374, 53.8114400556439, 51.44911899729632, 49.59076742123516, 47.408643015065415, 46.35749792726848, 46.24201704997208, 45.32053316836573, 134.49055124354012, 43.77487932143766, 158.23019637671382, 138.9773630228247, 125.9718560176646, 51.494006348686916, 330.6054619816327, 76.9723985921097, 76.46733882376009, 83.91938485571805, 30.082944380356675, 40.32941233599458, 30.79262468715453, 23.954610717146522, 21.25939663738988, 20.23595320404183, 32.10395016809012, 20.208702535349342, 21.805320560268523, 16.58750068828502, 47.46264061709701, 20.70511768518195, 24.22806876083837, 29.584770160240314, 17.08378764710361, 28.238616115564675, 11.532859240070488, 11.019561566350156, 39.29565418269411, 55.048353247455076, 10.761874507042748, 10.111242023204264, 7.28321914677687, 8.223651623967509, 34.09660743984676, 7.342818140961456, 7.8264399575224415, 7.432255464134882, 27.282970413303033, 9.169313864340523, 15.653398766118935, 15.085349969729887, 10.430210474778448, 20.149649432238174, 17.968883245129927, 16.427168888953734, 22.014151357808494, 15.169570613448542, 15.250014500570087, 15.069759426510656, 13.678903964654578, 128.05905234567447, 38.01234235084744, 124.31088248844364, 50.63061510102374, 62.17330566376562, 32.795333973418956, 27.10914814679737, 26.63537599102265, 29.348076035771854, 31.53564919900776, 11.565782938975127, 47.31853772618886, 29.206812058375757, 12.040828525142276, 106.34451539257601, 11.947359790995659, 14.49226208447296, 20.65392466552474, 21.415577019927383, 11.170135772424517, 10.183469428245264, 54.138728197052004, 10.244186072485665, 21.17449295054625, 16.58912148584554, 15.30437017159584, 15.8179017245234, 19.07057313202793, 16.186483414718328, 33.02650131840337, 39.859109247149576, 28.903311537886616, 31.23623697388346, 48.265436295923514, 28.166775945185243, 34.77584074335841, 18.737629593536788, 22.68046265676223, 31.27041688104998, 17.8109430790753, 26.181634944296004, 18.241596261759526], \"Total\": [897.0, 554.0, 397.0, 395.0, 412.0, 333.0, 308.0, 269.0, 249.0, 265.0, 224.0, 201.0, 252.0, 177.0, 162.0, 158.0, 144.0, 304.0, 199.0, 134.0, 147.0, 147.0, 147.0, 158.0, 147.0, 157.0, 138.0, 304.0, 133.0, 134.0, 27.83591629927687, 17.901767457163036, 31.894351611920676, 23.616464226992942, 21.200784653085407, 16.878158328147737, 16.916570268935523, 25.581098238060772, 47.84164529494331, 19.321662137194533, 22.624032625125743, 26.95699197711156, 32.93882718765268, 44.63135793781, 58.388491475677036, 44.190275038572786, 56.65801374866785, 23.68606753576413, 32.26194079050137, 13.016591156203809, 31.977156514270227, 37.44959789155996, 26.128912350357503, 25.801888254503528, 12.822106758579224, 74.82494960257493, 12.841484817528178, 19.671829529406264, 16.88875963046667, 25.358936272481003, 51.76838727905663, 75.23229430545457, 239.11206870501388, 121.25846174212428, 167.72548100671008, 154.9562202264508, 186.21160856808058, 70.23641340488751, 98.74530752472963, 202.34732007056527, 105.99636575106206, 48.72519279230765, 74.26372473099356, 153.12652133117325, 100.38668150994556, 73.56283595875509, 268.23417516872024, 59.93909340892468, 63.03291937495036, 249.09807040386772, 224.37058188080564, 184.76050633843738, 108.83427789788047, 273.93717666771335, 215.06582519616023, 111.20883104804986, 262.7071124415777, 259.32356582542366, 217.7818062431379, 261.10090868401926, 240.71680965270457, 150.59092228115884, 171.53195805784185, 140.05867614515003, 137.1510434979318, 122.0790772034842, 154.3545532079495, 306.1768728472717, 256.80654350701633, 215.9454589164153, 212.65505033479957, 199.12155672750345, 183.8365974488417, 291.49453412231657, 203.98585574698785, 194.1993927078644, 291.99638947829715, 257.6758707171004, 233.77024662066634, 238.94640327551048, 257.28104641589744, 17.612224981977743, 20.52065100111166, 37.03204888720037, 17.75294512285106, 33.04270423407338, 11.679605725788102, 20.34848288574972, 41.158474455947776, 23.891388937375524, 20.591828592448916, 17.577556283979707, 21.679327959918254, 15.373421964194147, 15.045926392072573, 15.444310298960536, 23.926545782251168, 12.685274051532685, 21.33837144615179, 26.89233436375227, 19.4782795775333, 18.10991044430818, 13.42080548552455, 22.262739071382075, 27.515578083260138, 23.247656032545155, 14.507937090175554, 28.648236113704854, 17.004046779320827, 16.95309698166642, 14.54207257188024, 61.60761044379653, 57.38507428973143, 32.04827677496732, 62.838511347252386, 67.05900918056884, 131.2576869906112, 133.58166772177023, 170.0800194477873, 100.16872393747029, 247.94063577814114, 126.27025711920543, 152.03837284008733, 127.33081280863749, 182.54969512683692, 78.75601187452847, 47.53158218573405, 285.5955139027799, 155.2398518109353, 79.93752649036304, 221.45748435563968, 193.08870279208202, 115.41469365465257, 173.38455696553513, 118.19655896463566, 171.9154701976308, 150.00314673773852, 118.39112404985511, 283.0664682609379, 208.34342877481595, 257.28104641589744, 225.88154338184646, 274.49750906363187, 187.01855802751288, 200.4522720214273, 306.1768728472717, 225.81231679951725, 137.90029191764467, 222.86034603262343, 208.3507037433546, 209.54264036502593, 197.49029540653032, 256.80654350701633, 241.36970694478518, 262.7071124415777, 263.3692973123605, 212.65505033479957, 25.14254030424751, 46.91058555224938, 15.740983622249692, 18.14158749881544, 18.869393224546634, 34.64047142731159, 35.851631929285084, 35.703238469962514, 111.15296073119703, 22.877350866828532, 16.308301376046717, 31.83181238198211, 25.93916164680393, 101.00511659158272, 42.25888207063045, 28.01314645150049, 22.01260725394716, 29.635269263428764, 15.128705399117091, 15.612524874015183, 12.887163103274974, 19.368881599688354, 25.53599550751742, 52.14542291732576, 30.386297254199537, 26.97091719817272, 60.9860838295635, 21.587263022106967, 39.092435053513476, 22.203021929012653, 139.44937510367353, 84.05388849943765, 156.78525758423012, 44.39087558948618, 224.6721934979959, 243.42965631243428, 175.22703056185742, 177.8197856744016, 79.4755524603563, 84.05026918644957, 75.81207245522005, 166.68035539556092, 194.38893714836894, 319.910741347473, 172.73419802628607, 203.76344288369089, 111.34827257860543, 144.30359730027814, 277.91571914697306, 307.23163092403405, 213.64289561776795, 146.9877980871065, 229.2360710549668, 203.89705903819285, 295.94567551880147, 229.92085120759475, 194.26760282468874, 150.51729727657795, 141.89465650584054, 232.31536324133407, 222.66482080646503, 172.63191314623103, 232.3823541534955, 249.7196508029305, 280.07944913087306, 16.765481195819984, 17.550112220313917, 15.63127641239244, 14.065776342715978, 44.81205372899425, 14.14873967630039, 27.875815096959403, 15.289732643054846, 14.985121173612484, 33.92012746843402, 31.005212177494, 35.58933931402011, 22.65121914736013, 20.804734708700014, 16.471271680118775, 14.996704859269878, 15.31143614144214, 22.729630919024487, 19.274198704347086, 18.880421912399964, 35.09459581632278, 14.417132152154533, 22.01451304361586, 25.74143012793493, 12.680378852369621, 22.21717746993976, 22.307072931810954, 31.759624391577837, 13.805722876559365, 12.33250252526279, 49.19782293371458, 45.00361568833943, 32.0542682416566, 103.72313760283693, 29.460237814212615, 45.573639577195316, 72.79384271415667, 31.862027437969854, 131.7231824386442, 35.623601846592464, 136.89157212990574, 79.64631607754305, 56.59185793660868, 66.74558555611202, 74.62956037688566, 81.71585872499291, 70.32585998971632, 43.700211558878024, 42.534365728457516, 88.29114217046609, 124.22998095393264, 110.46366312065027, 101.90088428089244, 177.54176839499712, 49.086839618446, 110.0788343532245, 113.53471041998642, 304.9764262403043, 160.7771291776108, 196.1176932506829, 232.56901798149272, 117.38071355787145, 113.2138359159581, 225.9629873416586, 164.84132957335683, 200.72786510300753, 227.45017856317753, 105.25217379581959, 202.50235942073232, 172.8672003082106, 208.25120541228532, 223.7035346726339, 113.8163776203008, 182.995998032326, 182.24518519300946, 157.63397025312784, 186.5624662000264, 155.60362011100455, 295.94567551880147, 180.77894984192565, 29.923837648223543, 26.706225193010358, 19.984836446390254, 19.75067225708274, 53.785660903532445, 15.896022199111101, 23.273168413389932, 37.88453486812522, 15.129403503800315, 98.71959974762406, 41.846387792883135, 151.94400214286043, 18.932618761029627, 36.58320165813392, 24.59930996239211, 23.4944402876383, 44.38830170223245, 18.25046779848441, 16.252695350813582, 26.089333739158075, 15.79103082654286, 31.39854957704816, 15.710045111960586, 19.338160328545648, 92.07532269233613, 17.652659113147106, 32.021435014582025, 17.048191551918006, 19.783621160991146, 26.47642022270373, 104.67409689021257, 45.546389577472326, 42.96606101665044, 142.2621445387398, 240.09953641306507, 109.88019210642976, 81.20196185619855, 39.748718974092576, 43.015392762394995, 133.5770604436036, 104.8664298300932, 79.58779101766653, 51.05479199681559, 171.09303311613849, 130.25379561535462, 96.75130113310554, 109.80526943609034, 74.34716244661072, 89.36976801913846, 142.97074614341005, 126.49896878173489, 208.00419976828113, 213.2567050896716, 216.6917776724317, 109.61660195641925, 223.29758570056944, 184.64649229859646, 145.365129769216, 200.2020425066212, 184.49279303705538, 118.90926068498487, 154.3545532079495, 227.33889390016213, 178.57378165123154, 36.807775987260555, 19.78365536358411, 25.362427272535502, 43.84393327895664, 129.0378478876289, 30.575634141460004, 19.45145707506111, 17.35459269108989, 19.90984417781156, 21.568085222779878, 16.226011228082182, 26.01756189699914, 53.943233081549785, 18.435339825319616, 32.98634861343737, 15.60638839870069, 14.738151030251341, 30.89067668731226, 27.432771907870233, 17.780236071068302, 15.87146134697195, 14.819696514667196, 17.547007529476037, 23.1726092835351, 14.312365910210092, 40.11211284667501, 17.87898535950382, 22.06671597036241, 14.373004043931491, 39.80700075454795, 22.44744184759746, 45.638982959807876, 23.140058766634745, 33.29716977634585, 52.8864384670489, 140.70871125174946, 31.62006592628132, 54.709012281156575, 48.401712862708926, 38.718829524553286, 126.60512018823516, 31.529624639456895, 319.910741347473, 123.198719925329, 304.9764262403043, 103.68245685452285, 245.5336926612099, 117.77610501423055, 118.87281756177714, 252.79880697223075, 208.25120541228532, 280.07944913087306, 295.94567551880147, 167.19793893263665, 198.85532855598726, 151.67039334520322, 145.55952152016968, 253.74542764480455, 304.8594173118848, 168.64167145538715, 164.4466090942579, 307.23163092403405, 190.2549916047341, 157.71748651268294, 200.0108618189855, 184.39105939193402, 22.424155857021915, 18.569313553350888, 20.637087248346536, 22.49233846422817, 35.97333818572437, 32.40747699958235, 18.708671132494324, 13.54092688310066, 13.46145272011721, 22.57710128809493, 17.83689864011185, 17.269926352309465, 36.700393264226875, 16.53476656785758, 16.817350052153326, 14.571757143587421, 13.911815572817625, 40.35242968993263, 16.58637535995447, 17.716548865995687, 20.597659246641054, 12.81100557402365, 16.615649312805893, 31.004679546664796, 28.83665129054814, 27.33799351793884, 47.83228364355753, 28.180999879355014, 17.982392674881435, 25.482499076298275, 89.04155908411994, 96.66260306004753, 99.78717882068736, 92.50967353523981, 157.56402855717914, 26.368691851139122, 67.39364572534132, 130.41332674165258, 72.02706285505535, 58.88818731160717, 89.32194891384282, 48.383691677090646, 65.62739295742516, 57.2120692112479, 111.65050340591193, 59.99284020974693, 71.19373852084256, 157.6911034630054, 154.73447492133826, 93.22532015642992, 230.3263147117723, 87.9234916371485, 85.05128172527905, 136.43370832402186, 227.45017856317753, 232.76763291027478, 78.96919567313715, 205.53986252622838, 162.26794131367447, 234.95854131072025, 140.84248894240554, 184.4017367717501, 184.71702037943587, 229.11854770592706, 132.05654200608726, 98.27726011927145, 155.50307896787058, 233.77024662066634, 122.94394985500786, 253.34225841705938, 259.32356582542366, 269.4314033871127, 249.09087412449037, 158.9771404664697, 157.70817466820085, 139.32657170986107, 137.56975506512242, 129.3466540248342, 177.86129811370466, 115.17251378763524, 111.20355501692347, 98.54421505219337, 333.52214915216007, 75.40755229397718, 63.95520563858401, 63.224626332521666, 62.20364779628088, 59.80130284744707, 308.6802046502147, 48.8713831487149, 46.7428275477859, 224.0144836401746, 45.7225420067354, 43.84957208447157, 43.710182248363196, 42.97188974615674, 42.09295238960173, 54.362962646723055, 554.6351522021226, 40.10821216574134, 39.14054828038464, 68.80389944172498, 897.7177766786373, 126.9464164551638, 265.16352119015204, 73.88418134246352, 104.75491859617621, 66.02808998587797, 50.26940814206139, 95.53527849557636, 76.39781915142224, 104.7550933427618, 180.46750775332828, 199.65669190217724, 25.60347778884061, 22.890844077374297, 41.30712651126421, 24.44364748101706, 23.30676704489909, 62.72583857055518, 19.366203850740245, 23.17441634940016, 30.172529574039714, 18.849759922125024, 23.656813202815147, 28.326766939017055, 71.04403655600254, 31.00688711060566, 49.21979743782365, 53.67029165119341, 54.831361718208655, 19.891871677957592, 25.999732798266518, 23.84221957406204, 32.405442267310384, 108.68416447036688, 46.79271671041394, 17.806702183715164, 252.79880697223075, 22.717263272297725, 20.717813937029852, 29.457801614652087, 25.87709682986713, 38.83520920675861, 34.75787995627723, 200.0108618189855, 69.35287725201033, 48.233900962182844, 73.109714760107, 145.55952152016968, 182.995998032326, 149.37936545305772, 202.59298148521722, 75.59207365430507, 304.9764262403043, 304.8594173118848, 175.98336555531787, 208.25120541228532, 98.65203605027335, 151.67039334520322, 126.60512018823516, 105.25217379581959, 245.5336926612099, 94.82017481293447, 156.0976996143612, 75.087870918594, 200.72786510300753, 280.07944913087306, 167.19793893263665, 295.94567551880147, 168.64167145538715, 397.66358674567056, 395.497128758268, 158.22579439270672, 147.7261652901471, 147.5786730404963, 147.34625649151405, 133.71807340416163, 130.5291832168975, 116.56659291418413, 113.78688628025235, 106.26163325674518, 109.13870095362371, 86.32759976160139, 80.69917878920214, 79.62497529865901, 77.23274797499958, 76.0668735679762, 74.47325512616469, 68.06612469888601, 60.236020270009625, 55.66216559415434, 55.006835276157, 52.64451453996767, 50.786162164273485, 48.604038867888974, 47.55289747318269, 47.43741179890152, 46.51592793046326, 138.11438182695875, 44.97027406122465, 162.82033686162973, 147.19052305371304, 134.68519769308972, 53.14530414313713, 412.6022022583924, 93.45717740040054, 138.76620536324629, 199.65669190217724, 34.28958561538271, 50.48956735004141, 38.80495159027411, 30.808120059101395, 28.359352655768, 27.505997440307162, 45.51994727108464, 28.752978771055094, 34.40625152564373, 26.361359325822477, 76.17456172813107, 33.34539130706916, 40.54021565121883, 51.55064744620551, 32.21913252720351, 53.30862382298816, 23.522400487376796, 22.623882098099322, 85.11193782800098, 120.93244088135995, 24.268077981332517, 23.697840791690783, 17.439713603996275, 19.881400448100877, 83.62363981370453, 18.183561279530664, 19.561823440365742, 19.01358387632561, 71.0279548166453, 24.049501269405084, 43.21066182474069, 49.354187641460605, 29.624362978413398, 76.94954529106023, 66.63693023679174, 101.65224827157627, 239.11206870501388, 86.18153033976647, 103.31136521500537, 230.3263147117723, 117.49758193838075, 134.253503993058, 44.20093448672799, 144.80751410986883, 64.31502195966283, 85.29783706952958, 47.61424092342342, 40.141945156680656, 39.80087043152871, 48.18054743549268, 52.210273671898676, 19.934618241420857, 83.05382668782428, 53.2488007274135, 22.050295434848184, 201.48144638350215, 22.691356744256616, 28.148453716191753, 40.281358125263985, 42.706952742812184, 22.297102599388055, 20.554474274725585, 112.49737121779052, 21.323268672857658, 44.264610966269956, 36.54968867682695, 34.06607333718511, 36.12538681700659, 44.639618138991096, 37.93285866106025, 78.95099187357683, 114.07901576666013, 83.0461243705056, 93.8479507029489, 190.2549916047341, 96.31246639183448, 147.3817830172278, 49.89043493939781, 77.36956117434158, 168.64167145538715, 49.300126121205906, 295.94567551880147, 91.47913824314503], \"Category\": [\"Default\", \"Default\", \"Default\", \"Default\", \"Default\", \"Default\", \"Default\", \"Default\", \"Default\", \"Default\", \"Default\", \"Default\", \"Default\", \"Default\", \"Default\", \"Default\", \"Default\", \"Default\", \"Default\", \"Default\", \"Default\", \"Default\", \"Default\", \"Default\", \"Default\", \"Default\", \"Default\", \"Default\", \"Default\", \"Default\", \"Topic1\", \"Topic1\", \"Topic1\", \"Topic1\", \"Topic1\", \"Topic1\", \"Topic1\", \"Topic1\", \"Topic1\", \"Topic1\", \"Topic1\", \"Topic1\", \"Topic1\", \"Topic1\", \"Topic1\", \"Topic1\", \"Topic1\", \"Topic1\", \"Topic1\", \"Topic1\", \"Topic1\", \"Topic1\", \"Topic1\", \"Topic1\", \"Topic1\", \"Topic1\", \"Topic1\", \"Topic1\", \"Topic1\", \"Topic1\", \"Topic1\", \"Topic1\", \"Topic1\", \"Topic1\", \"Topic1\", \"Topic1\", \"Topic1\", \"Topic1\", \"Topic1\", \"Topic1\", \"Topic1\", \"Topic1\", \"Topic1\", \"Topic1\", \"Topic1\", \"Topic1\", \"Topic1\", \"Topic1\", \"Topic1\", \"Topic1\", \"Topic1\", \"Topic1\", \"Topic1\", \"Topic1\", \"Topic1\", \"Topic1\", \"Topic1\", \"Topic1\", \"Topic1\", \"Topic1\", \"Topic1\", \"Topic1\", \"Topic1\", \"Topic1\", \"Topic1\", \"Topic1\", \"Topic1\", \"Topic1\", \"Topic1\", \"Topic1\", \"Topic1\", \"Topic1\", \"Topic1\", \"Topic1\", \"Topic1\", \"Topic1\", \"Topic1\", \"Topic1\", \"Topic1\", \"Topic1\", \"Topic1\", \"Topic2\", \"Topic2\", \"Topic2\", \"Topic2\", \"Topic2\", \"Topic2\", \"Topic2\", \"Topic2\", \"Topic2\", \"Topic2\", \"Topic2\", \"Topic2\", \"Topic2\", \"Topic2\", \"Topic2\", \"Topic2\", \"Topic2\", \"Topic2\", \"Topic2\", \"Topic2\", \"Topic2\", \"Topic2\", \"Topic2\", \"Topic2\", \"Topic2\", \"Topic2\", \"Topic2\", \"Topic2\", \"Topic2\", \"Topic2\", \"Topic2\", \"Topic2\", \"Topic2\", \"Topic2\", \"Topic2\", \"Topic2\", \"Topic2\", \"Topic2\", \"Topic2\", \"Topic2\", \"Topic2\", \"Topic2\", \"Topic2\", \"Topic2\", \"Topic2\", \"Topic2\", \"Topic2\", \"Topic2\", \"Topic2\", \"Topic2\", \"Topic2\", \"Topic2\", \"Topic2\", \"Topic2\", \"Topic2\", \"Topic2\", \"Topic2\", \"Topic2\", \"Topic2\", \"Topic2\", \"Topic2\", \"Topic2\", \"Topic2\", \"Topic2\", \"Topic2\", \"Topic2\", \"Topic2\", \"Topic2\", \"Topic2\", \"Topic2\", \"Topic2\", \"Topic2\", \"Topic2\", \"Topic2\", \"Topic2\", \"Topic2\", \"Topic3\", \"Topic3\", \"Topic3\", \"Topic3\", \"Topic3\", \"Topic3\", \"Topic3\", \"Topic3\", \"Topic3\", \"Topic3\", \"Topic3\", \"Topic3\", \"Topic3\", \"Topic3\", \"Topic3\", \"Topic3\", \"Topic3\", \"Topic3\", \"Topic3\", \"Topic3\", \"Topic3\", \"Topic3\", \"Topic3\", \"Topic3\", \"Topic3\", \"Topic3\", \"Topic3\", \"Topic3\", \"Topic3\", \"Topic3\", \"Topic3\", \"Topic3\", \"Topic3\", \"Topic3\", \"Topic3\", \"Topic3\", \"Topic3\", \"Topic3\", \"Topic3\", \"Topic3\", \"Topic3\", \"Topic3\", \"Topic3\", \"Topic3\", \"Topic3\", \"Topic3\", \"Topic3\", \"Topic3\", \"Topic3\", \"Topic3\", \"Topic3\", \"Topic3\", \"Topic3\", \"Topic3\", \"Topic3\", \"Topic3\", \"Topic3\", \"Topic3\", \"Topic3\", \"Topic3\", \"Topic3\", \"Topic3\", \"Topic3\", \"Topic3\", \"Topic3\", \"Topic4\", \"Topic4\", \"Topic4\", \"Topic4\", \"Topic4\", \"Topic4\", \"Topic4\", \"Topic4\", \"Topic4\", \"Topic4\", \"Topic4\", \"Topic4\", \"Topic4\", \"Topic4\", \"Topic4\", \"Topic4\", \"Topic4\", \"Topic4\", \"Topic4\", \"Topic4\", \"Topic4\", \"Topic4\", \"Topic4\", \"Topic4\", \"Topic4\", \"Topic4\", \"Topic4\", \"Topic4\", \"Topic4\", \"Topic4\", \"Topic4\", \"Topic4\", \"Topic4\", \"Topic4\", \"Topic4\", \"Topic4\", \"Topic4\", \"Topic4\", \"Topic4\", \"Topic4\", \"Topic4\", \"Topic4\", \"Topic4\", \"Topic4\", \"Topic4\", \"Topic4\", \"Topic4\", \"Topic4\", \"Topic4\", \"Topic4\", \"Topic4\", \"Topic4\", \"Topic4\", \"Topic4\", \"Topic4\", \"Topic4\", \"Topic4\", \"Topic4\", \"Topic4\", \"Topic4\", \"Topic4\", \"Topic4\", \"Topic4\", \"Topic4\", \"Topic4\", \"Topic4\", \"Topic4\", \"Topic4\", \"Topic4\", \"Topic4\", \"Topic4\", \"Topic4\", \"Topic4\", \"Topic4\", \"Topic4\", \"Topic4\", \"Topic4\", \"Topic4\", \"Topic4\", \"Topic4\", \"Topic5\", \"Topic5\", \"Topic5\", \"Topic5\", \"Topic5\", \"Topic5\", \"Topic5\", \"Topic5\", \"Topic5\", \"Topic5\", \"Topic5\", \"Topic5\", \"Topic5\", \"Topic5\", \"Topic5\", \"Topic5\", \"Topic5\", \"Topic5\", \"Topic5\", \"Topic5\", \"Topic5\", \"Topic5\", \"Topic5\", \"Topic5\", \"Topic5\", \"Topic5\", \"Topic5\", \"Topic5\", \"Topic5\", \"Topic5\", \"Topic5\", \"Topic5\", \"Topic5\", \"Topic5\", \"Topic5\", \"Topic5\", \"Topic5\", \"Topic5\", \"Topic5\", \"Topic5\", \"Topic5\", \"Topic5\", \"Topic5\", \"Topic5\", \"Topic5\", \"Topic5\", \"Topic5\", \"Topic5\", \"Topic5\", \"Topic5\", \"Topic5\", \"Topic5\", \"Topic5\", \"Topic5\", \"Topic5\", \"Topic5\", \"Topic5\", \"Topic5\", \"Topic5\", \"Topic5\", \"Topic5\", \"Topic5\", \"Topic5\", \"Topic5\", \"Topic6\", \"Topic6\", \"Topic6\", \"Topic6\", \"Topic6\", \"Topic6\", \"Topic6\", \"Topic6\", \"Topic6\", \"Topic6\", \"Topic6\", \"Topic6\", \"Topic6\", \"Topic6\", \"Topic6\", \"Topic6\", \"Topic6\", \"Topic6\", \"Topic6\", \"Topic6\", \"Topic6\", \"Topic6\", \"Topic6\", \"Topic6\", \"Topic6\", \"Topic6\", \"Topic6\", \"Topic6\", \"Topic6\", \"Topic6\", \"Topic6\", \"Topic6\", \"Topic6\", \"Topic6\", \"Topic6\", \"Topic6\", \"Topic6\", \"Topic6\", \"Topic6\", \"Topic6\", \"Topic6\", \"Topic6\", \"Topic6\", \"Topic6\", \"Topic6\", \"Topic6\", \"Topic6\", \"Topic6\", \"Topic6\", \"Topic6\", \"Topic6\", \"Topic6\", \"Topic6\", \"Topic6\", \"Topic6\", \"Topic6\", \"Topic6\", \"Topic6\", \"Topic6\", \"Topic6\", \"Topic6\", \"Topic6\", \"Topic6\", \"Topic6\", \"Topic6\", \"Topic6\", \"Topic7\", \"Topic7\", \"Topic7\", \"Topic7\", \"Topic7\", \"Topic7\", \"Topic7\", \"Topic7\", \"Topic7\", \"Topic7\", \"Topic7\", \"Topic7\", \"Topic7\", \"Topic7\", \"Topic7\", \"Topic7\", \"Topic7\", \"Topic7\", \"Topic7\", \"Topic7\", \"Topic7\", \"Topic7\", \"Topic7\", \"Topic7\", \"Topic7\", \"Topic7\", \"Topic7\", \"Topic7\", \"Topic7\", \"Topic7\", \"Topic7\", \"Topic7\", \"Topic7\", \"Topic7\", \"Topic7\", \"Topic7\", \"Topic7\", \"Topic7\", \"Topic7\", \"Topic7\", \"Topic7\", \"Topic7\", \"Topic7\", \"Topic7\", \"Topic7\", \"Topic7\", \"Topic7\", \"Topic7\", \"Topic7\", \"Topic7\", \"Topic7\", \"Topic7\", \"Topic7\", \"Topic7\", \"Topic7\", \"Topic7\", \"Topic7\", \"Topic7\", \"Topic7\", \"Topic7\", \"Topic7\", \"Topic7\", \"Topic7\", \"Topic7\", \"Topic7\", \"Topic7\", \"Topic7\", \"Topic7\", \"Topic7\", \"Topic7\", \"Topic7\", \"Topic8\", \"Topic8\", \"Topic8\", \"Topic8\", \"Topic8\", \"Topic8\", \"Topic8\", \"Topic8\", \"Topic8\", \"Topic8\", \"Topic8\", \"Topic8\", \"Topic8\", \"Topic8\", \"Topic8\", \"Topic8\", \"Topic8\", \"Topic8\", \"Topic8\", \"Topic8\", \"Topic8\", \"Topic8\", \"Topic8\", \"Topic8\", \"Topic8\", \"Topic8\", \"Topic8\", \"Topic8\", \"Topic8\", \"Topic8\", \"Topic8\", \"Topic8\", \"Topic8\", \"Topic8\", \"Topic8\", \"Topic8\", \"Topic8\", \"Topic8\", \"Topic8\", \"Topic8\", \"Topic8\", \"Topic8\", \"Topic8\", \"Topic9\", \"Topic9\", \"Topic9\", \"Topic9\", \"Topic9\", \"Topic9\", \"Topic9\", \"Topic9\", \"Topic9\", \"Topic9\", \"Topic9\", \"Topic9\", \"Topic9\", \"Topic9\", \"Topic9\", \"Topic9\", \"Topic9\", \"Topic9\", \"Topic9\", \"Topic9\", \"Topic9\", \"Topic9\", \"Topic9\", \"Topic9\", \"Topic9\", \"Topic9\", \"Topic9\", \"Topic9\", \"Topic9\", \"Topic9\", \"Topic9\", \"Topic9\", \"Topic9\", \"Topic9\", \"Topic9\", \"Topic9\", \"Topic9\", \"Topic9\", \"Topic9\", \"Topic9\", \"Topic9\", \"Topic9\", \"Topic9\", \"Topic9\", \"Topic9\", \"Topic9\", \"Topic9\", \"Topic9\", \"Topic9\", \"Topic9\", \"Topic9\", \"Topic9\", \"Topic9\", \"Topic9\", \"Topic9\", \"Topic9\", \"Topic9\", \"Topic10\", \"Topic10\", \"Topic10\", \"Topic10\", \"Topic10\", \"Topic10\", \"Topic10\", \"Topic10\", \"Topic10\", \"Topic10\", \"Topic10\", \"Topic10\", \"Topic10\", \"Topic10\", \"Topic10\", \"Topic10\", \"Topic10\", \"Topic10\", \"Topic10\", \"Topic10\", \"Topic10\", \"Topic10\", \"Topic10\", \"Topic10\", \"Topic10\", \"Topic10\", \"Topic10\", \"Topic10\", \"Topic10\", \"Topic10\", \"Topic10\", \"Topic10\", \"Topic10\", \"Topic10\", \"Topic10\", \"Topic10\", \"Topic10\", \"Topic10\", \"Topic11\", \"Topic11\", \"Topic11\", \"Topic11\", \"Topic11\", \"Topic11\", \"Topic11\", \"Topic11\", \"Topic11\", \"Topic11\", \"Topic11\", \"Topic11\", \"Topic11\", \"Topic11\", \"Topic11\", \"Topic11\", \"Topic11\", \"Topic11\", \"Topic11\", \"Topic11\", \"Topic11\", \"Topic11\", \"Topic11\", \"Topic11\", \"Topic11\", \"Topic11\", \"Topic11\", \"Topic11\", \"Topic11\", \"Topic11\", \"Topic11\", \"Topic11\", \"Topic11\", \"Topic11\", \"Topic11\", \"Topic11\", \"Topic11\", \"Topic11\", \"Topic11\", \"Topic11\", \"Topic11\", \"Topic12\", \"Topic12\", \"Topic12\", \"Topic12\", \"Topic12\", \"Topic12\", \"Topic12\", \"Topic12\", \"Topic12\", \"Topic12\", \"Topic12\", \"Topic12\", \"Topic12\", \"Topic12\", \"Topic12\", \"Topic12\", \"Topic12\", \"Topic12\", \"Topic12\", \"Topic12\", \"Topic12\", \"Topic12\", \"Topic12\", \"Topic12\", \"Topic12\", \"Topic12\", \"Topic12\", \"Topic12\", \"Topic12\", \"Topic12\", \"Topic12\", \"Topic12\", \"Topic12\", \"Topic12\", \"Topic12\", \"Topic12\", \"Topic12\", \"Topic12\", \"Topic12\", \"Topic12\", \"Topic12\", \"Topic12\"], \"logprob\": [30.0, 29.0, 28.0, 27.0, 26.0, 25.0, 24.0, 23.0, 22.0, 21.0, 20.0, 19.0, 18.0, 17.0, 16.0, 15.0, 14.0, 13.0, 12.0, 11.0, 10.0, 9.0, 8.0, 7.0, 6.0, 5.0, 4.0, 3.0, 2.0, 1.0, -8.1388, -8.5852, -8.0334, -8.3369, -8.4464, -8.6756, -8.6739, -8.2663, -7.6422, -8.549, -8.3919, -8.2198, -8.0242, -7.7248, -7.4563, -7.7382, -7.4929, -8.3733, -8.0714, -8.9798, -8.0831, -7.9258, -8.2869, -8.3017, -9.0011, -7.2374, -9.0036, -8.5778, -8.7307, -8.3278, -7.6164, -7.2542, -6.1225, -6.7981, -6.4885, -6.5661, -6.4002, -7.3369, -7.0145, -6.3545, -6.9735, -7.6905, -7.319, -6.6979, -7.0731, -7.3499, -6.2549, -7.5424, -7.5009, -6.3615, -6.4649, -6.6234, -7.0574, -6.3231, -6.5407, -7.0573, -6.3889, -6.3996, -6.5403, -6.4053, -6.4869, -6.8334, -6.7403, -6.8864, -6.9007, -6.9892, -6.8445, -6.4418, -6.5565, -6.6643, -6.6759, -6.7131, -6.7576, -6.5499, -6.7144, -6.7521, -6.5985, -6.675, -6.7295, -6.7301, -6.7281, -8.1669, -8.0205, -7.4591, -8.2055, -7.6046, -8.66, -8.1156, -7.4134, -7.9748, -8.1261, -8.2876, -8.0844, -8.4566, -8.4883, -8.4735, -8.0393, -8.6756, -8.1589, -7.9315, -8.2569, -8.3311, -8.6387, -8.1341, -7.9287, -8.0975, -8.5728, -7.901, -8.4323, -8.4354, -8.5892, -7.1492, -7.2244, -7.8039, -7.1406, -7.0807, -6.4548, -6.5009, -6.3078, -6.7864, -5.9813, -6.5896, -6.4336, -6.6008, -6.2991, -7.0341, -7.466, -5.9697, -6.4857, -7.0374, -6.2014, -6.3225, -6.7411, -6.4381, -6.741, -6.4634, -6.5768, -6.7605, -6.1128, -6.3538, -6.2139, -6.3177, -6.1923, -6.4587, -6.4196, -6.1503, -6.3723, -6.6731, -6.4187, -6.4795, -6.477, -6.5366, -6.4426, -6.4888, -6.4692, -6.5199, -6.5561, -7.4778, -6.8949, -8.0008, -7.8678, -7.8388, -7.2439, -7.216, -7.2243, -6.0905, -7.6742, -8.0134, -7.3487, -7.5664, -6.2145, -7.087, -7.5146, -7.7563, -7.4671, -8.1431, -8.1167, -8.3148, -7.9096, -7.6399, -6.9312, -7.4725, -7.5935, -6.7843, -7.839, -7.2471, -7.816, -5.9872, -6.5056, -5.8977, -7.1702, -5.719, -5.6641, -5.961, -5.9654, -6.6608, -6.6175, -6.7278, -6.139, -6.0208, -5.638, -6.1487, -6.0444, -6.517, -6.3452, -5.8899, -5.8342, -6.0959, -6.3495, -6.0867, -6.1612, -5.9489, -6.1159, -6.2338, -6.377, -6.4085, -6.2561, -6.3229, -6.4247, -6.3551, -6.3616, -6.3475, -7.7819, -7.7375, -7.8615, -7.9858, -6.8311, -7.9994, -7.3217, -7.9375, -7.9613, -7.151, -7.2525, -7.1168, -7.5707, -7.6559, -7.8932, -7.9928, -7.9725, -7.5801, -7.7487, -7.7762, -7.1583, -8.0495, -7.6286, -7.4827, -8.1928, -7.6342, -7.6311, -7.2778, -8.1119, -8.2284, -6.8498, -6.9442, -7.2804, -6.1437, -7.368, -6.9583, -6.5328, -7.2966, -6.0028, -7.1951, -5.9748, -6.4675, -6.798, -6.6602, -6.5675, -6.5256, -6.6552, -7.0506, -7.0772, -6.5007, -6.2419, -6.3406, -6.4389, -6.0372, -6.981, -6.4093, -6.3887, -5.7062, -6.1485, -6.0401, -5.9293, -6.3923, -6.4252, -5.9939, -6.1969, -6.1005, -6.1083, -6.5249, -6.2055, -6.2913, -6.2097, -6.1942, -6.4915, -6.3359, -6.3483, -6.414, -6.4115, -6.4565, -6.4221, -6.4546, -6.8526, -6.9716, -7.278, -7.2906, -6.3059, -7.5293, -7.1508, -6.7004, -7.6309, -5.7653, -6.6427, -5.3558, -7.4476, -6.7925, -7.2056, -7.2524, -6.6172, -7.508, -7.6418, -7.1714, -7.6917, -7.0212, -7.7144, -7.5093, -5.9631, -7.6267, -7.0329, -7.6687, -7.5251, -7.2363, -5.8757, -6.7083, -6.7688, -5.6385, -5.1707, -5.9132, -6.1902, -6.8609, -6.8212, -5.9311, -6.1584, -6.3766, -6.7151, -5.8936, -6.1012, -6.3059, -6.2483, -6.4964, -6.4001, -6.1476, -6.2746, -6.0451, -6.0551, -6.0843, -6.3874, -6.1429, -6.2258, -6.3242, -6.2446, -6.2873, -6.3956, -6.3831, -6.3615, -6.38, -5.9918, -6.6273, -6.4237, -5.8829, -4.8131, -6.2672, -6.736, -6.8691, -6.7367, -6.6581, -6.9547, -6.485, -5.7695, -6.9162, -6.3795, -7.1655, -7.2334, -6.4984, -6.632, -7.0755, -7.2072, -7.3179, -7.1541, -6.8802, -7.3751, -6.3496, -7.1577, -6.9476, -7.3804, -6.3752, -6.9544, -6.2815, -6.9273, -6.606, -6.235, -5.4287, -6.6762, -6.2638, -6.4046, -6.5586, -5.7984, -6.7093, -5.302, -5.886, -5.3888, -6.0019, -5.6043, -5.9822, -6.0012, -5.6687, -5.8096, -5.7098, -5.7219, -5.9603, -5.9067, -5.9998, -6.0316, -5.887, -5.8762, -6.0546, -6.0778, -5.9787, -6.1089, -6.137, -6.1318, -6.1433, -6.7038, -6.978, -6.9575, -6.8805, -6.4159, -6.5519, -7.1733, -7.4989, -7.5059, -7.009, -7.2551, -7.2893, -6.5562, -7.3899, -7.3743, -7.5242, -7.5911, -6.537, -7.4596, -7.4171, -7.2889, -7.7659, -7.5071, -6.8906, -6.964, -7.0175, -6.4586, -7.0094, -7.462, -7.1146, -5.9113, -5.8652, -5.8981, -6.0347, -5.5955, -7.093, -6.36, -5.9247, -6.3755, -6.5282, -6.289, -6.6927, -6.4977, -6.5909, -6.1987, -6.5658, -6.471, -6.0198, -6.0571, -6.3344, -5.9071, -6.3892, -6.4318, -6.2418, -6.0738, -6.0877, -6.4726, -6.1671, -6.2602, -6.1708, -6.3223, -6.2968, -6.3094, -6.2908, -6.3727, -6.4201, -6.3722, -6.355, -6.4042, -6.3757, -6.4035, -3.67, -3.7489, -4.2007, -4.2088, -4.3338, -4.3466, -4.4088, -4.0909, -4.526, -4.5628, -4.6837, -3.4649, -4.9552, -5.1229, -5.1346, -5.1512, -5.1914, -3.5534, -5.3979, -5.4436, -3.8766, -5.4662, -5.5092, -5.5125, -5.53, -5.5513, -5.2961, -2.9738, -5.6011, -5.6263, -5.067, -2.5617, -4.4767, -3.7832, -5.0187, -4.6988, -5.1287, -5.3817, -4.8491, -5.0396, -4.8696, -4.5476, -4.536, -6.0482, -6.2595, -5.6883, -6.2293, -6.3012, -5.3198, -6.4983, -6.3423, -6.0902, -6.5854, -6.3763, -6.1969, -5.2785, -6.1152, -5.6568, -5.5812, -5.5772, -6.617, -6.3552, -6.4523, -6.1509, -4.9704, -5.839, -6.8335, -4.1837, -6.6153, -6.7125, -6.386, -6.5311, -6.1303, -6.2419, -4.533, -5.5931, -5.9494, -5.6271, -5.0648, -4.9197, -5.0788, -4.8462, -5.6167, -4.6815, -4.7103, -5.1109, -5.0251, -5.5041, -5.3164, -5.4258, -5.5223, -5.1313, -5.5795, -5.4001, -5.724, -5.3736, -5.3489, -5.5222, -5.5888, -5.654, -2.9673, -2.9728, -3.8934, -3.9626, -3.9637, -3.9652, -4.0631, -4.0875, -4.2017, -4.2261, -4.2953, -4.271, -4.5057, -4.5741, -4.5877, -4.6187, -4.6341, -4.6556, -4.7471, -4.8717, -4.9523, -4.9644, -5.0093, -5.0461, -5.0911, -5.1135, -5.116, -5.1361, -4.0484, -5.1708, -3.8858, -4.0156, -4.1138, -5.0084, -3.149, -4.6064, -4.613, -4.52, -5.1414, -4.8483, -5.1181, -5.3692, -5.4886, -5.5379, -5.0764, -5.5393, -5.4632, -5.7367, -4.6854, -5.515, -5.3579, -5.1581, -5.7072, -5.2047, -6.1002, -6.1457, -4.8743, -4.5372, -6.1694, -6.2317, -6.5598, -6.4384, -5.0162, -6.5516, -6.4879, -6.5395, -5.2391, -6.3295, -5.7947, -5.8316, -6.2007, -5.5422, -5.6567, -5.7464, -5.4537, -5.8261, -5.8208, -5.8327, -5.9295, -3.6583, -4.8729, -3.688, -4.5862, -4.3809, -5.0205, -5.2109, -5.2285, -5.1316, -5.0597, -6.0627, -4.6539, -5.1364, -6.0225, -3.8441, -6.0303, -5.8372, -5.4829, -5.4467, -6.0975, -6.19, -4.5192, -6.1841, -5.458, -5.702, -5.7826, -5.7496, -5.5626, -5.7266, -5.0135, -4.8254, -5.1468, -5.0692, -4.6341, -5.1726, -4.9619, -5.5802, -5.3893, -5.0681, -5.631, -5.2457, -5.6071], \"loglift\": [30.0, 29.0, 28.0, 27.0, 26.0, 25.0, 24.0, 23.0, 22.0, 21.0, 20.0, 19.0, 18.0, 17.0, 16.0, 15.0, 14.0, 13.0, 12.0, 11.0, 10.0, 9.0, 8.0, 7.0, 6.0, 5.0, 4.0, 3.0, 2.0, 1.0, 1.1929, 1.188, 1.1622, 1.1592, 1.1576, 1.1564, 1.1559, 1.1499, 1.1479, 1.1478, 1.1471, 1.144, 1.1392, 1.1348, 1.1346, 1.1313, 1.1281, 1.1199, 1.1128, 1.112, 1.1099, 1.1092, 1.1081, 1.1059, 1.1058, 1.1056, 1.1018, 1.1011, 1.1007, 1.0971, 1.0949, 1.0832, 1.0586, 1.062, 1.0473, 1.0488, 1.031, 1.0692, 1.051, 0.9936, 1.0211, 1.0813, 1.0314, 0.9289, 0.9759, 1.01, 0.8113, 1.0224, 1.0135, 0.7787, 0.7799, 0.8156, 0.9108, 0.7221, 0.7464, 0.8893, 0.6981, 0.7004, 0.7342, 0.6879, 0.6876, 0.8101, 0.773, 0.8296, 0.8363, 0.8642, 0.7743, 0.4921, 0.5532, 0.6187, 0.6225, 0.6511, 0.6864, 0.4331, 0.6256, 0.6371, 0.3829, 0.4313, 0.4743, 0.4518, 0.3798, 1.6225, 1.6161, 1.5872, 1.576, 1.5556, 1.5402, 1.5294, 1.5273, 1.5097, 1.5071, 1.5039, 1.4973, 1.4688, 1.4586, 1.4473, 1.4438, 1.442, 1.4387, 1.4347, 1.4319, 1.4305, 1.4226, 1.421, 1.4147, 1.4144, 1.4106, 1.402, 1.3923, 1.3923, 1.3918, 1.3881, 1.3839, 1.387, 1.3769, 1.3718, 1.3261, 1.2625, 1.214, 1.2648, 1.1635, 1.23, 1.2004, 1.2105, 1.1519, 1.2577, 1.3307, 1.0337, 1.1274, 1.2394, 1.0564, 1.0724, 1.1685, 1.0645, 1.1447, 1.0476, 1.0706, 1.1236, 0.8995, 0.9651, 0.894, 0.9203, 0.8508, 0.9681, 0.9379, 0.7836, 0.8661, 1.0585, 0.8328, 0.8394, 0.8362, 0.8358, 0.6671, 0.6829, 0.6178, 0.5646, 0.7423, 1.9557, 1.9149, 1.901, 1.892, 1.8817, 1.8691, 1.8627, 1.8585, 1.8566, 1.8537, 1.853, 1.8489, 1.8359, 1.8284, 1.8273, 1.8108, 1.8101, 1.802, 1.7984, 1.7933, 1.787, 1.7848, 1.7781, 1.7728, 1.7716, 1.7698, 1.7631, 1.7469, 1.745, 1.7418, 1.7332, 1.721, 1.7055, 1.6948, 1.5244, 1.4991, 1.531, 1.5119, 1.6218, 1.6091, 1.602, 1.403, 1.3674, 1.252, 1.3576, 1.2967, 1.4284, 1.3409, 1.1409, 1.0962, 1.1978, 1.3183, 1.1366, 1.1792, 1.019, 1.1044, 1.1551, 1.267, 1.2945, 0.9539, 0.9294, 1.0822, 0.8545, 0.7761, 0.6755, 2.0568, 2.0555, 2.0473, 2.0285, 2.0245, 2.0091, 2.0086, 1.9934, 1.9897, 1.983, 1.9714, 1.9692, 1.9671, 1.967, 1.9632, 1.9574, 1.957, 1.9543, 1.9506, 1.9437, 1.9417, 1.9402, 1.9377, 1.9272, 1.9252, 1.923, 1.922, 1.922, 1.921, 1.9174, 1.9124, 1.9071, 1.9102, 1.8727, 1.907, 1.8805, 1.8376, 1.9001, 1.7746, 1.89, 1.7641, 1.8129, 1.8242, 1.797, 1.778, 1.7292, 1.7497, 1.8301, 1.8306, 1.6768, 1.594, 1.6128, 1.5951, 1.4417, 1.7834, 1.5476, 1.5372, 1.2317, 1.4295, 1.3392, 1.2796, 1.5004, 1.5036, 1.2438, 1.3562, 1.2556, 1.1229, 1.4768, 1.1418, 1.2142, 1.1096, 1.0535, 1.432, 1.1127, 1.1044, 1.1838, 1.0178, 1.1542, 0.5458, 1.0061, 2.4068, 2.4016, 2.3851, 2.3843, 2.3672, 2.3627, 2.3599, 2.3232, 2.3105, 2.3005, 2.2814, 2.2787, 2.2696, 2.266, 2.2497, 2.2489, 2.2478, 2.2459, 2.228, 2.2252, 2.2069, 2.1901, 2.1893, 2.1867, 2.1724, 2.1605, 2.1588, 2.1533, 2.1481, 2.1455, 2.1315, 2.1311, 2.1289, 2.0619, 2.0063, 2.0454, 2.0709, 2.1145, 2.0753, 1.8323, 1.8469, 1.9046, 2.0101, 1.6222, 1.6874, 1.7801, 1.711, 1.8529, 1.7652, 1.5478, 1.5432, 1.2754, 1.2404, 1.1953, 1.5736, 1.1067, 1.2138, 1.3546, 1.1141, 1.1532, 1.4841, 1.2357, 0.8701, 1.0931, 3.0606, 3.0459, 3.0011, 2.9946, 2.9848, 2.9706, 2.9542, 2.9351, 2.9301, 2.9288, 2.9168, 2.9143, 2.9007, 2.8276, 2.7825, 2.7448, 2.7342, 2.7292, 2.7143, 2.7045, 2.6863, 2.6442, 2.6391, 2.6349, 2.6218, 2.6168, 2.6167, 2.6164, 2.6123, 2.5988, 2.5925, 2.5558, 2.5892, 2.5465, 2.4549, 2.2826, 2.5281, 2.3922, 2.3739, 2.4431, 2.0186, 2.4978, 1.588, 1.9583, 1.549, 2.0148, 1.5503, 1.9071, 1.8788, 1.4568, 1.5097, 1.3132, 1.246, 1.5785, 1.4588, 1.6365, 1.6458, 1.2347, 1.062, 1.4757, 1.4777, 0.9517, 1.3008, 1.4603, 1.2279, 1.2977, 2.8442, 2.7585, 2.6735, 2.6644, 2.6594, 2.6277, 2.5558, 2.5535, 2.5523, 2.5321, 2.5217, 2.5198, 2.499, 2.4627, 2.4613, 2.4547, 2.4343, 2.4234, 2.3898, 2.3665, 2.344, 2.3418, 2.3406, 2.3333, 2.3324, 2.3322, 2.3317, 2.31, 2.3066, 2.3054, 2.2576, 2.2216, 2.1569, 2.096, 2.0027, 2.2929, 2.0875, 1.8627, 2.0055, 2.0542, 1.8768, 2.0862, 1.9763, 2.0204, 1.744, 1.998, 1.9216, 1.5776, 1.5592, 1.7887, 1.3115, 1.7924, 1.783, 1.5004, 1.1573, 1.1203, 1.8164, 1.1653, 1.3086, 1.0278, 1.3881, 1.1442, 1.1299, 0.933, 1.4021, 1.6501, 1.2392, 0.8487, 1.4422, 0.7476, 0.6965, 3.3917, 3.3914, 3.3886, 3.3885, 3.3875, 3.3874, 3.3868, 3.3861, 3.3856, 3.3839, 3.3838, 3.3835, 3.38, 3.377, 3.3768, 3.3765, 3.3757, 3.3724, 3.371, 3.3698, 3.3697, 3.3692, 3.3681, 3.368, 3.3675, 3.3669, 3.3662, 3.3659, 3.3654, 3.3646, 3.3598, 3.2965, 3.3376, 3.2945, 3.3368, 3.3076, 3.3393, 3.359, 3.2495, 3.2825, 3.1369, 2.9149, 2.8255, 3.3671, 3.2679, 3.2487, 3.2324, 3.2081, 3.1995, 3.1963, 3.1727, 3.161, 3.1362, 3.1181, 3.1173, 3.1163, 3.1087, 3.1049, 3.094, 3.0766, 3.0507, 3.0448, 3.0343, 3.0288, 2.9992, 2.9733, 2.945, 2.9418, 2.9196, 2.9145, 2.8891, 2.8736, 2.8684, 2.8677, 2.8267, 2.8257, 2.8326, 2.7389, 2.6126, 2.5289, 2.5728, 2.5006, 2.716, 2.2563, 2.2279, 2.3768, 2.2942, 2.5624, 2.3199, 2.3912, 2.4794, 2.0234, 2.5266, 2.2074, 2.6154, 1.9825, 1.674, 2.0167, 1.3791, 1.8763, 3.7052, 3.7051, 3.7006, 3.7001, 3.7, 3.7, 3.6992, 3.699, 3.6979, 3.6976, 3.6969, 3.6944, 3.6942, 3.6933, 3.693, 3.6926, 3.6923, 3.692, 3.6905, 3.6881, 3.6865, 3.6862, 3.6852, 3.6844, 3.6833, 3.6827, 3.6827, 3.6821, 3.6816, 3.6812, 3.6796, 3.6508, 3.6413, 3.6766, 3.4866, 3.5141, 3.1122, 2.8414, 3.9818, 3.888, 3.8814, 3.8611, 3.8245, 3.8057, 3.7635, 3.7601, 3.6566, 3.6494, 3.6396, 3.6362, 3.5979, 3.5574, 3.4783, 3.4773, 3.3999, 3.3934, 3.3398, 3.3257, 3.2995, 3.261, 3.2395, 3.2299, 3.2156, 3.2059, 3.1966, 3.1734, 3.1559, 3.1484, 3.0973, 2.9274, 3.0688, 2.7727, 2.8021, 2.2901, 1.7274, 2.3755, 2.1995, 1.3859, 1.9621, 4.1, 3.9964, 3.9947, 3.908, 3.8311, 3.7744, 3.7547, 3.7456, 3.6516, 3.6431, 3.6029, 3.5847, 3.5467, 3.5423, 3.5083, 3.5058, 3.4834, 3.4793, 3.457, 3.4561, 3.445, 3.4159, 3.4142, 3.4099, 3.3574, 3.3471, 3.3214, 3.2968, 3.2956, 3.2758, 3.0957, 3.0918, 3.0472, 2.7756, 2.9178, 2.7032, 3.168, 2.9202, 2.4622, 3.1292, 1.7222, 2.5349]}, \"token.table\": {\"Topic\": [1, 2, 3, 4, 5, 6, 7, 8, 9, 10, 11, 12, 1, 2, 3, 4, 5, 6, 8, 9, 10, 12, 1, 2, 3, 4, 5, 6, 7, 9, 11, 12, 1, 2, 3, 5, 10, 11, 1, 2, 3, 4, 5, 6, 7, 8, 10, 12, 1, 2, 3, 4, 5, 6, 7, 8, 12, 1, 3, 4, 5, 6, 12, 1, 2, 3, 4, 5, 6, 9, 10, 12, 1, 3, 4, 6, 7, 12, 1, 3, 6, 7, 12, 1, 2, 3, 4, 5, 6, 8, 9, 10, 12, 1, 2, 3, 4, 6, 10, 12, 1, 2, 3, 4, 5, 6, 9, 10, 12, 1, 2, 3, 4, 5, 6, 7, 8, 9, 10, 12, 1, 3, 4, 5, 6, 9, 1, 2, 3, 4, 7, 1, 2, 3, 4, 5, 6, 7, 9, 11, 1, 2, 3, 4, 5, 6, 7, 9, 11, 1, 2, 5, 7, 11, 1, 2, 3, 4, 5, 6, 7, 9, 2, 3, 4, 6, 1, 3, 4, 5, 7, 8, 1, 2, 6, 9, 1, 2, 3, 4, 5, 6, 7, 11, 1, 2, 3, 4, 6, 9, 1, 2, 3, 4, 5, 6, 7, 9, 11, 12, 1, 2, 3, 5, 8, 10, 11, 1, 2, 3, 4, 5, 10, 1, 2, 3, 5, 2, 3, 4, 6, 9, 10, 1, 2, 3, 4, 5, 6, 7, 1, 3, 6, 7, 8, 10, 11, 1, 2, 3, 4, 5, 6, 7, 9, 1, 2, 3, 4, 8, 11, 1, 2, 3, 4, 5, 6, 7, 9, 11, 1, 2, 3, 4, 5, 6, 1, 2, 4, 3, 4, 6, 1, 2, 3, 4, 5, 6, 9, 1, 4, 5, 7, 3, 4, 7, 1, 2, 3, 4, 5, 6, 7, 8, 9, 10, 1, 3, 11, 1, 4, 5, 1, 2, 3, 11, 1, 2, 4, 11, 1, 3, 6, 1, 8, 10, 10, 10, 2, 3, 4, 7, 11, 2, 3, 4, 6, 7, 1, 2, 3, 4, 5, 6, 7, 9, 12, 8, 1, 2, 3, 4, 5, 6, 7, 1, 2, 3, 4, 5, 6, 7, 1, 2, 3, 4, 5, 6, 9, 10, 11, 12, 1, 2, 1, 2, 3, 4, 5, 6, 7, 11, 12, 1, 2, 6, 7, 4, 6, 9, 1, 2, 3, 4, 5, 7, 11, 1, 2, 3, 4, 5, 7, 11, 2, 4, 9, 4, 9, 1, 2, 3, 4, 5, 6, 7, 9, 11, 12, 1, 2, 4, 12, 1, 2, 3, 4, 6, 9, 1, 2, 3, 4, 5, 6, 7, 9, 11, 1, 3, 6, 7, 9, 12, 1, 2, 3, 4, 6, 7, 9, 1, 2, 3, 5, 9, 1, 1, 2, 3, 4, 5, 6, 7, 8, 9, 12, 1, 5, 1, 3, 4, 7, 1, 2, 3, 4, 5, 7, 11, 1, 2, 3, 4, 5, 6, 7, 11, 1, 2, 3, 4, 5, 6, 7, 9, 12, 1, 2, 3, 4, 5, 7, 11, 1, 2, 11, 3, 1, 3, 11, 1, 2, 3, 6, 1, 2, 3, 4, 5, 6, 7, 11, 3, 4, 1, 3, 4, 1, 2, 4, 9, 1, 2, 3, 5, 6, 7, 1, 2, 3, 4, 6, 7, 1, 2, 3, 5, 7, 8, 11, 12, 1, 2, 3, 4, 5, 11, 1, 3, 4, 7, 1, 2, 4, 6, 1, 3, 1, 2, 3, 5, 6, 10, 1, 2, 3, 4, 5, 6, 7, 11, 1, 2, 3, 4, 5, 6, 11, 1, 2, 3, 4, 5, 6, 9, 12, 1, 2, 11, 1, 2, 3, 4, 5, 6, 9, 12, 3, 4, 6, 9, 12, 8, 1, 2, 3, 4, 5, 6, 7, 9, 8, 1, 2, 6, 8, 10, 1, 2, 4, 6, 1, 2, 3, 4, 6, 7, 11, 1, 2, 6, 7, 1, 4, 7, 1, 2, 3, 6, 7, 9, 12, 1, 2, 3, 4, 5, 6, 7, 11, 12, 1, 2, 3, 4, 5, 7, 8, 11, 12, 1, 2, 3, 4, 5, 6, 7, 9, 11, 12, 1, 2, 4, 1, 2, 4, 5, 6, 12, 1, 4, 1, 4, 5, 6, 7, 1, 2, 4, 6, 12, 1, 2, 3, 4, 5, 6, 7, 9, 11, 12, 1, 5, 1, 2, 3, 4, 6, 7, 9, 12, 1, 3, 6, 9, 1, 2, 3, 4, 5, 6, 7, 9, 11, 12, 2, 3, 4, 5, 1, 3, 5, 7, 8, 1, 2, 3, 4, 5, 6, 7, 9, 11, 1, 2, 5, 6, 8, 1, 3, 4, 11, 3, 4, 6, 9, 1, 4, 7, 1, 2, 4, 6, 7, 1, 2, 3, 4, 5, 6, 7, 9, 2, 4, 6, 1, 2, 6, 1, 2, 4, 6, 9, 1, 2, 6, 1, 2, 4, 11, 1, 2, 3, 4, 5, 6, 9, 12, 1, 2, 6, 1, 3, 4, 5, 7, 1, 2, 3, 4, 5, 6, 7, 9, 11, 1, 2, 3, 4, 6, 9, 11, 12, 1, 2, 3, 5, 6, 9, 1, 2, 3, 4, 6, 1, 2, 5, 6, 10, 1, 2, 3, 4, 5, 6, 7, 8, 11, 1, 3, 5, 7, 8, 6, 8, 2, 6, 1, 2, 1, 2, 4, 6, 1, 2, 1, 2, 3, 4, 5, 7, 8, 11, 12, 1, 2, 3, 4, 5, 7, 11, 8, 1, 2, 3, 4, 5, 6, 7, 11, 12, 8, 10, 1, 2, 3, 7, 1, 2, 3, 4, 5, 7, 11, 1, 2, 3, 4, 7, 1, 2, 3, 4, 5, 7, 8, 10, 12, 1, 2, 3, 4, 5, 6, 7, 11, 1, 2, 5, 7, 11, 12, 1, 2, 3, 12, 1, 3, 1, 4, 6, 9, 3, 4, 9, 1, 3, 8, 1, 11, 1, 2, 6, 1, 2, 3, 4, 6, 9, 11, 10, 1, 3, 4, 7, 1, 2, 10, 10, 3, 8, 10, 1, 2, 3, 4, 5, 6, 9, 1, 2, 4, 5, 6, 9, 1, 2, 6, 1, 2, 3, 4, 5, 7, 11, 1, 2, 3, 4, 5, 7, 8, 1, 3, 4, 5, 6, 7, 9, 1, 2, 3, 5, 6, 7, 8, 10, 11, 1, 2, 8, 12, 1, 2, 3, 4, 5, 7, 1, 2, 3, 7, 8, 3, 4, 6, 9, 1, 2, 3, 4, 5, 6, 7, 11, 1, 3, 8, 3, 4, 6, 9, 1, 2, 3, 4, 5, 6, 10, 1, 2, 4, 6, 12, 1, 2, 4, 6, 1, 2, 6, 2, 4, 6, 9, 2, 3, 6, 4, 10, 1, 2, 3, 4, 5, 6, 9, 1, 2, 3, 1, 2, 3, 4, 5, 6, 7, 8, 9, 10, 11, 3, 6, 11, 1, 2, 3, 4, 5, 6, 7, 1, 2, 3, 4, 6, 9, 1, 3, 8, 10, 1, 2, 6, 1, 2, 3, 1, 2, 3, 4, 5, 6, 7, 9, 11, 1, 2, 3, 4, 5, 6, 9, 1, 2, 3, 4, 5, 6, 9, 1, 2, 3, 8, 1, 2, 3, 4, 5, 6, 7, 9, 12, 1, 3, 4, 5, 7, 9, 10, 10, 10, 10, 10, 10, 1, 3, 5, 8, 1, 2, 3, 7, 8, 9, 1, 2, 5, 7, 1, 2, 3, 4, 4, 8, 4, 6, 1, 2, 3, 5, 7, 8, 1, 2, 5, 6, 8, 1, 2, 3, 4, 5, 7, 1, 3, 4, 1, 2, 3, 4, 5, 6, 7, 9, 11, 12, 1, 2, 3, 4, 5, 2, 3, 4, 6, 9, 1, 2, 3, 5, 7, 1, 2, 10, 1, 2, 3, 4, 5, 6, 7, 8, 8, 10, 8, 8, 1, 2, 3, 4, 5, 6, 7, 9, 1, 2, 3, 4, 5, 7, 11, 1, 4, 9, 11, 12, 1, 2, 3, 4, 5, 4, 9, 1, 2, 3, 4, 5, 6, 7, 11, 1, 2, 3, 4, 5, 6, 9, 3, 5, 6, 1, 4, 5, 1, 2, 3, 4, 5, 6, 7, 11, 12, 1, 2, 3, 4, 5, 6, 7, 8, 11, 12, 1, 2, 3, 4, 5, 6, 7, 10, 1, 2, 3, 4, 5, 6, 7, 10, 11, 1, 2, 3, 4, 6, 9, 1, 2, 3, 6, 9, 1, 2, 5, 8, 10, 11, 1, 2, 3, 4, 5, 6, 9, 1, 2, 3, 4, 5, 6, 7, 9, 12, 2, 5, 6, 7, 1, 2, 3, 4, 5, 6, 7, 8, 12, 1, 2, 3, 4, 5, 6, 7, 8, 10, 1, 2, 5, 1, 2, 3, 4, 5, 6, 7, 9, 2, 4, 6, 1, 2, 3, 4, 5, 7, 8, 11, 1, 2, 3, 4, 5, 7, 8, 11, 1, 3, 5, 2, 3, 4, 6, 9, 12, 1, 2, 3, 4, 5, 6, 7, 11, 12, 1, 2, 3, 4, 5, 6, 7, 9, 11, 1, 2, 3, 4, 5, 6, 7, 9, 11, 1, 2, 3, 4, 6, 7, 9, 1, 2, 3, 4, 6, 7, 9, 12, 1, 2, 4, 5, 12, 1, 2, 3, 4, 5, 6, 7, 9, 11, 10, 5, 2, 3, 5, 1, 2, 3, 4, 5, 6, 7, 9, 1, 2, 9, 3, 4, 6, 1, 2, 3, 4, 5, 7, 11, 1, 3, 4, 5, 7, 11, 1, 2, 3, 4, 5, 6, 7, 1, 2, 3, 4, 5, 6, 7, 11, 12, 1, 2, 3, 4, 6, 7, 9, 11, 3, 4, 6, 9, 11, 1, 2, 3, 4, 5, 6, 7, 1, 2, 3, 4, 5, 6, 7, 1, 2, 3, 4, 5, 6, 12, 1, 2, 3, 4, 5, 6, 7, 9, 2, 6, 2, 1, 2, 3, 4, 6, 9, 12, 1, 2, 3, 4, 5, 6, 9, 4, 9, 1, 2, 3, 5, 8, 10, 11, 1, 2, 6, 1, 2, 3, 5, 6, 7, 11, 1, 2, 3, 4, 5, 6, 7, 9, 12, 1, 2, 3, 6, 10, 1, 2, 3, 4, 5, 7, 1, 2, 3, 4, 5, 6, 9, 12, 1, 2, 3, 12, 2, 3, 6, 8, 10, 1, 2, 4, 6, 9, 1, 8, 1, 3, 5, 7, 8, 10, 11, 1, 2, 3, 4, 6, 7, 8, 10, 1, 2, 3, 4, 5, 11, 1, 2, 11, 1, 2, 3, 5, 6, 7, 8, 10, 11, 1, 2, 6, 7, 10, 1, 2, 3, 4, 5, 6, 7, 9, 10, 11, 12, 1, 2, 3, 4, 5, 7, 11, 1, 2, 3, 4, 5, 12, 1, 2, 3, 4, 5, 7, 11, 12, 1, 2, 4, 7, 1, 4, 9, 10, 1, 2, 3, 4, 5, 6, 7, 8, 10, 11, 8, 2, 3, 4, 6, 9, 1, 2, 3, 4, 5, 6, 9, 2, 3, 4, 5, 6, 9, 12, 10, 1, 2, 3, 4, 5, 6, 7, 8, 9, 12, 1, 2, 4, 6, 1, 2, 3, 4, 5, 6, 7, 9, 12, 1, 2, 3, 4, 5, 6, 7, 9, 1, 2, 7, 11, 1, 2, 3, 4, 5, 6, 7, 9, 1, 2, 4, 6, 9, 1, 2, 3, 4, 5, 7, 11, 1, 3, 8, 10, 11, 1, 2, 3, 4, 6, 9, 1, 2, 4, 5, 6, 9, 1, 5, 1, 2, 3, 4, 6, 7, 11, 12, 1, 2, 3, 4, 5, 6, 7, 9, 12, 1, 3, 5, 1, 2, 4, 5, 1, 2, 3, 4, 5, 11, 1, 2, 3, 5, 11, 1, 3, 4, 5, 7, 1, 3, 6, 8, 12, 1, 2, 3, 4, 6, 7, 9, 10, 1, 2, 3, 4, 6, 12, 1, 2, 4, 6, 7, 1, 2, 3, 6, 7, 10, 11, 12, 2, 11, 1, 6, 9, 1, 2, 3, 4, 5, 7, 11, 2, 3, 4, 7, 11, 1, 2, 12, 1, 2, 3, 4, 5, 6, 7, 8, 10, 11, 12, 1, 2, 4, 7, 1, 2, 3, 4, 5, 6, 7, 9, 11, 1, 2, 3, 4, 1, 10, 1, 2, 3, 4, 5, 6, 7, 1, 2, 3, 4, 1, 2, 4, 5, 6, 9, 1, 2, 3, 5, 7, 11, 1, 2, 3, 4, 5, 8, 10, 11, 1, 2, 5, 6, 1, 2, 4, 6, 9, 1, 2, 3, 4, 5, 6, 7, 1, 2, 3, 5, 7, 8, 1, 2, 3, 4, 5, 6, 7, 10, 1, 2, 3, 4, 5, 6, 7, 10, 1, 2, 6, 7, 8, 1, 2, 3, 4, 6, 9, 1, 3, 5, 7, 8, 11, 1, 2, 3, 4, 5, 6, 7, 9, 11, 10, 3, 8, 4, 6, 9, 1, 2, 3, 4, 5, 6, 7, 1, 2, 3, 4, 6, 7, 9, 11, 1, 2, 3, 4, 5, 6, 7, 10, 11, 12, 1, 2, 3, 4, 5, 6, 7, 8, 10, 11, 1, 2, 3, 4, 5, 6, 7, 11, 1, 2, 3, 4, 6, 3, 5, 8, 8, 1, 2, 1, 2, 4, 1, 2, 4, 5, 10, 4, 1, 3, 4, 5, 1, 3, 4, 5, 6, 9, 1, 2, 3, 6, 7, 12, 1, 2, 3, 4, 5, 6, 7, 11, 12, 1, 2, 4, 5, 8, 10, 1, 2, 3, 4, 5, 6, 7, 11, 1, 3, 5, 6, 9, 4, 9, 1, 2, 3, 4, 5, 1, 2, 4, 6, 1, 2, 4, 6, 3, 4, 1, 2, 12, 1, 2, 3, 4, 6, 7, 11, 1, 2, 4, 6, 1, 2, 3, 4, 5, 6, 9, 1, 3, 4, 5, 7, 1, 2, 3, 4, 5, 6, 7, 9, 12, 1, 2, 3, 4, 5, 7, 8, 10, 11, 12, 10, 1, 2, 3, 5, 1, 2, 3, 4, 5, 6, 7, 9, 12, 1, 2, 4, 6, 1, 2, 3, 7, 1, 2, 10, 1, 2, 3, 4, 5, 6, 7, 11, 1, 2, 3, 4, 5, 7, 11, 12, 1, 2, 5, 7, 11, 1, 2, 3, 5, 11, 1, 2, 1, 2, 3, 5, 7, 11, 1, 2, 3, 4, 5, 6, 7, 9, 11, 1, 2, 3, 4, 5, 6, 7, 11, 12, 8, 10, 1, 2, 3, 4, 5, 6, 7, 11, 12, 1, 2, 3, 5, 7, 1, 3, 5, 7, 8, 10, 11, 1, 3, 5, 7, 8, 10, 11, 1, 2, 3, 4, 5, 6, 7, 9, 1, 4, 5, 1, 2, 10, 1, 2, 3, 4, 5, 6, 7, 11, 1, 3, 7, 3, 1, 2, 3, 5, 1, 3, 1, 2, 3, 4, 5, 6, 7, 12, 1, 2, 3, 4, 5, 7, 11, 10, 3, 1, 2, 3, 4, 5, 7, 8, 11, 1, 2, 3, 5, 7, 11, 1, 2, 3, 4, 5, 6, 7, 9, 11, 1, 2, 1, 2, 3, 4, 5, 6, 7, 8, 9, 12, 1, 2, 3, 4, 5, 6, 7, 8, 9, 11, 12, 1, 2, 1, 2, 3, 4, 5, 6, 7, 9, 12, 1, 3, 7, 8, 8, 2, 4, 1, 2, 3, 4, 5, 6, 7, 8, 9, 11, 12, 1, 2, 3, 6, 9, 8, 1, 2, 3, 4, 5, 6, 7, 8, 11, 2, 3, 6, 1, 2, 3, 4, 5, 6, 7, 9, 1, 2, 3, 4, 5, 6, 7, 8, 9, 11, 1, 2, 3, 4, 5, 6, 7, 9, 11, 12, 1, 2, 3, 4, 5, 6, 7, 9, 11, 12, 5, 1, 5, 1, 6, 1, 2, 3, 4, 5, 6, 4, 5, 9, 1, 2, 4, 5, 9, 1, 2, 3, 4, 6, 9, 1, 3, 8, 1, 2, 3, 4, 2, 3, 4, 6, 12, 1, 2, 3, 4, 5, 6, 7, 11, 1, 2, 3, 4, 6, 7, 1, 3, 4, 6, 1, 8, 1, 2, 3, 11, 1, 2, 3, 4, 5, 7, 8, 11, 1, 2, 3, 4, 6, 11, 1, 2, 3, 4, 5, 7, 1, 2, 3, 4, 5, 6, 7, 1, 2, 3, 4, 5, 6, 7, 8, 9, 12, 8, 1, 2, 3, 4, 5, 6, 7, 8, 11, 1, 2, 4, 1, 2, 8, 1, 2, 3, 4, 5, 7, 1, 2, 3, 4, 6, 9, 1, 2, 4, 5, 6, 9, 1, 2, 3, 4, 11, 1, 2, 3, 4, 5, 6, 7, 1, 5, 7, 1, 3, 6, 7, 1, 2, 3, 4, 9, 1, 2, 3, 4, 6, 7, 9, 12, 1, 3, 4, 6, 9, 12, 1, 2, 3, 4, 5, 6, 7, 1, 2, 3, 4, 5, 6, 7, 9, 3, 4, 1, 2, 3, 4, 5, 6, 1, 4, 6, 12, 1, 2, 3, 4, 5, 9, 1, 2, 3, 4, 6, 7, 11, 1, 1, 2, 4, 5, 6, 9, 1, 2, 3, 4, 5, 6, 7, 9, 12, 1, 2, 3, 4, 5, 6, 7, 9, 12, 1, 2, 3, 4, 5, 6, 7, 9, 11, 12, 1, 2, 6, 1, 2, 4, 6, 12, 8, 8, 1, 2, 3, 4, 5, 6, 7, 8, 9, 8, 1, 2, 3, 9, 1, 2, 3, 4, 5, 7, 8, 1, 2, 4, 5, 11, 1, 2, 1, 2, 3, 4, 5, 6, 7, 11, 1, 2, 6, 9, 2, 4, 6, 9, 1, 2, 3, 4, 5, 6, 7, 11, 3, 4, 6, 9, 1, 2, 3, 4, 7, 1, 3, 4, 5, 6, 12, 4, 9, 1, 2, 3, 4, 5, 6, 7, 9, 1, 3, 1, 2, 6, 1, 2, 3, 4, 5, 6, 7, 10, 1, 2, 3, 4, 5, 6, 7, 9, 1, 2, 3, 4, 5, 6, 7, 1, 2, 3, 4, 5, 6, 7, 1, 2, 5, 8, 3, 4, 5, 8, 4, 9, 10, 1, 3, 7, 10, 8, 1, 2, 3, 5, 7, 8, 9, 10, 12, 1, 2, 4, 1, 2, 3, 4, 5, 6, 7, 9, 11, 1, 2, 4, 1, 2, 3, 4, 5, 6, 7, 9, 11, 1, 2, 3, 4, 5, 6, 8, 9, 1, 4, 8, 1, 3, 4, 5, 9, 8, 1, 2, 3, 4, 5, 6, 7, 8, 11, 1, 2, 3, 4, 5, 6, 7, 8, 9, 11, 8, 10, 1, 2, 3, 4, 5, 6, 7, 9, 11, 1, 2, 3, 4, 7, 8, 11, 8, 1, 2, 3, 4, 7, 1, 2, 3, 5, 9, 1, 2, 5, 6, 7, 12, 1, 2, 3, 5, 6, 9, 1, 2, 3, 4, 5, 6, 7, 9, 1, 2, 3, 4, 5, 6, 7, 9, 8, 10, 10, 10, 1, 2, 3, 4, 5, 6, 7, 11, 1, 6, 11, 1, 2, 6, 1, 2, 3, 4, 5, 6, 7, 8, 1, 4, 5, 9, 1, 2, 3, 4, 5, 6, 7, 9, 12, 1, 2, 3, 4, 5, 6, 7, 11, 12, 1, 2, 3, 4, 5, 7, 8, 11, 12, 1, 2, 3, 4, 5, 7, 2, 4, 6, 1, 2, 3, 4, 5, 6, 7, 1, 2, 3, 4, 5, 6, 9, 5, 1, 2, 3, 4, 5, 6, 7, 9, 11, 12, 1, 3, 4, 5, 6, 9, 1, 2, 3, 12, 1, 2, 3, 4, 5, 7, 2, 3, 4, 1, 2, 3, 11, 1, 2, 1, 2, 3, 7, 5, 5, 1, 2, 3, 4, 5, 6, 9, 3, 11, 1, 2, 3, 5, 12, 1, 2, 4, 5, 6, 9, 1, 2, 4, 1, 2, 3, 4, 5, 7, 11, 1, 2, 4, 1, 2, 3, 4, 5, 6, 9, 1, 2, 3, 4, 5, 6, 9, 8, 5, 11, 1, 2, 3, 4, 5, 6, 7, 11, 12, 1, 1, 2, 3, 6, 7, 8, 1, 2, 3, 4, 5, 6, 7, 11, 1, 2, 4, 5, 7, 11, 8, 1, 2, 4, 5, 1, 2, 5, 1, 2, 3, 5, 11, 1, 2, 3, 5, 7, 8, 11, 1, 3, 4, 5, 6, 7, 1, 4, 5, 1, 2, 4, 6, 1, 2, 3, 4, 5, 6, 7, 12, 1, 2, 4, 10, 1, 3, 4, 5, 6, 9, 1, 2, 3, 4, 5, 6, 7, 9, 11, 12, 1, 2, 3, 4, 6, 9, 10, 11, 12, 3, 4, 1, 2, 3, 4, 5, 6, 1, 2, 3, 4, 5, 6, 1, 2, 3, 4, 5, 6, 7, 9, 11, 1, 2, 3, 4, 5, 6, 7, 8, 11, 12, 1, 2, 3, 4, 5, 6, 7, 9, 11, 1, 3, 8, 10, 1, 2, 3, 6, 1, 2, 3, 4, 5, 6, 7, 11, 3, 4, 5, 1, 3, 4, 5, 8, 11, 3, 4, 1, 2, 3, 5, 6, 7, 1, 2, 3, 4, 5, 6, 7, 4, 6, 7, 1, 2, 4, 5, 6, 9, 1, 2, 3, 4, 5, 6, 7, 11, 1, 2, 3, 5, 7, 12, 1, 2, 3, 4, 5, 7, 2, 3, 6, 1, 7, 8, 8, 10, 1, 11, 1, 2, 3, 4, 5, 7, 9, 12, 8, 1, 2, 3, 4, 5, 6, 7, 11, 1, 2, 3, 4, 5, 6, 9, 11, 1, 4, 1, 3, 4, 6, 7, 1, 4, 5, 2, 3, 7, 1, 2, 3, 4, 5, 6, 9, 11, 1, 4, 9, 1, 2, 3, 5, 6, 11, 1, 2, 3, 5, 11, 1, 4, 6, 1, 5, 1, 2, 3, 4, 5, 7, 11, 1, 2, 3, 4, 5, 7, 1, 2, 4, 5, 8, 10, 3, 4, 5, 9, 1, 2, 3, 4, 5, 6, 7, 8, 9, 11, 1, 3, 4, 10, 1, 2, 1, 2, 1, 2, 3, 4, 5, 6, 7, 1, 2, 3, 4, 5, 6, 7, 10, 1, 2, 4, 5, 9, 1, 2, 1, 2, 3, 4, 5, 6, 7, 9, 11, 12, 10, 1, 2, 3, 4, 5, 7, 11, 1, 2, 3, 6, 1, 2, 3, 4, 5, 6, 7, 9, 10, 1, 2, 3, 4, 5, 6, 7, 12, 3, 1, 2, 4, 1, 2, 3, 4, 5, 6, 7, 9, 12, 1, 2, 3, 4, 5, 6, 7, 11, 1, 2, 3, 4, 5, 6, 7, 9, 12, 1, 2, 3, 4, 5, 6, 7, 9, 12, 1, 3, 4, 6, 1, 2, 3, 4, 5, 6, 7, 9, 11, 1, 2, 3, 4, 5, 6, 7, 10], \"Freq\": [0.04743785999604693, 0.0355783949970352, 0.0711567899940704, 0.13638384748863494, 0.11266491749061146, 0.18975143998418773, 0.005929732499505866, 0.005929732499505866, 0.1956811724836936, 0.005929732499505866, 0.011859464999011733, 0.18382170748468185, 0.051699918408307295, 0.11632481641869141, 0.06462489801038412, 0.1550997552249219, 0.06462489801038412, 0.1550997552249219, 0.012924979602076824, 0.06462489801038412, 0.012924979602076824, 0.29727453084776695, 0.06013176681350076, 0.16035137816933537, 0.08017568908466768, 0.06013176681350076, 0.08017568908466768, 0.08017568908466768, 0.02004392227116692, 0.02004392227116692, 0.04008784454233384, 0.3808345231521715, 0.05734039117310115, 0.05734039117310115, 0.17202117351930343, 0.1146807823462023, 0.05734039117310115, 0.40138273821170806, 0.08208004250121136, 0.027360014167070453, 0.21888011333656363, 0.054720028334140906, 0.027360014167070453, 0.08208004250121136, 0.027360014167070453, 0.027360014167070453, 0.027360014167070453, 0.4651202408401977, 0.022591410568637085, 0.022591410568637085, 0.22591410568637083, 0.022591410568637085, 0.04518282113727417, 0.11295705284318541, 0.04518282113727417, 0.022591410568637085, 0.47441962194137877, 0.045350866293591904, 0.13605259888077573, 0.045350866293591904, 0.18140346517436762, 0.045350866293591904, 0.5442103955231029, 0.019153318488315713, 0.019153318488315713, 0.13407322941820998, 0.057459955464947136, 0.03830663697663143, 0.057459955464947136, 0.019153318488315713, 0.019153318488315713, 0.6129061916261028, 0.021002119966761008, 0.08400847986704403, 0.06300635990028303, 0.06300635990028303, 0.042004239933522015, 0.6930699589031133, 0.04524791213634931, 0.04524791213634931, 0.022623956068174654, 0.022623956068174654, 0.8597103305906368, 0.08304409348463233, 0.11072545797950978, 0.11072545797950978, 0.08304409348463233, 0.05536272898975489, 0.05536272898975489, 0.027681364494877445, 0.027681364494877445, 0.027681364494877445, 0.4429018319180391, 0.04982319596605668, 0.02491159798302834, 0.12455798991514169, 0.02491159798302834, 0.04982319596605668, 0.02491159798302834, 0.6726131455417651, 0.03517088009575886, 0.04689450679434515, 0.058618133492931435, 0.023447253397172574, 0.011723626698586287, 0.011723626698586287, 0.058618133492931435, 0.011723626698586287, 0.7268648553123498, 0.03612115322844963, 0.048161537637932836, 0.07224230645689926, 0.06020192204741605, 0.024080768818966418, 0.07224230645689926, 0.024080768818966418, 0.012040384409483209, 0.07224230645689926, 0.012040384409483209, 0.5658980672457108, 0.05615863003058107, 0.05615863003058107, 0.05615863003058107, 0.05615863003058107, 0.1684758900917432, 0.5615863003058108, 0.07188134393859459, 0.14376268787718918, 0.14376268787718918, 0.07188134393859459, 0.5031694075701622, 0.19266888606637703, 0.07308130161138439, 0.4783503378199706, 0.07308130161138439, 0.04650628284360825, 0.026575018767776144, 0.0930125656872165, 0.006643754691944036, 0.006643754691944036, 0.10146418947314696, 0.06341511842071686, 0.29170954473529753, 0.1331717486835054, 0.1268302368414337, 0.03170755921035843, 0.20292837894629392, 0.006341511842071685, 0.0443905828945018, 0.8499395540915488, 0.0579504241426056, 0.0386336160950704, 0.0386336160950704, 0.0193168080475352, 0.291196162836267, 0.16239786004330273, 0.12879830279296423, 0.07279904070906675, 0.25759660558592845, 0.033599557250338495, 0.03919948345872824, 0.016799778625169248, 0.06277064458291841, 0.06277064458291841, 0.7532477349950208, 0.0941559668743776, 0.06862590353010851, 0.06862590353010851, 0.20587771059032556, 0.06862590353010851, 0.4803813247107596, 0.06862590353010851, 0.055218384600808065, 0.7178389998105048, 0.055218384600808065, 0.055218384600808065, 0.2538167372605264, 0.20766823957679434, 0.1707494414298087, 0.01845939907349283, 0.28612068563913884, 0.03230394837861245, 0.023074248841866037, 0.004614849768373208, 0.04024793340227683, 0.10464462684591976, 0.016099173360910733, 0.5634710676318756, 0.10464462684591976, 0.15294214692865196, 0.17184519814839913, 0.1546606783335592, 0.24058327740775878, 0.1417722884724293, 0.09021872902790955, 0.012888389861129935, 0.12888389861129934, 0.008592259907419957, 0.008592259907419957, 0.0386651695833898, 0.5917741283884725, 0.16244779994977676, 0.034810242846380735, 0.011603414282126912, 0.011603414282126912, 0.011603414282126912, 0.17405121423190367, 0.040518802854002355, 0.040518802854002355, 0.030389102140501768, 0.010129700713500589, 0.8610245606475501, 0.010129700713500589, 0.047793850448906425, 0.047793850448906425, 0.023896925224453212, 0.8363923828558625, 0.07060459826939221, 0.10590689740408832, 0.07060459826939221, 0.035302299134696104, 0.670743683559226, 0.9895664787680808, 0.26440209165768186, 0.44898468394700697, 0.10476309292096829, 0.0947856554999237, 0.0299323122631338, 0.024943593552611498, 0.024943593552611498, 0.2555998941122493, 0.05111997882244986, 0.10223995764489972, 0.05111997882244986, 0.05111997882244986, 0.05111997882244986, 0.4089598305795989, 0.3296669662988938, 0.029969724208990346, 0.1648334831494469, 0.17482339121911036, 0.2647325638460814, 0.0049949540348317245, 0.014984862104495173, 0.009989908069663449, 0.08719345662412642, 0.05812897108275094, 0.14532242770687737, 0.02906448554137547, 0.02906448554137547, 0.6394186819102604, 0.43465459023504616, 0.283301652563914, 0.062093512890720876, 0.05045097922371072, 0.10478280300309148, 0.015523378222680219, 0.02328506733402033, 0.0038808445556700547, 0.015523378222680219, 0.032794366754050924, 0.016397183377025462, 0.7870648020972223, 0.04919155013107639, 0.016397183377025462, 0.09838310026215279, 0.13292634483801302, 0.7310948966090717, 0.06646317241900651, 0.07243372976129288, 0.7967710273742217, 0.07243372976129288, 0.04265856116709681, 0.014219520389032271, 0.08531712233419363, 0.6540979378954844, 0.04265856116709681, 0.028439040778064542, 0.12797568350129043, 0.3336597141703536, 0.0556099523617256, 0.1668298570851768, 0.4448796188938048, 0.08965766177004354, 0.8069189559303919, 0.04482883088502177, 0.17964220775928968, 0.08083899349168036, 0.3413201947426504, 0.15718693178937848, 0.02245527596991121, 0.0853300486856626, 0.013473165581946726, 0.013473165581946726, 0.09431215907362708, 0.013473165581946726, 0.40238614079946167, 0.15089480279979814, 0.40238614079946167, 0.05865724801100648, 0.05865724801100648, 0.7625442241430843, 0.202536000668506, 0.33756000111417667, 0.06751200022283534, 0.33756000111417667, 0.864837941855173, 0.08824876957705848, 0.017649753915411695, 0.017649753915411695, 0.13973930044460706, 0.13973930044460706, 0.6288268520007317, 0.014534059960467395, 0.9592479573908481, 0.967343788587048, 0.9865605326962121, 0.984336926722325, 0.032909570772457146, 0.7898296985389716, 0.032909570772457146, 0.06581914154491429, 0.032909570772457146, 0.04181276425988449, 0.3554084962090182, 0.08362552851976898, 0.06271914638982674, 0.43903402472878716, 0.02481618079355526, 0.029779416952266314, 0.12904414012648735, 0.11911766780906526, 0.004963236158711052, 0.06452207006324367, 0.004963236158711052, 0.08933825085679895, 0.5261030328233716, 0.9608745111460331, 0.15947409587583164, 0.09259786212145063, 0.5298655443616341, 0.030865954040483545, 0.06173190808096709, 0.046298931060725315, 0.07716488510120886, 0.4217888093301255, 0.40384034935863083, 0.02243557496436838, 0.04487114992873676, 0.07628095487885249, 0.004487114992873676, 0.017948459971494704, 0.19990590376453732, 0.5938381258887726, 0.011759170809678665, 0.10583253728710798, 0.011759170809678665, 0.005879585404839333, 0.029397927024196663, 0.005879585404839333, 0.011759170809678665, 0.029397927024196663, 0.24434314113500735, 0.7330294234050221, 0.23758564118293116, 0.6018836243300923, 0.023758564118293118, 0.06335617098211498, 0.015839042745528744, 0.007919521372764372, 0.007919521372764372, 0.023758564118293118, 0.007919521372764372, 0.06573327899620288, 0.30675530198228007, 0.5477773249683573, 0.06573327899620288, 0.37341550954463226, 0.033946864504057477, 0.5431498320649196, 0.32730730749268455, 0.06429250682892018, 0.07598205352508748, 0.01753432004425096, 0.43835800110627393, 0.07598205352508748, 0.005844773348083652, 0.5423822602381383, 0.2109264345370538, 0.07030881151235127, 0.02008823186067179, 0.07030881151235127, 0.050220579651679476, 0.030132347791007687, 0.04290599370017986, 0.17162397480071945, 0.7294018929030577, 0.3016307412966407, 0.6535332728093881, 0.3078838899098868, 0.1539419449549434, 0.1539419449549434, 0.12631133945020998, 0.06315566972510499, 0.055261211009466855, 0.09078627522983841, 0.019736146789095306, 0.019736146789095306, 0.007894458715638123, 0.17921300256402256, 0.3584260051280451, 0.02240162532050282, 0.4256308810895536, 0.013737425621652527, 0.027474851243305055, 0.12363683059487275, 0.7143461323259315, 0.05494970248661011, 0.041212276864957584, 0.1917286138203722, 0.5587519602765133, 0.03834572276407444, 0.05477960394867778, 0.04382368315894222, 0.05477960394867778, 0.02191184157947111, 0.016433881184603333, 0.02191184157947111, 0.10657779039117586, 0.03552593013039196, 0.07105186026078392, 0.03552593013039196, 0.21315558078235172, 0.49736302182548736, 0.044514582461176185, 0.029676388307450792, 0.4451458246117619, 0.029676388307450792, 0.08902916492235237, 0.3412784655356841, 0.014838194153725396, 0.03726456366211172, 0.1863228183105586, 0.01863228183105586, 0.055896845493167584, 0.670762145918011, 0.8450753248677796, 0.34479967157175007, 0.1483947953599937, 0.18767577060234497, 0.039280975242351274, 0.07419739767999685, 0.05237463365646836, 0.10911382011764242, 0.004364552804705697, 0.039280975242351274, 0.004364552804705697, 0.8961932452455188, 0.04716806553923783, 0.1485723748827746, 0.1485723748827746, 0.0742861874413873, 0.5200033120897111, 0.6489195979128084, 0.11665970299556107, 0.058329851497780534, 0.05103862006055797, 0.09478600868389336, 0.014582462874445134, 0.0218736943116677, 0.5294484737900499, 0.1568736218637185, 0.044120706149170824, 0.21079892937937172, 0.039218405465929626, 0.009804601366482407, 0.004902300683241203, 0.004902300683241203, 0.05712664763391355, 0.12496454169918589, 0.2642107453068502, 0.16423911194750146, 0.024992908339837177, 0.16066869647038187, 0.014281661908478387, 0.16066869647038187, 0.024992908339837177, 0.34984805576455114, 0.42070335819787796, 0.09742604084582437, 0.004428456402082926, 0.057569933227078034, 0.039856107618746334, 0.026570738412497557, 0.2705347347593288, 0.7002075487888512, 0.015913807927019345, 0.8819514830796767, 0.03526173577155367, 0.21157041462932202, 0.7404964512026271, 0.04315439783945837, 0.21577198919729185, 0.08630879567891674, 0.6041615697524172, 0.5355320557384439, 0.33470753483652743, 0.04119477351834184, 0.00514934668979273, 0.03089608013875638, 0.00514934668979273, 0.04119477351834184, 0.01029869337958546, 0.06397430213742508, 0.8956402299239512, 0.04806598180662334, 0.04806598180662334, 0.8171216907125968, 0.04856295279996178, 0.7770072447993884, 0.04856295279996178, 0.09712590559992355, 0.0833950962379832, 0.13899182706330535, 0.027798365412661067, 0.055596730825322134, 0.0833950962379832, 0.6115640390785435, 0.3263654316588851, 0.2267963169154964, 0.02212646994297526, 0.31530219668739745, 0.04425293988595052, 0.05531617485743815, 0.14078963734510505, 0.2956582384247206, 0.02815792746902101, 0.09855274614157354, 0.014078963734510504, 0.014078963734510504, 0.38013202083178366, 0.014078963734510504, 0.03477900526281037, 0.03477900526281037, 0.10433701578843112, 0.03477900526281037, 0.03477900526281037, 0.6955801052562074, 0.05644440164751009, 0.28222200823755045, 0.11288880329502018, 0.45155521318008074, 0.1026784728106504, 0.7187493096745529, 0.0513392364053252, 0.0513392364053252, 0.07759659686047375, 0.7759659686047375, 0.2366213555107043, 0.036403285463185275, 0.036403285463185275, 0.6643599597031313, 0.009100821365796319, 0.009100821365796319, 0.3470683146505193, 0.18980298457450273, 0.11388179074470164, 0.12472767557753037, 0.03796059691490055, 0.02711471208207182, 0.13015061799394473, 0.01626882724924309, 0.7610676531139382, 0.093897957202369, 0.014825993242479315, 0.093897957202369, 0.009883995494986211, 0.009883995494986211, 0.014825993242479315, 0.1545994776472043, 0.541098171765215, 0.05797480411770161, 0.05797480411770161, 0.05797480411770161, 0.006441644901966846, 0.038649869411801076, 0.083741383725569, 0.15518729425065558, 0.27933712965118007, 0.5276368004522289, 0.060207505622932894, 0.3973695371113571, 0.048166004498346314, 0.08429050787210605, 0.024083002249173157, 0.012041501124586578, 0.024083002249173157, 0.3492035326130108, 0.06171802820964856, 0.21601309873376995, 0.03085901410482428, 0.6171802820964856, 0.03085901410482428, 0.9850644583338226, 0.2093911301964796, 0.1570433476473597, 0.4187822603929592, 0.017449260849706633, 0.03926083691183992, 0.06543472818639988, 0.06543472818639988, 0.02181157606213329, 0.9806253050124422, 0.09487646252838838, 0.15812743754731398, 0.5376332876608675, 0.12650195003785117, 0.03162548750946279, 0.02582722701795148, 0.25827227017951476, 0.18079058912566034, 0.4907173133410781, 0.24558198823706162, 0.20034320093023447, 0.2197312526331604, 0.06462683900975306, 0.012925367801950612, 0.20034320093023447, 0.04523878730682714, 0.04986025063413693, 0.2991615038048216, 0.5983230076096432, 0.024930125317068466, 0.04542457959523192, 0.8176424327141746, 0.13627373878569576, 0.10480480023022183, 0.6213427442220294, 0.04491634295580935, 0.13474902886742807, 0.007486057159301559, 0.014972114318603118, 0.05988845727441247, 0.43568569950168745, 0.20926635960317272, 0.09262609359484694, 0.010291788177205215, 0.10977907389018897, 0.04802834482695768, 0.06175072906323129, 0.027444768472547242, 0.0034305960590684053, 0.27024200869627674, 0.03242904104355321, 0.1405258445220639, 0.02161936069570214, 0.11890648382636176, 0.3459097711312342, 0.01080968034785107, 0.01080968034785107, 0.04323872139140428, 0.08462670305724071, 0.12043030819684254, 0.40360427611914795, 0.10741081541880551, 0.055332844306657386, 0.11066568861331477, 0.042313351528620355, 0.04556822472312961, 0.006509746389018516, 0.026038985556074062, 0.11378145902014902, 0.7964702131410432, 0.05689072951007451, 0.12170354260856883, 0.3245427802895169, 0.04056784753618961, 0.020283923768094805, 0.08113569507237922, 0.36511062782570647, 0.0666813149544563, 0.8001757794534756, 0.08918953349914925, 0.044594766749574626, 0.044594766749574626, 0.08918953349914925, 0.713516267993194, 0.1504919714873944, 0.10032798099159627, 0.10032798099159627, 0.05016399049579814, 0.6019678859495776, 0.046888078645998504, 0.08752441347253055, 0.46888078645998504, 0.10315377302119672, 0.0062517438194664675, 0.2125592898618599, 0.009377615729199701, 0.04063633482653204, 0.0062517438194664675, 0.01562935954866617, 0.06609645910685194, 0.8592539683890752, 0.023734289223362844, 0.07120286767008853, 0.08702572715233042, 0.03955714870560474, 0.18591859891634227, 0.011867144611681422, 0.5735786562312687, 0.003955714870560474, 0.03846193373443719, 0.11538580120331157, 0.15384773493774875, 0.6538528734854322, 0.36450718052432035, 0.3113498833645237, 0.09872069472533677, 0.053157297159796724, 0.06834509634831007, 0.030375598377026698, 0.053157297159796724, 0.015187799188513349, 0.0037969497971283373, 0.0037969497971283373, 0.03119709339364781, 0.03119709339364781, 0.7799273348411953, 0.09359128018094344, 0.13287799712277154, 0.17717066283036206, 0.08858533141518103, 0.5315119884910862, 0.9773831276237122, 0.0837330895905394, 0.059809349707528145, 0.15550430923957317, 0.19737085403484286, 0.0418665447952697, 0.2093327239763485, 0.005980934970752814, 0.22727552888860694, 0.017942804912258442, 0.13364505298268964, 0.047730376065246306, 0.01909215042609852, 0.00954607521304926, 0.7732320922569901, 0.032458975039101036, 0.032458975039101036, 0.12983590015640414, 0.7790154009384248, 0.051499658192955836, 0.3347477782542129, 0.051499658192955836, 0.5407464110260363, 0.347424758947952, 0.057904126491325335, 0.521137138421928, 0.2419145128892063, 0.12095725644460315, 0.06047862822230157, 0.06047862822230157, 0.4838290257784126, 0.11980718949272244, 0.07047481734866026, 0.49332372144062187, 0.1620920799019186, 0.007047481734866026, 0.049332372144062185, 0.06342733561379424, 0.028189926939464104, 0.027168172299953885, 0.027168172299953885, 0.9237178581984321, 0.05698977437150849, 0.2849488718575425, 0.6268875180865934, 0.018538006398100566, 0.11122803838860339, 0.018538006398100566, 0.7785962687202238, 0.03707601279620113, 0.04636480195950893, 0.09272960391901786, 0.7882016333116517, 0.7944659416655501, 0.08079314661005595, 0.013465524435009323, 0.09425867104506527, 0.01777819319998223, 0.008889096599991115, 0.1333364489998667, 0.1333364489998667, 0.01777819319998223, 0.11555825579988449, 0.08889096599991116, 0.4800112163995202, 0.8804199322212307, 0.060718616015257285, 0.030359308007628642, 0.2407369055940022, 0.1203684527970011, 0.06018422639850055, 0.06018422639850055, 0.4212895847895039, 0.31920525034591724, 0.15747459017065252, 0.1532185201660403, 0.08086533008763237, 0.05107284005534676, 0.08937747009685683, 0.11916996012914244, 0.017024280018448922, 0.01276821001383669, 0.010136638229041692, 0.030409914687125075, 0.08109310583233353, 0.27368923218412566, 0.17232284989370875, 0.39532889093262596, 0.010136638229041692, 0.020273276458083384, 0.1258272112913389, 0.041942403763779626, 0.08388480752755925, 0.041942403763779626, 0.041942403763779626, 0.6291360564566945, 0.18934778911485983, 0.6732365835195017, 0.021038643234984427, 0.042077286469968854, 0.06311592970495328, 0.09774605982183664, 0.07602471319476183, 0.7602471319476183, 0.05430336656768702, 0.010860673313537404, 0.7894244678427528, 0.05907257922632844, 0.04833211027608691, 0.02148093790048307, 0.0161107034253623, 0.0161107034253623, 0.026851172375603836, 0.005370234475120767, 0.0161107034253623, 0.18087134379239292, 0.060290447930797644, 0.18087134379239292, 0.48232358344638115, 0.060290447930797644, 0.9098419715262885, 0.05054677619590492, 0.07885680571929181, 0.8674248629122099, 0.08561932855250756, 0.8561932855250756, 0.05400727370208439, 0.8641163792333503, 0.05400727370208439, 0.027003636851042196, 0.09828742571273573, 0.8354431185582537, 0.6497276891700162, 0.12137770017461841, 0.03569932358077012, 0.007139864716154024, 0.15707702375538854, 0.007139864716154024, 0.007139864716154024, 0.007139864716154024, 0.007139864716154024, 0.6386646277308421, 0.11907306618710616, 0.021649648397655662, 0.021649648397655662, 0.16237236298241747, 0.021649648397655662, 0.010824824198827831, 0.9843297239581696, 0.5630007216018439, 0.11872804333100109, 0.09191848515948473, 0.007659873763290394, 0.14936753838416267, 0.007659873763290394, 0.02297962128987118, 0.030639495053161575, 0.007659873763290394, 0.021721126795894805, 0.9702103302166346, 0.8544818049224464, 0.0534051128076529, 0.02670255640382645, 0.02670255640382645, 0.5668593964150571, 0.23908355495056832, 0.053986609182386396, 0.01156855911051137, 0.015424745480681828, 0.08483610014375005, 0.026993304591193198, 0.33522587152398675, 0.22856309422090007, 0.07618769807363336, 0.045712618844180014, 0.30475079229453345, 0.0389877541798186, 0.006683615002254617, 0.03119020334385488, 0.0055696791685455145, 0.0022278716674182055, 0.004455743334836411, 0.9045158969717915, 0.0022278716674182055, 0.0011139358337091028, 0.6337745736279481, 0.1752200291794915, 0.04100894299945546, 0.014912342908892895, 0.08201788599891092, 0.007456171454446448, 0.003728085727223224, 0.04100894299945546, 0.6154661331694837, 0.04535013612827775, 0.29801518027153945, 0.012957181750936499, 0.006478590875468249, 0.012957181750936499, 0.31394213525268144, 0.13454662939400633, 0.04484887646466878, 0.4933376411113566, 0.8991013515510257, 0.03909136311091416, 0.05163634585834314, 0.05163634585834314, 0.10327269171668628, 0.7229088420168039, 0.0845422408696198, 0.1690844817392396, 0.6763379269569584, 0.023632018010209605, 0.023632018010209605, 0.9452807204083843, 0.34140879795921525, 0.6448832850340732, 0.0695748778017088, 0.2782995112068352, 0.5565990224136704, 0.1512675126532567, 0.18908439081657086, 0.056725317244971256, 0.018908439081657086, 0.5105278552047413, 0.03781687816331417, 0.018908439081657086, 0.9881271045994854, 0.07805788501315299, 0.07805788501315299, 0.31223154005261194, 0.4683473100789179, 0.018425216762384556, 0.006141738920794852, 0.9703947494855866, 0.9962145647859227, 0.005008597460334337, 0.56597151301778, 0.42072218666808425, 0.04325703732663866, 0.04325703732663866, 0.08651407465327732, 0.23070419907540618, 0.028838024884425772, 0.04325703732663866, 0.504665435477451, 0.09683559080075986, 0.04841779540037993, 0.024208897700189965, 0.024208897700189965, 0.024208897700189965, 0.7746847264060789, 0.05762163467618661, 0.05762163467618661, 0.8067028854666125, 0.4561352852360696, 0.05473623422832836, 0.009122705704721392, 0.009122705704721392, 0.41964446241718406, 0.018245411409442785, 0.018245411409442785, 0.2690082491630014, 0.026900824916300144, 0.05380164983260029, 0.026900824916300144, 0.5514669107841529, 0.05380164983260029, 0.013450412458150072, 0.021092557611770812, 0.1687404608941665, 0.1792867397000519, 0.021092557611770812, 0.1898330185059373, 0.03163883641765622, 0.3796660370118746, 0.8048866468571889, 0.041734863170372755, 0.041734863170372755, 0.005962123310053251, 0.005962123310053251, 0.005962123310053251, 0.005962123310053251, 0.011924246620106502, 0.06558335641058576, 0.8443527487489669, 0.06254464805547903, 0.031272324027739516, 0.031272324027739516, 0.6121308308309127, 0.25068214976884995, 0.01748945230945465, 0.011659634872969766, 0.08744726154727324, 0.01748945230945465, 0.039268136621202904, 0.0130893788737343, 0.0130893788737343, 0.0130893788737343, 0.8900777634139324, 0.04091042471368482, 0.08182084942736964, 0.04091042471368482, 0.7772980695600116, 0.120053549459321, 0.240107098918642, 0.18008032418898148, 0.04502008104724537, 0.015006693682415124, 0.03001338736483025, 0.09004016209449074, 0.27012048628347224, 0.056017327438871396, 0.8682685753025067, 0.028008663719435698, 0.10158513972586322, 0.1422191956162085, 0.06095108383551793, 0.6704619221906972, 0.10179296128355968, 0.036354629029842746, 0.007270925805968548, 0.009694567741291397, 0.029083703223874192, 0.009694567741291397, 0.8022254805918632, 0.022883184413253543, 0.06864955323976063, 0.7093787168108598, 0.1601822908927748, 0.022883184413253543, 0.05593158559573608, 0.2237263423829443, 0.05593158559573608, 0.6152474415530969, 0.06785111632710322, 0.20355334898130967, 0.6785111632710322, 0.09123269061080891, 0.022808172652702227, 0.8667105608026847, 0.022808172652702227, 0.06541156238156436, 0.06541156238156436, 0.8503503109603366, 0.8946954653314598, 0.9816961788275536, 0.10666041982746056, 0.662818323213505, 0.030474405664988734, 0.05333020991373028, 0.06094881132997747, 0.05333020991373028, 0.02285580424874155, 0.18745573016638856, 0.7498229206655542, 0.04686393254159714, 0.32160809846751215, 0.11256283446362926, 0.06968175466796098, 0.3162479634930536, 0.10720269948917073, 0.005360134974458536, 0.005360134974458536, 0.005360134974458536, 0.010720269948917073, 0.010720269948917073, 0.026800674872292683, 0.15461944298633817, 0.025769907164389694, 0.7988671220960806, 0.13648229587517755, 0.05686762328132398, 0.2843381164066199, 0.11373524656264795, 0.09098819725011836, 0.05686762328132398, 0.2502175424378255, 0.013228900222702763, 0.07937340133621658, 0.224891303785947, 0.11906010200432487, 0.1058312017816221, 0.4630115077945967, 0.028638273411913155, 0.01909218227460877, 0.916424749181221, 0.028638273411913155, 0.06474876382581513, 0.7769851659097815, 0.06474876382581513, 0.898798520303919, 0.06270687350957575, 0.020902291169858582, 0.14790703922172607, 0.12218407587881719, 0.34082926429354266, 0.10932259420736275, 0.05144592668581777, 0.025722963342908883, 0.14790703922172607, 0.032153704178636104, 0.019292222507181662, 0.10412348300827298, 0.06663902912529471, 0.07080396844562563, 0.09579360436761114, 0.6414006553309616, 0.008329878640661838, 0.008329878640661838, 0.12340012875433297, 0.1332721390546796, 0.009872010300346637, 0.217184226607626, 0.009872010300346637, 0.1332721390546796, 0.3702003862629989, 0.05162920713068379, 0.05162920713068379, 0.8260673140909406, 0.05162920713068379, 0.02365298964997138, 0.030410986692820347, 0.37168983735669314, 0.1993609127640445, 0.010136995564273448, 0.14867593494267725, 0.0033789985214244833, 0.12164394677128139, 0.08785396155703656, 0.0444408736811386, 0.0222204368405693, 0.7777152894199255, 0.0222204368405693, 0.0222204368405693, 0.0888817473622772, 0.9922528788848146, 0.9930845609193112, 0.9859745311206618, 0.9701383232863491, 0.9913359863174259, 0.9696987726692372, 0.008927994152433996, 0.008927994152433996, 0.004463997076216998, 0.9731513626153055, 0.36579129311147607, 0.10973738793344283, 0.03657912931114761, 0.4389495517337713, 0.03657912931114761, 0.03657912931114761, 0.2672557534733563, 0.10690230138934251, 0.053451150694671254, 0.5345115069467126, 0.03569752515060429, 0.07139505030120857, 0.8210430784638987, 0.03569752515060429, 0.019892814277303588, 0.9548550853105723, 0.7837279200427606, 0.06531066000356338, 0.2894017927622391, 0.02067155662587422, 0.062014669877622663, 0.5167889156468556, 0.093022004816434, 0.02067155662587422, 0.009718796200098067, 0.0032395987333660218, 0.0032395987333660218, 0.0032395987333660218, 0.9751192187431726, 0.42803046011699175, 0.05464218639791384, 0.018214062132637945, 0.009107031066318973, 0.4735656154485866, 0.009107031066318973, 0.07886199707772351, 0.07886199707772351, 0.788619970777235, 0.25993508807830495, 0.0637576631135465, 0.43649477054658753, 0.07847096998590337, 0.019617742496475844, 0.019617742496475844, 0.029426613744713767, 0.0637576631135465, 0.009808871248237922, 0.019617742496475844, 0.04505691642398233, 0.022528458211991165, 0.022528458211991165, 0.0675853746359735, 0.811024495631682, 0.06219691835317468, 0.14512614282407427, 0.10366153058862447, 0.14512614282407427, 0.5183076529431223, 0.11387302926667554, 0.016267575609525076, 0.32535151219050157, 0.3578866634095517, 0.17894333170477586, 0.037123604417120995, 0.022274162650272596, 0.9355148313114491, 0.129333735798723, 0.023515224690676913, 0.3174555333241383, 0.047030449381353825, 0.11757612345338456, 0.023515224690676913, 0.24690985925210757, 0.07054567407203073, 0.4395882977438288, 0.54768378079559, 0.9895887989141516, 0.9956205777175716, 0.3024406041836029, 0.3480138459098992, 0.03314417580094278, 0.11600461530329974, 0.04971626370141417, 0.07457439555212127, 0.02071510987558924, 0.053859285676532025, 0.480759523660585, 0.08172911902229946, 0.07211392854908776, 0.0096151904732117, 0.3076860951427744, 0.00480759523660585, 0.0384607618928468, 0.32827987619507343, 0.04689712517072478, 0.04689712517072478, 0.09379425034144956, 0.4689712517072478, 0.031486518469821215, 0.06297303693964243, 0.031486518469821215, 0.7871629617455305, 0.031486518469821215, 0.8703015540384899, 0.1115771223126269, 0.10991096035641391, 0.11569574774359359, 0.21403713332564814, 0.38758075494103855, 0.046278299097437435, 0.028923936935898398, 0.057847873871796796, 0.03470872432307808, 0.02511101703753398, 0.05022203407506796, 0.05022203407506796, 0.7031084770509515, 0.02511101703753398, 0.02511101703753398, 0.11299957666890291, 0.06332708807832342, 0.7599250569398811, 0.06332708807832342, 0.1516405907486404, 0.050546863582880124, 0.7582029537432019, 0.2111337651500023, 0.1028600394320524, 0.3085801182961572, 0.07579160800256493, 0.12451478457564238, 0.02165474514358998, 0.12992847086153989, 0.005413686285897495, 0.016241058857692486, 0.4436141266281362, 0.2218070633140681, 0.04185038930454115, 0.07533070074817406, 0.15066140149634813, 0.004185038930454115, 0.02511023358272469, 0.012555116791362345, 0.020925194652270575, 0.004185038930454115, 0.1682470425974902, 0.22713350750661176, 0.21872115537673725, 0.01682470425974902, 0.04206176064937255, 0.28601997241573335, 0.04206176064937255, 0.00841235212987451, 0.15938618600158533, 0.10394751260972956, 0.5128077288746659, 0.006929834173981971, 0.18017568852353125, 0.013859668347963943, 0.006929834173981971, 0.006929834173981971, 0.006929834173981971, 0.11886961279886459, 0.3396274651396131, 0.11037892617037426, 0.050944119770941966, 0.28868334536867113, 0.08490686628490328, 0.04321510200492157, 0.08643020400984314, 0.21607551002460781, 0.5617963260639803, 0.04321510200492157, 0.825782485014589, 0.014237629051975672, 0.04271288715592702, 0.014237629051975672, 0.028475258103951344, 0.04271288715592702, 0.061981277573987435, 0.08264170343198325, 0.14462298100597068, 0.10330212928997906, 0.020660425857995813, 0.4545293688759079, 0.08264170343198325, 0.04615271211216506, 0.03296622293726076, 0.1912040930361124, 0.13845813633649517, 0.03296622293726076, 0.22417031597337317, 0.013186489174904304, 0.3098824956102511, 0.006593244587452152, 0.026395995185923914, 0.8710678411354892, 0.026395995185923914, 0.026395995185923914, 0.11913092447035055, 0.0492955549532485, 0.6038705481772941, 0.02464777747662425, 0.11091499864480912, 0.03286370330216567, 0.0492955549532485, 0.008215925825541417, 0.004107962912770709, 0.13798844671684685, 0.12987147926291467, 0.2516259910718972, 0.008116967453932167, 0.008116967453932167, 0.3084447632494224, 0.12175451180898252, 0.016233934907864334, 0.008116967453932167, 0.10342245415391138, 0.05171122707695569, 0.7756684061543353, 0.05685504421745981, 0.22031329634265676, 0.014213761054364952, 0.18477889370674438, 0.05685504421745981, 0.42641283163094856, 0.007106880527182476, 0.03553440263591238, 0.025121209361289296, 0.3516969310580501, 0.5777878153096538, 0.37147835994595996, 0.04127537332732888, 0.1169468910940985, 0.05503383110310518, 0.33708221550651923, 0.04127537332732888, 0.02063768666366444, 0.02063768666366444, 0.37070520669198403, 0.041966627172677434, 0.04896106503479034, 0.06294994075901615, 0.40567739600254854, 0.041966627172677434, 0.006994437862112906, 0.013988875724225813, 0.8903070498510272, 0.03709612707712613, 0.03709612707712613, 0.013317730117613044, 0.06658865058806522, 0.15981276141135653, 0.1198595710585174, 0.41284963364600435, 0.19976595176419565, 0.4120008118617876, 0.4314348124213059, 0.046641601342843876, 0.019434000559518282, 0.046641601342843876, 0.007773600223807313, 0.019434000559518282, 0.011660400335710969, 0.0038868001119036566, 0.2135887891459147, 0.49370523392744214, 0.049020377836767305, 0.0525218333965364, 0.05602328895630549, 0.049020377836767305, 0.06652765563561278, 0.007002911119538186, 0.01050436667930728, 0.11808721645351174, 0.18697142605139358, 0.15088922102393165, 0.07872481096900782, 0.03936240548450391, 0.12464761736759572, 0.019681202742251956, 0.28209723930561137, 0.0032802004570419924, 0.04484371017185695, 0.37156216999538616, 0.04484371017185695, 0.0896874203437139, 0.16015610775663197, 0.006406244310265278, 0.275468505341407, 0.05816812174322757, 0.5002458469917571, 0.16868755305535996, 0.034900873045936545, 0.09888580696348687, 0.06980174609187309, 0.011633624348645514, 0.05816812174322757, 0.09730241568178961, 0.19460483136357923, 0.04865120784089481, 0.09730241568178961, 0.48651207840894806, 0.31796134193411, 0.15674150658723734, 0.0850882464330717, 0.12539320526978986, 0.25974306805885045, 0.004478328759635352, 0.03582663007708282, 0.004478328759635352, 0.008956657519270704, 0.9802176617140093, 0.9619925718319009, 0.018592315929584935, 0.018592315929584935, 0.9296157964792469, 0.4248102190914142, 0.19655398196766924, 0.019021353093645412, 0.038042706187290824, 0.08876631443701191, 0.18387307990523896, 0.012680902062430274, 0.031702255156075686, 0.03905719403618888, 0.03905719403618888, 0.8983154628323443, 0.8326648062951459, 0.06405113894578046, 0.06405113894578046, 0.10574309820307123, 0.011749233133674581, 0.1762384970051187, 0.03524769940102374, 0.1762384970051187, 0.03524769940102374, 0.45822009221330867, 0.14183193634656366, 0.14183193634656366, 0.02026170519236624, 0.18235534673129614, 0.18235534673129614, 0.30392557788549357, 0.29058166820631576, 0.5890168950128022, 0.015707117200341392, 0.02356067580051209, 0.04712135160102418, 0.015707117200341392, 0.007853558600170696, 0.36740487362893914, 0.4345269178496107, 0.06358930505116255, 0.010598217508527092, 0.021196435017054184, 0.0035327391695090305, 0.05652382671214449, 0.035327391695090304, 0.007065478339018061, 0.2196110579121731, 0.5405810656299646, 0.033786316601872785, 0.10135894980561835, 0.02533973745140459, 0.033786316601872785, 0.033786316601872785, 0.008446579150468196, 0.15457684555182533, 0.19322105693978164, 0.07728842277591266, 0.5410189594313886, 0.03864421138795633, 0.2879860447379402, 0.4607776715807043, 0.03359837188609302, 0.11039465048287707, 0.05759720894758804, 0.038398139298392024, 0.004799767412299003, 0.19376120211360728, 0.13767243308072097, 0.07648468504484497, 0.4385121942571112, 0.10707855906278296, 0.005098979002989665, 0.03569285302092765, 0.2367823288786739, 0.5853785352833882, 0.032886434566482485, 0.08550472987285446, 0.04604100839307548, 0.006577286913296497, 0.006577286913296497, 0.24957890065172533, 0.6189556736162789, 0.009983156026069013, 0.03993262410427605, 0.009983156026069013, 0.02994946807820704, 0.009983156026069013, 0.019966312052138026, 0.12325888179706308, 0.80118273168091, 0.9084598917156973, 0.052724737090618694, 0.21089894836247478, 0.026362368545309347, 0.10544947418123739, 0.10544947418123739, 0.052724737090618694, 0.42179789672494955, 0.029510477616091237, 0.026231535658747765, 0.022952593701404296, 0.3934730348812165, 0.03278941957343471, 0.20329440135529517, 0.28854689224622543, 0.7944737712746003, 0.10592983616994671, 0.22368359126228235, 0.700875252621818, 0.014912239417485491, 0.014912239417485491, 0.014912239417485491, 0.014912239417485491, 0.014912239417485491, 0.1255682542301599, 0.7952656101243462, 0.04185608474338664, 0.6374886251162234, 0.27890127348834776, 0.02656202604650931, 0.006640506511627327, 0.006640506511627327, 0.006640506511627327, 0.02656202604650931, 0.06333042665260537, 0.03799825599156322, 0.18999127995781612, 0.03799825599156322, 0.02533217066104215, 0.08866259731364752, 0.012666085330521075, 0.11399476797468967, 0.41798081590719544, 0.04280035104059174, 0.09630078984133142, 0.010700087760147935, 0.02140017552029587, 0.823906757531391, 0.1958004266203272, 0.08566268664639315, 0.036712579991311355, 0.6485889131798339, 0.01223752666377045, 0.01223752666377045, 0.0867694538364393, 0.06748735298389723, 0.009641050426271034, 0.7423608828228696, 0.019282100852542068, 0.0578463025576262, 0.009641050426271034, 0.009641050426271034, 0.8678957097411765, 0.06199255069579832, 0.03099627534789916, 0.03099627534789916, 0.031415113534849624, 0.8482080654409397, 0.031415113534849624, 0.031415113534849624, 0.031415113534849624, 0.057540908781428785, 0.028770454390714392, 0.3164749982978583, 0.028770454390714392, 0.5466386334235734, 0.8840156983237573, 0.04420078491618786, 0.05819519537811006, 0.01939839845937002, 0.23278078151244025, 0.07759359383748007, 0.01939839845937002, 0.01939839845937002, 0.5819519537811005, 0.22046920516244792, 0.19040522264029594, 0.06012796504430398, 0.010021327507383996, 0.11023460258122396, 0.3607677902658239, 0.020042655014767992, 0.010021327507383996, 0.04393678200217178, 0.02196839100108589, 0.06590517300325767, 0.04393678200217178, 0.08787356400434355, 0.7029885120347484, 0.8738250817809124, 0.022405771327715703, 0.08962308531086281, 0.29787847054039845, 0.09361894788412523, 0.3659649780924895, 0.08510813444011384, 0.008510813444011384, 0.017021626888022768, 0.008510813444011384, 0.008510813444011384, 0.11915138821615937, 0.1260123410363578, 0.0630061705181789, 0.630061705181789, 0.0630061705181789, 0.0630061705181789, 0.35701599017892144, 0.4116612947981441, 0.08743248739075628, 0.018215101539740892, 0.025501142155637247, 0.007286040615896356, 0.04371624369537814, 0.018215101539740892, 0.003643020307948178, 0.018215101539740892, 0.007286040615896356, 0.1342735945944294, 0.03356839864860735, 0.1790314594592392, 0.0671367972972147, 0.5035259797291103, 0.0671367972972147, 0.01118946621620245, 0.04925989358586735, 0.11083476056820153, 0.024629946792933673, 0.08620481377526786, 0.6896385102021428, 0.024629946792933673, 0.567171549392807, 0.3273607600522242, 0.0304521637257883, 0.007613040931447075, 0.0038065204657235373, 0.05329128652012952, 0.007613040931447075, 0.0038065204657235373, 0.26546633558909755, 0.26546633558909755, 0.037923762227013935, 0.4171613844971533, 0.08737117745591716, 0.04368558872795858, 0.7863405971032544, 0.9845201501595936, 0.16455111172541984, 0.009679477160318814, 0.22262797468733272, 0.01935895432063763, 0.20326902036669509, 0.009679477160318814, 0.19358954320637628, 0.01935895432063763, 0.009679477160318814, 0.1451921574047822, 0.9904786883536935, 0.13257091985557548, 0.06628545992778774, 0.03314272996389387, 0.03314272996389387, 0.7291400592056652, 0.006694365028041632, 0.06024928525237469, 0.24099714100949876, 0.10710984044866612, 0.006694365028041632, 0.17405349072908244, 0.39496753665445633, 0.06499647010053536, 0.15999131101670241, 0.09499484091616707, 0.0049997284692719504, 0.14999185407815852, 0.509972303865739, 0.0049997284692719504, 0.984621375258114, 0.10282537121299566, 0.12853171401624458, 0.21850391382761578, 0.36631538494629706, 0.05141268560649783, 0.03855951420487337, 0.032132928504061145, 0.006426585700812229, 0.032132928504061145, 0.025706342803248915, 0.03225264172602173, 0.0967579251780652, 0.838568684876565, 0.03225264172602173, 0.040727608059062226, 0.040727608059062226, 0.24436564835437335, 0.19549251868349868, 0.024436564835437335, 0.20363804029531113, 0.012218282417718667, 0.22807460513074845, 0.008145521611812446, 0.12611064678885142, 0.08670106966733535, 0.22463458959264157, 0.20887075874403516, 0.0551734079701225, 0.14975639306176106, 0.031527661697212855, 0.11428777365239659, 0.21037590945600323, 0.26296988682000405, 0.10518795472800162, 0.3681578415480057, 0.05282082270891422, 0.01440567892061297, 0.02400946486768828, 0.3505381870682489, 0.05762271568245188, 0.1968776119150439, 0.004801892973537656, 0.3025192573328723, 0.09094671359830094, 0.030315571199433646, 0.09094671359830094, 0.6972581375869739, 0.09094671359830094, 0.7471110596734843, 0.11953776954775748, 0.02988444238693937, 0.009961480795646457, 0.03984592318258583, 0.02988444238693937, 0.009961480795646457, 0.8734597985160334, 0.03425332543200131, 0.017126662716000655, 0.03425332543200131, 0.03425332543200131, 0.02815155355683431, 0.014075776778417155, 0.014075776778417155, 0.182985098119423, 0.07037888389208577, 0.6897130621424405, 0.04401938684310787, 0.04401938684310787, 0.22009693421553933, 0.04401938684310787, 0.04401938684310787, 0.5722520289604023, 0.042967935531487936, 0.9023266461612467, 0.17728431802633088, 0.1013053245864748, 0.25326331146618697, 0.12663165573309348, 0.037989496719928045, 0.25326331146618697, 0.01266316557330935, 0.01266316557330935, 0.013606571606813098, 0.013606571606813098, 0.5034431494520846, 0.21770514570900956, 0.006803285803406549, 0.10204928705109823, 0.020409857410219646, 0.11565585865791132, 0.006803285803406549, 0.11329737843917619, 0.05664868921958809, 0.7364329598546452, 0.7773715779928302, 0.06345890432594532, 0.03172945216297266, 0.12691780865189065, 0.8101650802997896, 0.02025412700749474, 0.05063531751873685, 0.030381190511242114, 0.04050825401498948, 0.04050825401498948, 0.8414538281000451, 0.0615697923000033, 0.0205232641000011, 0.0205232641000011, 0.0410465282000022, 0.05946240025324073, 0.05946240025324073, 0.05946240025324073, 0.23784960101296293, 0.47569920202592586, 0.1005003146069729, 0.17587555056220255, 0.025125078651743224, 0.025125078651743224, 0.678377123597067, 0.045304657994763416, 0.045304657994763416, 0.18121863197905366, 0.6116128829293062, 0.045304657994763416, 0.033978493496072563, 0.022652328997381708, 0.9908633139139739, 0.07447613833353936, 0.14895227666707872, 0.17377765611159182, 0.02482537944451312, 0.04965075888902624, 0.5213329683347755, 0.1962130945253556, 0.2354557134304267, 0.039242618905071115, 0.07848523781014223, 0.43166880795578233, 0.11741887479687206, 0.17612831219530808, 0.05870943739843603, 0.029354718699218015, 0.029354718699218015, 0.029354718699218015, 0.08806415609765404, 0.4403207804882702, 0.17825464689771436, 0.7922428751009527, 0.17260413119761417, 0.04315103279940354, 0.7335675575898601, 0.09566672794705275, 0.09566672794705275, 0.08370838695367115, 0.08370838695367115, 0.011958340993381594, 0.22720847887425027, 0.40658359377497416, 0.024666864345353704, 0.04933372869070741, 0.12333432172676853, 0.17266805041747593, 0.5920047442884889, 0.12438773642987247, 0.062193868214936235, 0.792971819740437, 0.3098341965863804, 0.09897481279842708, 0.3141374493167468, 0.07315529641622871, 0.07315529641622871, 0.025819516382198367, 0.07315529641622871, 0.012909758191099184, 0.008606505460732789, 0.0043032527303663946, 0.0043032527303663946, 0.09225378220661141, 0.784157148756197, 0.04612689110330571, 0.04612689110330571, 0.27272060198915127, 0.12756286222073204, 0.18034749486379356, 0.10996798467304486, 0.20673981118532433, 0.013196158160765383, 0.0703795101907487, 0.004398719386921794, 0.013196158160765383, 0.05116079357200973, 0.07674119035801459, 0.7674119035801459, 0.05116079357200973, 0.8281104449475181, 0.07886766142357315, 0.13623832213464782, 0.10899065770771825, 0.0817429932807887, 0.054495328853859125, 0.054495328853859125, 0.027247664426929562, 0.5177056241116618, 0.0788315645320391, 0.7094840807883519, 0.0788315645320391, 0.0788315645320391, 0.07614434869201898, 0.5499314072201371, 0.10152579825602531, 0.01692096637600422, 0.05922338231601477, 0.18613063013604642, 0.6983094064473973, 0.1470125066205047, 0.018376563327563086, 0.09188281663781543, 0.009188281663781543, 0.018376563327563086, 0.8155171801075681, 0.0543678120071712, 0.008364278770334032, 0.004182139385167016, 0.020910696925835078, 0.004182139385167016, 0.004182139385167016, 0.09200706647367435, 0.05466990064701784, 0.02733495032350892, 0.8200485097052677, 0.05466990064701784, 0.14622819287774713, 0.27417786164577584, 0.03655704821943678, 0.4752416268526782, 0.03655704821943678, 0.5266745361733455, 0.3714936460508419, 0.014107353647500325, 0.02351225607916721, 0.05172696337416786, 0.004702451215833442, 0.004702451215833442, 0.010817922333587419, 0.005408961166793709, 0.007211948222391613, 0.0018029870555979033, 0.0018029870555979033, 0.9700070359116719, 0.7118296625067388, 0.1306109472489429, 0.08489711571181288, 0.0065305473624471455, 0.013061094724894291, 0.0065305473624471455, 0.03918328417468287, 0.0065305473624471455, 0.37982393081587085, 0.13129716126968374, 0.11254042394544321, 0.004689184331060134, 0.3001077971878486, 0.004689184331060134, 0.03751347464848107, 0.02344592165530067, 0.08373869973457428, 0.010467337466821785, 0.010467337466821785, 0.02093467493364357, 0.8583216722793864, 0.034852268203090626, 0.6970453640618125, 0.052278402304635936, 0.052278402304635936, 0.10455680460927187, 0.017426134101545313, 0.018856289045937197, 0.037712578091874394, 0.00754251561837488, 0.011313773427562318, 0.9051018742049856, 0.01508503123674976, 0.1877484862340798, 0.21456969855323405, 0.017880808212769505, 0.3307949519362358, 0.07152323285107802, 0.031291414372346636, 0.004470202053192376, 0.1341060615957713, 0.008940404106384752, 0.9784241016653874, 0.005622358605303283, 0.9895351145333778, 0.10848728686048649, 0.7051673645931622, 0.10848728686048649, 0.108428561855486, 0.03189075348690765, 0.7398654808962574, 0.03189075348690765, 0.012756301394763058, 0.03189075348690765, 0.038268904184289174, 0.021513183531798923, 0.03585530588633154, 0.7601324847902285, 0.1075659176589946, 0.03585530588633154, 0.021513183531798923, 0.007171061177266307, 0.014342122354532614, 0.5602801696145566, 0.12511110583626023, 0.14142994572794634, 0.0054396132972287055, 0.03263767978337223, 0.021758453188914822, 0.054396132972287056, 0.010879226594457411, 0.038077293080600934, 0.0054396132972287055, 0.14407025576891136, 0.044329309467357345, 0.049870473150777014, 0.011082327366839336, 0.005541163683419668, 0.011082327366839336, 0.038788145783937675, 0.6206103325430028, 0.016623491050259002, 0.05541163683419668, 0.2539488671907784, 0.6221747246174072, 0.012697443359538922, 0.05078977343815569, 0.025394886719077844, 0.025394886719077844, 0.012697443359538922, 0.012697443359538922, 0.07437063562231201, 0.7437063562231201, 0.07437063562231201, 0.037185317811156006, 0.037185317811156006, 0.817713221897981, 0.045428512327665614, 0.09085702465533123, 0.9708601864180776, 0.13785557433622694, 0.6892778716811346, 0.12538374854866913, 0.7523024912920147, 0.04179458284955637, 0.05698883128523691, 0.028494415642618454, 0.7978436379933167, 0.028494415642618454, 0.028494415642618454, 0.8531345663130959, 0.10063217389740586, 0.0754741304230544, 0.0754741304230544, 0.704425217281841, 0.027356145576036616, 0.10942458230414646, 0.05471229115207323, 0.027356145576036616, 0.3009176013364028, 0.4650544747926225, 0.061714153188345236, 0.15428538297086308, 0.061714153188345236, 0.061714153188345236, 0.5862844552892797, 0.09257122978251786, 0.45343666070560207, 0.2951615998932693, 0.06416556519418896, 0.06416556519418896, 0.004277704346279265, 0.004277704346279265, 0.09838719996442309, 0.004277704346279265, 0.012833113038837794, 0.06245816276157622, 0.06245816276157622, 0.06245816276157622, 0.7494979531389147, 0.03122908138078811, 0.03122908138078811, 0.1427717021748054, 0.011897641847900448, 0.6662679434824251, 0.011897641847900448, 0.03569292554370135, 0.011897641847900448, 0.03569292554370135, 0.0713858510874027, 0.09007782843229116, 0.7656615416744749, 0.04503891421614558, 0.04503891421614558, 0.04503891421614558, 0.8675271857588904, 0.06673286044299158, 0.17854936948147168, 0.6979657170639347, 0.03246352172390394, 0.03246352172390394, 0.01623176086195197, 0.08909701219313144, 0.2227425304828286, 0.08909701219313144, 0.5791305792553544, 0.03645275086886529, 0.14581100347546117, 0.14581100347546117, 0.6561495156395752, 0.13198630504330047, 0.7919178302598029, 0.16390773750951215, 0.30440008394623685, 0.4917232125285365, 0.03369213242510522, 0.13476852970042089, 0.25830634859247337, 0.07861497565857886, 0.04492284323347363, 0.4043055891012627, 0.04492284323347363, 0.06407632403171865, 0.06407632403171865, 0.1281526480634373, 0.6407632403171865, 0.08148823658422834, 0.020372059146057084, 0.04074411829211417, 0.6926500109659408, 0.020372059146057084, 0.06111617743817125, 0.10186029573028542, 0.1884711185999668, 0.050258964959991145, 0.037694223719993356, 0.5779780970398981, 0.12564741239997784, 0.12891688247372501, 0.07463608985320923, 0.06785099077564476, 0.16962747693911187, 0.14248708062885398, 0.08820628800833817, 0.0271403963102579, 0.06106589169808028, 0.23747846771475664, 0.2994526145968607, 0.05989052291937214, 0.014972630729843036, 0.02994526145968607, 0.5390147062743492, 0.014972630729843036, 0.014972630729843036, 0.007486315364921518, 0.007486315364921518, 0.007486315364921518, 0.9946299450337482, 0.8419791725352468, 0.03827178056978395, 0.03827178056978395, 0.03827178056978395, 0.1391783295509258, 0.07828781037239577, 0.40448702025737815, 0.19137020313252298, 0.05654119638006361, 0.047842550783130745, 0.05654119638006361, 0.017397291193865724, 0.004349322798466431, 0.09718533188787719, 0.8017789880749868, 0.048592665943938594, 0.024296332971969297, 0.14536935197772946, 0.14536935197772946, 0.04845645065924316, 0.629933858570161, 0.8892101627981043, 0.042343341085624014, 0.042343341085624014, 0.1639621640510771, 0.2025414967689776, 0.08680349861527611, 0.009644833179475124, 0.04822416589737562, 0.3279243281021542, 0.13502766451265175, 0.01928966635895025, 0.15406616857037322, 0.22185528274133745, 0.28348175016948673, 0.086277054399409, 0.03697588045688957, 0.15406616857037322, 0.0431385271997045, 0.006162646742814929, 0.8164378681509213, 0.06597477722431687, 0.032987388612158434, 0.008246847153039609, 0.06597477722431687, 0.83740633702078, 0.0664608203984746, 0.013292164079694921, 0.013292164079694921, 0.03987649223908476, 0.8798414897895718, 0.05175538175232775, 0.7748477781900432, 0.02718764134000152, 0.02718764134000152, 0.01359382067000076, 0.01359382067000076, 0.13593820670000759, 0.5232802790436923, 0.16207796253565693, 0.07409278287344316, 0.02315399464795099, 0.1898627561131981, 0.0046307989295901976, 0.0046307989295901976, 0.0046307989295901976, 0.009261597859180395, 0.6142159180596543, 0.1164200106126142, 0.15656484185834324, 0.02408689874743742, 0.04817379749487484, 0.020072415622864517, 0.004014483124572903, 0.008028966249145807, 0.004014483124572903, 0.9723694449116351, 0.979480379605606, 0.2239130074417223, 0.026869560893006676, 0.1074782435720267, 0.11643476386969559, 0.15226084506037116, 0.026869560893006676, 0.2418260480370601, 0.008956520297668892, 0.08956520297668892, 0.16273244414310112, 0.06974247606132905, 0.023247492020443017, 0.6974247606132905, 0.046494984040886034, 0.07876645252537391, 0.013127742087562318, 0.18378838922587246, 0.0656387104378116, 0.013127742087562318, 0.013127742087562318, 0.617003878115429, 0.05997830349575187, 0.05997830349575187, 0.14994575873937968, 0.029989151747875933, 0.029989151747875933, 0.029989151747875933, 0.6297721867053946, 0.20302319625516912, 0.2249716499043766, 0.02743556706150934, 0.34568814497501765, 0.043896907298414944, 0.06584536094762242, 0.010974226824603736, 0.07681958777222615, 0.06540336730179755, 0.8502437749233682, 0.06540336730179755, 0.12105546724215237, 0.8473882706950666, 0.9795921406246718, 0.49064170359256243, 0.34267039615988487, 0.0584097266181622, 0.015575927098176586, 0.04283379951998561, 0.015575927098176586, 0.01168194532363244, 0.02336389064726488, 0.8641799164936692, 0.050834112734921715, 0.050834112734921715, 0.9545574834355742, 0.03916040789189577, 0.07832081578379153, 0.7832081578379153, 0.03916040789189577, 0.061318464562396334, 0.8584585038735487, 0.23998028984923372, 0.06599457970853928, 0.5459551594070068, 0.005999507246230843, 0.05999507246230843, 0.023998028984923373, 0.047996057969846746, 0.005999507246230843, 0.08782254833165608, 0.02195563708291402, 0.06586691124874205, 0.04391127416582804, 0.7245360237361627, 0.02195563708291402, 0.02195563708291402, 0.9669978276445518, 0.8893980411879197, 0.21997891053953342, 0.054994727634883354, 0.10998945526976671, 0.054994727634883354, 0.054994727634883354, 0.054994727634883354, 0.054994727634883354, 0.3849630934441835, 0.20790451926588688, 0.08316180770635474, 0.08316180770635474, 0.16632361541270949, 0.04158090385317737, 0.37422813467859634, 0.09889537393940531, 0.06879678187089065, 0.14619316147564262, 0.4127806912253439, 0.017199195467722663, 0.1246941671409893, 0.03869818980237599, 0.07309658073782131, 0.017199195467722663, 0.1796724108015016, 0.7186896432060064, 0.1420482896162098, 0.0860898724946726, 0.34866398360342404, 0.09039436611940622, 0.07317639162047171, 0.12052582149254164, 0.0430449362473363, 0.00430449362473363, 0.05595841712153719, 0.03443594899786904, 0.057817142705265494, 0.07358545435215608, 0.12089038929282785, 0.09460986988134354, 0.005256103882296863, 0.1576831164689059, 0.021024415529187452, 0.010512207764593726, 0.17345142811579647, 0.026280519411484314, 0.25229298635024944, 0.23523812019057308, 0.7057143605717193, 0.03506341611661248, 0.0438292701457656, 0.25420976684544044, 0.05259512417491872, 0.01753170805830624, 0.12272195640814368, 0.03506341611661248, 0.07889268626237808, 0.3506341611661248, 0.01514506932146423, 0.01514506932146423, 0.01514506932146423, 0.9389942979307823, 0.986600578761784, 0.0882954682036657, 0.8388069479348241, 0.1823847931265364, 0.4079659846251472, 0.023997999095596894, 0.21118239204125266, 0.009599199638238758, 0.023997999095596894, 0.04319639837207441, 0.009599199638238758, 0.04319639837207441, 0.04799599819119379, 0.004799599819119379, 0.09063423858294911, 0.13595135787442367, 0.09063423858294911, 0.5891225507891692, 0.045317119291474556, 0.9821698693064755, 0.6150538936218962, 0.10696589454293848, 0.12033663136080579, 0.03565529818097949, 0.008913824545244873, 0.004456912272622436, 0.09359515772507117, 0.008913824545244873, 0.004456912272622436, 0.0370769741589563, 0.7786164573380823, 0.1483078966358252, 0.22907032151729784, 0.4056453610202149, 0.05726758037932446, 0.07635677383909928, 0.02863379018966223, 0.10976286239370521, 0.00954459672988741, 0.08112907220404299, 0.16267298726135193, 0.06155194112591695, 0.1714661217079115, 0.35172537786238256, 0.030775970562958475, 0.0483622394560776, 0.13629358392167323, 0.0043965672232797815, 0.017586268893119126, 0.008793134446559563, 0.02748016727607705, 0.020610125457057787, 0.1648810036564623, 0.0549603345521541, 0.0068700418190192625, 0.22671138002763566, 0.04809029273313484, 0.41220250914115575, 0.0068700418190192625, 0.02748016727607705, 0.03949287353122885, 0.02369572411873731, 0.0789857470624577, 0.06318859764996616, 0.00789857470624577, 0.3238415629560766, 0.10268147118119501, 0.33174013766232235, 0.01579714941249154, 0.00789857470624577, 0.9361113305725843, 0.12730708191775547, 0.7638424915065327, 0.9340450560513949, 0.03592480984813057, 0.03948823194981197, 0.026325487966541314, 0.019744115974905985, 0.05265097593308263, 0.842415614929322, 0.013162743983270657, 0.07665968092539498, 0.8049266497166473, 0.07665968092539498, 0.07295095132885714, 0.054713213496642855, 0.10942642699328571, 0.10942642699328571, 0.6565585619597142, 0.12822508334218327, 0.06411254167109164, 0.04274169444739443, 0.04274169444739443, 0.10685423611848607, 0.598383722263522, 0.10123073198130624, 0.8098458558504499, 0.03374357732710208, 0.02789273308318105, 0.0557854661663621, 0.8646747255786125, 0.02789273308318105, 0.01799322291411231, 0.8636746998773909, 0.01799322291411231, 0.06297628019939308, 0.01799322291411231, 0.08327990679511314, 0.04758851816863608, 0.7495191611560184, 0.01189712954215902, 0.01189712954215902, 0.01189712954215902, 0.04758851816863608, 0.03569138862647706, 0.029701465640900072, 0.059402931281800145, 0.8415415264921687, 0.039601954187866766, 0.019800977093933383, 0.009900488546966691, 0.021317150238642665, 0.9166374602616346, 0.021317150238642665, 0.021317150238642665, 0.9092519061952369, 0.06270702801346462, 0.0291633737198442, 0.0291633737198442, 0.0583267474396884, 0.8749012115953261, 0.80667945963916, 0.07744122812535936, 0.01290687135422656, 0.00645343567711328, 0.01936030703133984, 0.00645343567711328, 0.00645343567711328, 0.058080921094019515, 0.16482557881497162, 0.08241278940748581, 0.12361918411122871, 0.041206394703742905, 0.12361918411122871, 0.4532703417411719, 0.20309204006158912, 0.01269325250384932, 0.21578529256543846, 0.18405216130581514, 0.06981288877117127, 0.31098468634430837, 0.17912730515355307, 0.05597728286048533, 0.17912730515355307, 0.21271367486984427, 0.04478182628838827, 0.0335863697162912, 0.27988641430242667, 0.11566197479855012, 0.10560441177258922, 0.25143907564902196, 0.14583466387643274, 0.04023025210384352, 0.18606491598027627, 0.025143907564902198, 0.00502878151298044, 0.09554684874662835, 0.02011512605192176, 0.9813340673293596, 0.14569063204436766, 0.05367549601634598, 0.4524077521377733, 0.02300378400700542, 0.01533585600467028, 0.02300378400700542, 0.2683774800817299, 0.01533585600467028, 0.00766792800233514, 0.05619660377376316, 0.11239320754752632, 0.8148507547195658, 0.013534696897633067, 0.027069393795266135, 0.9474287828343148, 0.3532105048677971, 0.09250751317966113, 0.09250751317966113, 0.06727819140338992, 0.3784398266440683, 0.00840977392542374, 0.03795839052346741, 0.05314174673285437, 0.0075916781046934815, 0.6756593513177198, 0.05314174673285437, 0.1594252401985631, 0.11985811396132737, 0.08989358547099552, 0.6891841552776323, 0.014982264245165921, 0.014982264245165921, 0.07491132122582961, 0.14035638567744294, 0.028071277135488584, 0.028071277135488584, 0.7579244826581918, 0.028071277135488584, 0.25863156183027486, 0.06207157483926597, 0.02069052494642199, 0.04138104989284398, 0.1965599869910089, 0.010345262473210996, 0.3931199739820178, 0.22229791748652564, 0.08891916699461025, 0.6224341689622718, 0.07385018829457084, 0.07385018829457084, 0.14770037658914167, 0.5169513180619959, 0.06097830800444102, 0.02032610266814701, 0.02032610266814701, 0.7723919013895862, 0.10163051334073503, 0.05327766842587953, 0.05327766842587953, 0.23442174107386995, 0.09589980316658316, 0.13852193790728679, 0.021311067370351815, 0.06393320211105544, 0.3303215442404531, 0.018779765672453555, 0.11267859403472133, 0.07511906268981422, 0.15023812537962844, 0.09389882836226777, 0.5446132045011531, 0.17063578589948128, 0.09878913920496285, 0.5568115118825179, 0.01796166167362961, 0.03592332334725922, 0.01796166167362961, 0.07184664669451844, 0.1409260651726064, 0.20258121868562168, 0.0352315162931516, 0.5372806234705618, 0.026423637219863697, 0.0176157581465758, 0.0088078790732879, 0.0352315162931516, 0.07067767326831471, 0.8481320792197766, 0.0803970969371853, 0.06699758078098775, 0.0267990323123951, 0.683375323966075, 0.06699758078098775, 0.06699758078098775, 0.03884788044137405, 0.776957608827481, 0.0776957608827481, 0.03884788044137405, 0.04782718044694683, 0.03188478696463122, 0.03188478696463122, 0.11159675437620926, 0.01594239348231561, 0.7492924936688337, 0.10065988536525783, 0.06291242835328614, 0.6794542262154903, 0.07549491402394337, 0.012582485670657229, 0.06291242835328614, 0.012582485670657229, 0.9496269036383772, 0.10183217185547289, 0.03394405728515763, 0.7807133175586255, 0.03394405728515763, 0.03394405728515763, 0.03394405728515763, 0.04246507849771314, 0.030332198926937955, 0.15166099463468977, 0.44285010433329414, 0.006066439785387592, 0.09706303656620147, 0.018199319356162775, 0.18805963334701534, 0.012132879570775183, 0.043725816364473015, 0.05465727045559127, 0.45912107182696665, 0.13117744909341905, 0.010931454091118254, 0.05465727045559127, 0.03279436227335476, 0.010931454091118254, 0.19676617364012855, 0.04896021990410719, 0.0356074326575325, 0.6186791424246272, 0.09792043980821438, 0.01780371632876625, 0.05341114898629875, 0.01780371632876625, 0.01780371632876625, 0.022254645410957813, 0.071214865315065, 0.05632868197811471, 0.8449302296717207, 0.05632868197811471, 0.014897190319169744, 0.007448595159584872, 0.007448595159584872, 0.007448595159584872, 0.9534201804268636, 0.980649884067525, 0.9946873179253863, 0.16793433331038676, 0.13683538269735218, 0.06841769134867609, 0.47892383944073263, 0.049758320980855336, 0.0373187407356415, 0.006219790122606917, 0.012439580245213834, 0.04353853085824842, 0.9891770095232989, 0.031202925730505825, 0.7176672918016339, 0.15601462865252913, 0.06240585146101165, 0.24567422276505058, 0.10748247245970963, 0.061418555691262644, 0.04606391676844698, 0.4683164871458777, 0.061418555691262644, 0.0076773194614078305, 0.3375834984428224, 0.12659381191605842, 0.0421979373053528, 0.0421979373053528, 0.42197937305352806, 0.856598762238568, 0.07787261474896072, 0.23070105377349773, 0.5133098446460325, 0.023070105377349773, 0.14995568495277353, 0.04614021075469955, 0.023070105377349773, 0.011535052688674887, 0.005767526344337443, 0.0971166812034322, 0.16186113533905366, 0.6474445413562147, 0.03237222706781073, 0.01549932855158648, 0.05424764993055268, 0.8524630703372564, 0.06974697848213916, 0.06667462293859071, 0.06667462293859071, 0.18335521308112446, 0.050005967203943034, 0.18335521308112446, 0.050005967203943034, 0.3167044589583059, 0.06667462293859071, 0.04600486211000194, 0.2300243105500097, 0.11041166906400465, 0.6072641798520255, 0.07850766022744014, 0.12757494786959023, 0.12757494786959023, 0.5691805366489411, 0.08832111775587016, 0.0759629088836788, 0.027622875957701385, 0.006905718989425346, 0.013811437978850693, 0.013811437978850693, 0.8563091546887429, 0.9116750821388087, 0.05697969263367554, 0.1581494717750483, 0.03514432706112185, 0.10543298118336553, 0.4832344970904254, 0.1405773082444874, 0.017572163530560923, 0.017572163530560923, 0.043930408826402305, 0.8289537127844807, 0.05921097948460576, 0.03843557685992629, 0.11530673057977886, 0.807147114058452, 0.15272037431452676, 0.013883670392229706, 0.2499060670601347, 0.12495303353006736, 0.11106936313783765, 0.013883670392229706, 0.3193244190212832, 0.013883670392229706, 0.23798637752427945, 0.4050831957860076, 0.04050831957860076, 0.15696973836707795, 0.04050831957860076, 0.04557185952592586, 0.03038123968395057, 0.04050831957860076, 0.20377601260677178, 0.033962668767795294, 0.11886934068728354, 0.15283200945507883, 0.033962668767795294, 0.10188800630338589, 0.3226453532940553, 0.2106926860654835, 0.0421385372130967, 0.19664650699445127, 0.0842770744261934, 0.1264156116392901, 0.028092358142064466, 0.2949697604916769, 0.042563261254883106, 0.042563261254883106, 0.808701963842779, 0.042563261254883106, 0.0528188948725029, 0.0528188948725029, 0.8451023179600464, 0.0528188948725029, 0.1591532206454646, 0.6896639561303467, 0.10610214709697642, 0.10770457369109877, 0.10770457369109877, 0.6462274421465927, 0.05385228684554939, 0.9806305485131552, 0.20380729149675691, 0.03218009865738267, 0.20380729149675691, 0.24671408970660047, 0.2574407892590614, 0.01072669955246089, 0.01072669955246089, 0.01072669955246089, 0.02145339910492178, 0.17695881780445713, 0.7078352712178285, 0.05898627260148571, 0.46072260385221525, 0.16802824375786674, 0.01626079778301936, 0.027101329638365604, 0.271013296383656, 0.01084053185534624, 0.01084053185534624, 0.01084053185534624, 0.027101329638365604, 0.2062979664811362, 0.687659888270454, 0.0687659888270454, 0.1734286107037197, 0.5646512906632735, 0.06453157607580269, 0.1008305876184417, 0.008066447009475336, 0.012099670514213004, 0.032265788037901345, 0.02016611752368834, 0.02016611752368834, 0.059573295236021194, 0.027078770561827815, 0.30328223029247153, 0.2491246891688159, 0.2924507220677404, 0.027078770561827815, 0.010831508224731126, 0.027078770561827815, 0.06936192229122055, 0.8323430674946466, 0.06936192229122055, 0.05876040000686159, 0.0195868000022872, 0.23504160002744637, 0.6463644000754776, 0.0195868000022872, 0.9891687626732435, 0.29249250295345025, 0.1264832445204109, 0.1264832445204109, 0.007905202782525681, 0.40316534190880976, 0.007905202782525681, 0.007905202782525681, 0.023715608347577046, 0.007905202782525681, 0.5951666187933484, 0.12089321944239889, 0.03254817446526124, 0.08834504497713765, 0.08369530576781462, 0.013949217627969104, 0.037197913674584276, 0.0046497392093230346, 0.009299478418646069, 0.009299478418646069, 0.018816337889546803, 0.959633232366887, 0.15931812737794793, 0.15931812737794793, 0.14604161676311894, 0.3982953184448698, 0.03982953184448698, 0.004425503538276331, 0.05310604245931598, 0.004425503538276331, 0.02655302122965799, 0.649776419222179, 0.025991056768887157, 0.038986585153330734, 0.012995528384443579, 0.012995528384443579, 0.012995528384443579, 0.2599105676888716, 0.9841972476808275, 0.30023445875440424, 0.6129786866235754, 0.03752930734430053, 0.012509769114766844, 0.025019538229533688, 0.20062270059063275, 0.01910692386577455, 0.028660385798661824, 0.7260631068994329, 0.009553461932887275, 0.22034821700406013, 0.04406964340081202, 0.13220893020243607, 0.04406964340081202, 0.04406964340081202, 0.5288357208097443, 0.09554581470836322, 0.03184860490278774, 0.03184860490278774, 0.7643665176669058, 0.03184860490278774, 0.03184860490278774, 0.1094580186185701, 0.3040500517182503, 0.06081001034365006, 0.19459203309968018, 0.018243003103095016, 0.18851103206531516, 0.05472900930928505, 0.05472900930928505, 0.10138459339862706, 0.12954698045380125, 0.09575211598759223, 0.48439305734899596, 0.011264954822069673, 0.061957251521383205, 0.033794864466209024, 0.07322220634345288, 0.9740347890191775, 0.9882847407820173, 0.9893028375443983, 0.9674105624050019, 0.45450034957223545, 0.4651944754445233, 0.021388251744575783, 0.005347062936143946, 0.021388251744575783, 0.005347062936143946, 0.021388251744575783, 0.005347062936143946, 0.3401013431555665, 0.12753800368333743, 0.5101520147333497, 0.882547120739975, 0.06788824005692115, 0.022629413352307053, 0.12053239520320332, 0.06978191301238086, 0.2981590828710819, 0.3742848061573156, 0.012687620547705612, 0.012687620547705612, 0.08246953356008647, 0.019031430821558417, 0.040651546792524626, 0.08130309358504925, 0.8130309358504925, 0.040651546792524626, 0.1453602064663453, 0.05191435945226617, 0.11421159079498558, 0.10382871890453234, 0.05191435945226617, 0.10382871890453234, 0.041531487561812935, 0.08306297512362587, 0.2907204129326906, 0.3807305311997953, 0.44270991999976195, 0.035416793599980956, 0.044270991999976195, 0.06197938879996667, 0.013281297599992858, 0.0044270991999976195, 0.0044270991999976195, 0.008854198399995239, 0.41438868547719976, 0.18150909363877346, 0.03424699879976858, 0.010274099639930572, 0.06164459783958344, 0.05821989795960658, 0.20548199279861146, 0.01369879951990743, 0.020548199279861144, 0.5608249801697354, 0.2824896196410519, 0.02077129556184205, 0.00830851822473682, 0.09970221869684184, 0.02077129556184205, 0.19029722264728335, 0.22201342642183058, 0.5391754641673029, 0.33319061162431307, 0.13630525020994624, 0.18931284751381422, 0.015145027801105139, 0.11358770850828853, 0.037862569502762844, 0.1741678197127091, 0.042175661132158204, 0.09138059911967611, 0.056234214842877606, 0.08435132226431641, 0.681839854969891, 0.021087830566079102, 0.021087830566079102, 0.9436323007172696, 0.16812094958523818, 0.22235351396757308, 0.09219535944996933, 0.1518511802705377, 0.1084651287646698, 0.1572744367087712, 0.00542325643823349, 0.06507907725880188, 0.00542325643823349, 0.01626976931470047, 0.023510401127974322, 0.047020802255948645, 0.7053120338392297, 0.023510401127974322, 0.023510401127974322, 0.16457280789582027, 0.26981843694086843, 0.0207552643800668, 0.0830210575202672, 0.6019026670219372, 0.08035556775957946, 0.014610103229014447, 0.17532123874817337, 0.6720647485346646, 0.021915154843521672, 0.029220206458028895, 0.035873390482815924, 0.07174678096563185, 0.8609613715875822, 0.06504732663482958, 0.7805679196179549, 0.06504732663482958, 0.06504732663482958, 0.8867045601758303, 0.059113637345055356, 0.11212711583741211, 0.28031778959353026, 0.056063557918706056, 0.5045720212683544, 0.950720815302537, 0.969127033133787, 0.12022120831360326, 0.06557520453469269, 0.010929200755782116, 0.3497344241850277, 0.038252202645237404, 0.02732300188945529, 0.38252202645237404, 0.2181342455593931, 0.7271141518646436, 0.6833989646664191, 0.23379438264903812, 0.01798418328069524, 0.03596836656139048, 0.01798418328069524, 0.021942509074925672, 0.021942509074925672, 0.7460453085474729, 0.021942509074925672, 0.08777003629970269, 0.06582752722477701, 0.058962042576673535, 0.058962042576673535, 0.8254685960734295, 0.24140442458314945, 0.06390117121318663, 0.18460338350476135, 0.05680104107838811, 0.21300390404395542, 0.17040312323516432, 0.07100130134798513, 0.14537219563028228, 0.7268609781514114, 0.07268609781514114, 0.07949558397333131, 0.11482695462814524, 0.10599411196444175, 0.5123048744948018, 0.00883284266370348, 0.01766568532740696, 0.15899116794666263, 0.09084398521074159, 0.03633759408429664, 0.25436315859007647, 0.5359795127433754, 0.045421992605370796, 0.01816879704214832, 0.00908439852107416, 0.9898194999043155, 0.8218967407096084, 0.10958623209461445, 0.30666023347113625, 0.5133225647234236, 0.06666526814589918, 0.006666526814589918, 0.03333263407294959, 0.019999580443769753, 0.019999580443769753, 0.019999580443769753, 0.006666526814589918, 0.8887225554096427, 0.14564761772574825, 0.0970984118171655, 0.04854920590858275, 0.194196823634331, 0.43694285317724474, 0.9749284700397908, 0.19674921450401747, 0.06886222507640612, 0.06886222507640612, 0.09837460725200874, 0.3344736646568297, 0.009837460725200874, 0.04918730362600437, 0.157399371603214, 0.2545668021613555, 0.09256974624049291, 0.046284873120246456, 0.20828192904110904, 0.023142436560123228, 0.37027898496197165, 0.9841082025466582, 0.8553296773326204, 0.09355168345825536, 0.013364526208322194, 0.02672905241664439, 0.8526507743540849, 0.07751370675946226, 0.03875685337973113, 0.7841293107213047, 0.1334688188461795, 0.016683602355772438, 0.033367204711544876, 0.033367204711544876, 0.6716957719406784, 0.03276564741174041, 0.18021106076457227, 0.05733988297054572, 0.016382823705870204, 0.024574235558805307, 0.008191411852935102, 0.24801745348592158, 0.18601309011444117, 0.041336242247653594, 0.14467684786678758, 0.020668121123826797, 0.33068993798122875, 0.05188283130932239, 0.8301253009491583, 0.10376566261864478, 0.05624222288179756, 0.11248444576359512, 0.11248444576359512, 0.6186644516997731, 0.10684975199998334, 0.12372076547366491, 0.6073564850525368, 0.02249468463157544, 0.033742026947363155, 0.07873139621051403, 0.01124734231578772, 0.00562367115789386, 0.09002043588597318, 0.04501021794298659, 0.7651737050307721, 0.04501021794298659, 0.019001982836761477, 0.028502974255142217, 0.5035525451741791, 0.009500991418380738, 0.06650693992866517, 0.3610376738984681, 0.17800831855147306, 0.19971665008214048, 0.2083999826944075, 0.08683332612266978, 0.06946666089813583, 0.026049997836800936, 0.1562999870208056, 0.004341666306133489, 0.06512499459200234, 0.008683332612266979, 0.0227294209732718, 0.01704706572995385, 0.25002363070598976, 0.25002363070598976, 0.08523532864976925, 0.32389424886912316, 0.00568235524331795, 0.00568235524331795, 0.02841177621658975, 0.08108654329902043, 0.8108654329902043, 0.035340772911896585, 0.035340772911896585, 0.07068154582379317, 0.7068154582379317, 0.08835193227974146, 0.017670386455948293, 0.34807758078326656, 0.5076131386422638, 0.03625808133159027, 0.03625808133159027, 0.05076131386422637, 0.014503232532636107, 0.18965265555239483, 0.5057404148063862, 0.058702012432884115, 0.12191956428368239, 0.036124315343313305, 0.027093236507484977, 0.009031078835828326, 0.03160877592539914, 0.018062157671656653, 0.20823351239200827, 0.16418411553985265, 0.2923278154733962, 0.10812124681892736, 0.05205837809800207, 0.07608532183554148, 0.08008981245846471, 0.004004490622923236, 0.008008981245846472, 0.008008981245846472, 0.09382606728311911, 0.06913499694545619, 0.2567871315116944, 0.3604896269298787, 0.03950571254026068, 0.09382606728311911, 0.059258568810391016, 0.014814642202597754, 0.00987642813506517, 0.0385517471079569, 0.8481384363750518, 0.0385517471079569, 0.0385517471079569, 0.06747776508178088, 0.13495553016356177, 0.13495553016356177, 0.607299885736028, 0.46051812695315547, 0.3853981487976762, 0.06532172013519935, 0.0032660860067599677, 0.016330430033799838, 0.006532172013519935, 0.02612868805407974, 0.035926946074359645, 0.8282282513177198, 0.0946546572934537, 0.023663664323363424, 0.01917713854934987, 0.7862626805233447, 0.11506283129609922, 0.01917713854934987, 0.01917713854934987, 0.03835427709869974, 0.8742270954544564, 0.08742270954544565, 0.17742450663231885, 0.07096980265292753, 0.2129094079587826, 0.07096980265292753, 0.035484901326463765, 0.4258188159175652, 0.09675958738695344, 0.09675958738695344, 0.2580255663652091, 0.03225319579565114, 0.03225319579565114, 0.03225319579565114, 0.41929154534346486, 0.10045282033040175, 0.803622562643214, 0.05022641016520087, 0.3292475056400079, 0.5631865228052766, 0.03465763217263241, 0.04332204021579051, 0.008664408043158102, 0.017328816086316205, 0.5877442299155932, 0.160711312867545, 0.050509269758371285, 0.07346802873944915, 0.06887627694323357, 0.004591751796215572, 0.045917517962155714, 0.004591751796215572, 0.10403427117015204, 0.06935618078010136, 0.1733904519502534, 0.06935618078010136, 0.4508151750706588, 0.10403427117015204, 0.22303489701006468, 0.07434496567002156, 0.17347158656338366, 0.02478165522334052, 0.02478165522334052, 0.4708514492434699, 0.05773593480668222, 0.8660390221002333, 0.02886796740334111, 0.0029983016196737755, 0.0029983016196737755, 0.986441232872672, 0.9938535788000552, 0.9958165977446295, 0.442010790042091, 0.48621186904630004, 0.06336925466933395, 0.08147475600342938, 0.17200226267390645, 0.5793760426910534, 0.04526375333523854, 0.018105501334095418, 0.009052750667047709, 0.036211002668190835, 0.9885893882388659, 0.2711939773133427, 0.15392090604270803, 0.3005122451310014, 0.007329566954414667, 0.03664783477207334, 0.014659133908829334, 0.19056874081478134, 0.02931826781765867, 0.03814376065325085, 0.057215640979876276, 0.11443128195975255, 0.20025474342956695, 0.5435485893088245, 0.009535940163312712, 0.009535940163312712, 0.019071880326625424, 0.8578933405495115, 0.07799030368631923, 0.046323612167782705, 0.7875014068523061, 0.046323612167782705, 0.09264722433556541, 0.046323612167782705, 0.8443782392244532, 0.04221891196122266, 0.04221891196122266, 0.06609950908676956, 0.7931941090412348, 0.06609950908676956, 0.1345104726050088, 0.06974617098037494, 0.03487308549018747, 0.40353141781502644, 0.08469177904759814, 0.04981869355741067, 0.21920225165260696, 0.0049818693557410676, 0.04826764073851712, 0.3378734851696199, 0.5792116888622055, 0.3969158287898126, 0.04961447859872657, 0.06615263813163544, 0.01653815953290886, 0.00826907976645443, 0.4547993871549936, 0.33765643734809564, 0.03751738192756618, 0.056276072891349276, 0.01875869096378309, 0.5252433469859266, 0.05141003042297068, 0.10282006084594136, 0.8225604867675309, 0.06152825598554899, 0.7998673278121369, 0.7830457149345081, 0.05660571433261505, 0.018868571444205014, 0.009434285722102507, 0.028302857166307524, 0.009434285722102507, 0.08490857149892257, 0.26218244169100946, 0.05243648833820189, 0.10487297667640379, 0.03495765889213459, 0.20974595335280757, 0.3146189300292113, 0.11330836928730559, 0.037769456429101865, 0.037769456429101865, 0.7553891285820373, 0.037769456429101865, 0.037769456429101865, 0.03225089949961336, 0.2257562964972935, 0.03225089949961336, 0.6772688894918806, 0.0343535616641285, 0.029445909997824427, 0.4907651666304071, 0.10306068499238549, 0.07852242666086513, 0.12759894332390584, 0.019630606665216283, 0.004907651666304071, 0.09815303332608143, 0.004907651666304071, 0.020381746988596777, 0.020381746988596777, 0.006793915662865592, 0.9443542771383173, 0.14902235206054998, 0.74511176030275, 0.0487313974564368, 0.8771651542158624, 0.3677066497072738, 0.512717722831269, 0.005178966897285546, 0.046610702075569915, 0.046610702075569915, 0.010357933794571093, 0.005178966897285546, 0.3561352845767498, 0.06105176307029996, 0.15262940767574992, 0.020350587690099987, 0.11192823229554993, 0.05087646922524997, 0.22385646459109987, 0.010175293845049994, 0.1629192863941454, 0.0232741837705922, 0.0232741837705922, 0.7214996968883582, 0.0232741837705922, 0.2150754464450238, 0.7312565179130809, 0.3211055957166358, 0.18001374305326556, 0.1508223252608441, 0.02919141779242144, 0.0729785444810536, 0.05351759928610598, 0.1362266163646334, 0.048652362987369066, 0.004865236298736907, 0.004865236298736907, 0.9687619013236572, 0.5804250519558632, 0.23363020959229713, 0.05840755239807428, 0.01460188809951857, 0.021902832149277858, 0.05840755239807428, 0.0255533041741575, 0.21022807785221334, 0.12013033020126478, 0.09009774765094858, 0.5405864859056915, 0.17378015138248482, 0.13323144939323836, 0.3996943481797151, 0.05792671712749494, 0.04634137370199595, 0.06951206055299393, 0.11585343425498988, 0.005792671712749494, 0.9840385327814747, 0.059635009771420715, 0.10223144532243551, 0.22150146486527694, 0.5111572266121776, 0.025557861330608878, 0.051115722661217756, 0.00851928711020296, 0.00851928711020296, 0.9009298708071442, 0.0607117664877706, 0.0607117664877706, 0.7892529643410178, 0.11578483142612253, 0.08104938199828578, 0.5210317414175514, 0.1505202808539593, 0.028946207856530633, 0.046313932570449017, 0.028946207856530633, 0.005789241571306127, 0.023156966285224508, 0.20127044185420523, 0.1310598226027383, 0.44466725525929063, 0.05616849540117355, 0.018722831800391183, 0.05148778745107575, 0.07957203515166253, 0.014042123850293388, 0.10843075945005387, 0.03994817453423037, 0.6220501463187301, 0.091310113221098, 0.0228275283052745, 0.07418946699214213, 0.017120646228955875, 0.01141376415263725, 0.005706882076318625, 0.08750815757654232, 0.0926556962575154, 0.42724571052076543, 0.2522293953676808, 0.0051475386809730775, 0.0463278481287577, 0.015442616042919233, 0.05662292549070386, 0.010295077361946155, 0.045054303918116295, 0.7433960146489188, 0.18021721567246518, 0.022527151959058148, 0.08995532917941569, 0.0791606896778858, 0.4209909405596654, 0.19430351102753787, 0.02878570533741302, 0.06476783700917929, 0.07556247651070917, 0.035982131671766275, 0.010794639501529882, 0.06595255660572202, 0.11871460189029966, 0.6727160773783647, 0.06595255660572202, 0.026381022642288813, 0.026381022642288813, 0.026381022642288813, 0.9950843827244764], \"Term\": [\"000\", \"000\", \"000\", \"000\", \"000\", \"000\", \"000\", \"000\", \"000\", \"000\", \"000\", \"000\", \"10\", \"10\", \"10\", \"10\", \"10\", \"10\", \"10\", \"10\", \"10\", \"10\", \"14\", \"14\", \"14\", \"14\", \"14\", \"14\", \"14\", \"14\", \"14\", \"14\", \"1943\", \"1943\", \"1943\", \"1943\", \"1943\", \"1943\", \"1997\", \"1997\", \"1997\", \"1997\", \"1997\", \"1997\", \"1997\", \"1997\", \"1997\", \"1997\", \"1998\", \"1998\", \"1998\", \"1998\", \"1998\", \"1998\", \"1998\", \"1998\", \"1998\", \"1st\", \"1st\", \"1st\", \"1st\", \"1st\", \"1st\", \"2001\", \"2001\", \"2001\", \"2001\", \"2001\", \"2001\", \"2001\", \"2001\", \"2001\", \"2002\", \"2002\", \"2002\", \"2002\", \"2002\", \"2002\", \"2003\", \"2003\", \"2003\", \"2003\", \"2003\", \"22\", \"22\", \"22\", \"22\", \"22\", \"22\", \"22\", \"22\", \"22\", \"22\", \"23\", \"23\", \"23\", \"23\", \"23\", \"23\", \"23\", \"24\", \"24\", \"24\", \"24\", \"24\", \"24\", \"24\", \"24\", \"24\", \"25\", \"25\", \"25\", \"25\", \"25\", \"25\", \"25\", \"25\", \"25\", \"25\", \"25\", \"600\", \"600\", \"600\", \"600\", \"600\", \"600\", \"60s\", \"60s\", \"60s\", \"60s\", \"60s\", \"acclaimed\", \"acclaimed\", \"acclaimed\", \"acclaimed\", \"acclaimed\", \"acclaimed\", \"acclaimed\", \"acclaimed\", \"acclaimed\", \"account\", \"account\", \"account\", \"account\", \"account\", \"account\", \"account\", \"account\", \"account\", \"accused\", \"accused\", \"accused\", \"accused\", \"accused\", \"across\", \"across\", \"across\", \"across\", \"across\", \"across\", \"across\", \"across\", \"addresses\", \"addresses\", \"addresses\", \"addresses\", \"administration\", \"administration\", \"administration\", \"administration\", \"administration\", \"administration\", \"adorable\", \"adorable\", \"adorable\", \"adorable\", \"adventure\", \"adventure\", \"adventure\", \"adventure\", \"adventure\", \"adventure\", \"adventure\", \"adventure\", \"advice\", \"advice\", \"advice\", \"advice\", \"advice\", \"advice\", \"age\", \"age\", \"age\", \"age\", \"age\", \"age\", \"age\", \"age\", \"age\", \"age\", \"alex\", \"alex\", \"alex\", \"alex\", \"alex\", \"alex\", \"alex\", \"alien\", \"alien\", \"alien\", \"alien\", \"alien\", \"alien\", \"aliens\", \"aliens\", \"aliens\", \"aliens\", \"alphabet\", \"alphabet\", \"alphabet\", \"alphabet\", \"alphabet\", \"als\", \"always\", \"always\", \"always\", \"always\", \"always\", \"always\", \"always\", \"amsterdam\", \"amsterdam\", \"amsterdam\", \"amsterdam\", \"amsterdam\", \"amsterdam\", \"amsterdam\", \"ancient\", \"ancient\", \"ancient\", \"ancient\", \"ancient\", \"ancient\", \"ancient\", \"ancient\", \"anita\", \"anita\", \"anita\", \"anita\", \"anita\", \"anita\", \"another\", \"another\", \"another\", \"another\", \"another\", \"another\", \"another\", \"another\", \"another\", \"anthology\", \"anthology\", \"anthology\", \"anthology\", \"anthology\", \"anthology\", \"antics\", \"antics\", \"antics\", \"application\", \"application\", \"application\", \"approach\", \"approach\", \"approach\", \"approach\", \"approach\", \"approach\", \"approach\", \"arab\", \"arab\", \"arab\", \"arab\", \"argues\", \"argues\", \"argues\", \"art\", \"art\", \"art\", \"art\", \"art\", \"art\", \"art\", \"art\", \"art\", \"art\", \"asylum\", \"asylum\", \"asylum\", \"atomic\", \"atomic\", \"atomic\", \"attic\", \"attic\", \"attic\", \"attic\", \"attorney\", \"attorney\", \"attorney\", \"attorney\", \"attractions\", \"attractions\", \"attractions\", \"au\", \"au\", \"auch\", \"auf\", \"aus\", \"autobiographical\", \"autobiographical\", \"autobiographical\", \"autobiographical\", \"autobiographical\", \"autobiography\", \"autobiography\", \"autobiography\", \"autobiography\", \"autobiography\", \"available\", \"available\", \"available\", \"available\", \"available\", \"available\", \"available\", \"available\", \"available\", \"avec\", \"award\", \"award\", \"award\", \"award\", \"award\", \"award\", \"award\", \"away\", \"away\", \"away\", \"away\", \"away\", \"away\", \"away\", \"baby\", \"baby\", \"baby\", \"baby\", \"baby\", \"baby\", \"baby\", \"baby\", \"baby\", \"baby\", \"bachelor\", \"bachelor\", \"bad\", \"bad\", \"bad\", \"bad\", \"bad\", \"bad\", \"bad\", \"bad\", \"bad\", \"baseball\", \"baseball\", \"baseball\", \"baseball\", \"basics\", \"basics\", \"basics\", \"battle\", \"battle\", \"battle\", \"battle\", \"battle\", \"battle\", \"battle\", \"becomes\", \"becomes\", \"becomes\", \"becomes\", \"becomes\", \"becomes\", \"becomes\", \"beginner\", \"beginner\", \"beginner\", \"beginners\", \"beginners\", \"bestselling\", \"bestselling\", \"bestselling\", \"bestselling\", \"bestselling\", \"bestselling\", \"bestselling\", \"bestselling\", \"bestselling\", \"bestselling\", \"beth\", \"beth\", \"beth\", \"beth\", \"bible\", \"bible\", \"bible\", \"bible\", \"bible\", \"bible\", \"big\", \"big\", \"big\", \"big\", \"big\", \"big\", \"big\", \"big\", \"big\", \"binding\", \"binding\", \"binding\", \"binding\", \"binding\", \"binding\", \"biography\", \"biography\", \"biography\", \"biography\", \"biography\", \"biography\", \"biography\", \"birds\", \"birds\", \"birds\", \"birds\", \"birds\", \"birthright\", \"black\", \"black\", \"black\", \"black\", \"black\", \"black\", \"black\", \"black\", \"black\", \"black\", \"blackmail\", \"blackmail\", \"blacks\", \"blacks\", \"blacks\", \"blacks\", \"blood\", \"blood\", \"blood\", \"blood\", \"blood\", \"blood\", \"blood\", \"body\", \"body\", \"body\", \"body\", \"body\", \"body\", \"body\", \"body\", \"books\", \"books\", \"books\", \"books\", \"books\", \"books\", \"books\", \"books\", \"books\", \"boy\", \"boy\", \"boy\", \"boy\", \"boy\", \"boy\", \"boy\", \"boyfriend\", \"boyfriend\", \"boyfriend\", \"bradbury\", \"bram\", \"bram\", \"bram\", \"bread\", \"bread\", \"bread\", \"bread\", \"brother\", \"brother\", \"brother\", \"brother\", \"brother\", \"brother\", \"brother\", \"brother\", \"buddhism\", \"buddhism\", \"buddhist\", \"buddhist\", \"buddhist\", \"bunny\", \"bunny\", \"bunny\", \"bunny\", \"bush\", \"bush\", \"bush\", \"bush\", \"bush\", \"bush\", \"business\", \"business\", \"business\", \"business\", \"business\", \"business\", \"camp\", \"camp\", \"camp\", \"camp\", \"camp\", \"camp\", \"camp\", \"camp\", \"camps\", \"camps\", \"camps\", \"camps\", \"camps\", \"camps\", \"candor\", \"candor\", \"candor\", \"candor\", \"candy\", \"candy\", \"candy\", \"candy\", \"canon\", \"canon\", \"captain\", \"captain\", \"captain\", \"captain\", \"captain\", \"captain\", \"career\", \"career\", \"career\", \"career\", \"career\", \"career\", \"career\", \"career\", \"case\", \"case\", \"case\", \"case\", \"case\", \"case\", \"case\", \"cat\", \"cat\", \"cat\", \"cat\", \"cat\", \"cat\", \"cat\", \"cat\", \"cathy\", \"cathy\", \"cathy\", \"cats\", \"cats\", \"cats\", \"cats\", \"cats\", \"cats\", \"cats\", \"cats\", \"cd\", \"cd\", \"cd\", \"cd\", \"cd\", \"ce\", \"characters\", \"characters\", \"characters\", \"characters\", \"characters\", \"characters\", \"characters\", \"characters\", \"che\", \"chef\", \"chef\", \"chef\", \"chef\", \"chef\", \"chicken\", \"chicken\", \"chicken\", \"chicken\", \"childhood\", \"childhood\", \"childhood\", \"childhood\", \"childhood\", \"childhood\", \"childhood\", \"chocolate\", \"chocolate\", \"chocolate\", \"chocolate\", \"christians\", \"christians\", \"christians\", \"christmas\", \"christmas\", \"christmas\", \"christmas\", \"christmas\", \"christmas\", \"christmas\", \"city\", \"city\", \"city\", \"city\", \"city\", \"city\", \"city\", \"city\", \"city\", \"civil\", \"civil\", \"civil\", \"civil\", \"civil\", \"civil\", \"civil\", \"civil\", \"civil\", \"classic\", \"classic\", \"classic\", \"classic\", \"classic\", \"classic\", \"classic\", \"classic\", \"classic\", \"classic\", \"classmates\", \"classmates\", \"classmates\", \"clean\", \"clean\", \"clean\", \"clean\", \"clean\", \"clean\", \"clinical\", \"clinical\", \"clinton\", \"clinton\", \"clinton\", \"clinton\", \"clinton\", \"cloth\", \"cloth\", \"cloth\", \"cloth\", \"cloth\", \"collection\", \"collection\", \"collection\", \"collection\", \"collection\", \"collection\", \"collection\", \"collection\", \"collection\", \"collection\", \"colonists\", \"colonists\", \"color\", \"color\", \"color\", \"color\", \"color\", \"color\", \"color\", \"color\", \"colour\", \"colour\", \"colour\", \"colour\", \"comes\", \"comes\", \"comes\", \"comes\", \"comes\", \"comes\", \"comes\", \"comes\", \"comes\", \"comes\", \"communication\", \"communication\", \"communication\", \"communication\", \"communist\", \"communist\", \"communist\", \"communist\", \"como\", \"complete\", \"complete\", \"complete\", \"complete\", \"complete\", \"complete\", \"complete\", \"complete\", \"complete\", \"con\", \"con\", \"con\", \"con\", \"con\", \"concentration\", \"concentration\", \"concentration\", \"concentration\", \"concise\", \"concise\", \"concise\", \"concise\", \"confederate\", \"confederate\", \"confederate\", \"conservative\", \"conservative\", \"conservative\", \"conservative\", \"conservative\", \"contemporary\", \"contemporary\", \"contemporary\", \"contemporary\", \"contemporary\", \"contemporary\", \"contemporary\", \"contemporary\", \"cookbook\", \"cookbook\", \"cookbook\", \"cookies\", \"cookies\", \"cookies\", \"cooking\", \"cooking\", \"cooking\", \"cooking\", \"cooking\", \"cooks\", \"cooks\", \"cooks\", \"cop\", \"cop\", \"cop\", \"cop\", \"copies\", \"copies\", \"copies\", \"copies\", \"copies\", \"copies\", \"copies\", \"copies\", \"cops\", \"cops\", \"cops\", \"correspondent\", \"correspondent\", \"correspondent\", \"correspondent\", \"correspondent\", \"country\", \"country\", \"country\", \"country\", \"country\", \"country\", \"country\", \"country\", \"country\", \"covers\", \"covers\", \"covers\", \"covers\", \"covers\", \"covers\", \"covers\", \"covers\", \"crafts\", \"crafts\", \"crafts\", \"crafts\", \"crafts\", \"crafts\", \"crazy\", \"crazy\", \"crazy\", \"crazy\", \"crazy\", \"crew\", \"crew\", \"crew\", \"crew\", \"crew\", \"crime\", \"crime\", \"crime\", \"crime\", \"crime\", \"crime\", \"crime\", \"crime\", \"crime\", \"cuba\", \"cuba\", \"cuba\", \"cuba\", \"cuba\", \"cuisine\", \"cuisine\", \"culinary\", \"culinary\", \"cute\", \"cute\", \"dad\", \"dad\", \"dad\", \"dad\", \"daddy\", \"daddy\", \"danger\", \"danger\", \"danger\", \"danger\", \"danger\", \"danger\", \"danger\", \"danger\", \"danger\", \"dangerous\", \"dangerous\", \"dangerous\", \"dangerous\", \"dangerous\", \"dangerous\", \"dangerous\", \"dans\", \"dark\", \"dark\", \"dark\", \"dark\", \"dark\", \"dark\", \"dark\", \"dark\", \"dark\", \"das\", \"das\", \"dashing\", \"dashing\", \"dashing\", \"dashing\", \"daughter\", \"daughter\", \"daughter\", \"daughter\", \"daughter\", \"daughter\", \"daughter\", \"daughters\", \"daughters\", \"daughters\", \"daughters\", \"daughters\", \"de\", \"de\", \"de\", \"de\", \"de\", \"de\", \"de\", \"de\", \"de\", \"dead\", \"dead\", \"dead\", \"dead\", \"dead\", \"dead\", \"dead\", \"dead\", \"deadly\", \"deadly\", \"deadly\", \"deadly\", \"deadly\", \"deadly\", \"deaf\", \"deaf\", \"deaf\", \"deaf\", \"deceit\", \"deceit\", \"decorating\", \"decorating\", \"decorating\", \"decorating\", \"definitions\", \"definitions\", \"definitions\", \"del\", \"del\", \"del\", \"delaware\", \"delaware\", \"delectable\", \"delectable\", \"delectable\", \"delicious\", \"delicious\", \"delicious\", \"delicious\", \"delicious\", \"delicious\", \"delicious\", \"dem\", \"democratic\", \"democratic\", \"democratic\", \"democratic\", \"den\", \"den\", \"den\", \"der\", \"des\", \"des\", \"des\", \"design\", \"design\", \"design\", \"design\", \"design\", \"design\", \"design\", \"designs\", \"designs\", \"designs\", \"designs\", \"designs\", \"designs\", \"desserts\", \"desserts\", \"desserts\", \"destroy\", \"destroy\", \"destroy\", \"destroy\", \"destroy\", \"destroy\", \"destroy\", \"destruction\", \"destruction\", \"destruction\", \"destruction\", \"destruction\", \"destruction\", \"destruction\", \"detailed\", \"detailed\", \"detailed\", \"detailed\", \"detailed\", \"detailed\", \"detailed\", \"detective\", \"detective\", \"detective\", \"detective\", \"detective\", \"detective\", \"detective\", \"detective\", \"detective\", \"detectives\", \"detectives\", \"detectives\", \"detectives\", \"determined\", \"determined\", \"determined\", \"determined\", \"determined\", \"determined\", \"di\", \"di\", \"di\", \"di\", \"di\", \"diagrams\", \"diagrams\", \"diagrams\", \"diagrams\", \"diary\", \"diary\", \"diary\", \"diary\", \"diary\", \"diary\", \"diary\", \"diary\", \"dickens\", \"dickens\", \"dickens\", \"dictionary\", \"dictionary\", \"dictionary\", \"dictionary\", \"die\", \"die\", \"die\", \"die\", \"die\", \"die\", \"die\", \"diet\", \"diet\", \"diet\", \"diet\", \"diet\", \"dining\", \"dining\", \"dining\", \"dining\", \"dish\", \"dish\", \"dish\", \"dishes\", \"dishes\", \"dishes\", \"dishes\", \"disney\", \"disney\", \"disney\", \"disorders\", \"doch\", \"dog\", \"dog\", \"dog\", \"dog\", \"dog\", \"dog\", \"dog\", \"doll\", \"doll\", \"doll\", \"dr\", \"dr\", \"dr\", \"dr\", \"dr\", \"dr\", \"dr\", \"dr\", \"dr\", \"dr\", \"dr\", \"dracula\", \"dracula\", \"dracula\", \"dramatic\", \"dramatic\", \"dramatic\", \"dramatic\", \"dramatic\", \"dramatic\", \"dramatic\", \"drawings\", \"drawings\", \"drawings\", \"drawings\", \"drawings\", \"drawings\", \"du\", \"du\", \"du\", \"du\", \"duck\", \"duck\", \"duck\", \"earl\", \"earl\", \"earl\", \"early\", \"early\", \"early\", \"early\", \"early\", \"early\", \"early\", \"early\", \"early\", \"earth\", \"earth\", \"earth\", \"earth\", \"earth\", \"earth\", \"earth\", \"easy\", \"easy\", \"easy\", \"easy\", \"easy\", \"easy\", \"easy\", \"edith\", \"edith\", \"edith\", \"edith\", \"edition\", \"edition\", \"edition\", \"edition\", \"edition\", \"edition\", \"edition\", \"edition\", \"edition\", \"effective\", \"effective\", \"effective\", \"effective\", \"effective\", \"effective\", \"ein\", \"eine\", \"einem\", \"einen\", \"einer\", \"eines\", \"el\", \"el\", \"el\", \"el\", \"eleanor\", \"eleanor\", \"eleanor\", \"eleanor\", \"eleanor\", \"eleanor\", \"election\", \"election\", \"election\", \"election\", \"eliot\", \"eliot\", \"eliot\", \"eliot\", \"elle\", \"elle\", \"emphasis\", \"emphasis\", \"empire\", \"empire\", \"empire\", \"empire\", \"empire\", \"empire\", \"en\", \"en\", \"en\", \"en\", \"en\", \"enemy\", \"enemy\", \"enemy\", \"enemy\", \"enemy\", \"enemy\", \"energies\", \"energies\", \"energies\", \"english\", \"english\", \"english\", \"english\", \"english\", \"english\", \"english\", \"english\", \"english\", \"english\", \"enterprise\", \"enterprise\", \"enterprise\", \"enterprise\", \"enterprise\", \"entries\", \"entries\", \"entries\", \"entries\", \"entries\", \"epic\", \"epic\", \"epic\", \"epic\", \"epic\", \"er\", \"er\", \"er\", \"era\", \"era\", \"era\", \"era\", \"era\", \"era\", \"era\", \"era\", \"es\", \"es\", \"est\", \"et\", \"everything\", \"everything\", \"everything\", \"everything\", \"everything\", \"everything\", \"everything\", \"everything\", \"evil\", \"evil\", \"evil\", \"evil\", \"evil\", \"evil\", \"evil\", \"excited\", \"excited\", \"excited\", \"excited\", \"excited\", \"exercise\", \"exercise\", \"exercise\", \"exercise\", \"exercise\", \"exercises\", \"exercises\", \"experience\", \"experience\", \"experience\", \"experience\", \"experience\", \"experience\", \"experience\", \"experience\", \"explains\", \"explains\", \"explains\", \"explains\", \"explains\", \"explains\", \"explains\", \"explorers\", \"explorers\", \"explorers\", \"extinction\", \"extinction\", \"extinction\", \"extraordinary\", \"extraordinary\", \"extraordinary\", \"extraordinary\", \"extraordinary\", \"extraordinary\", \"extraordinary\", \"extraordinary\", \"extraordinary\", \"face\", \"face\", \"face\", \"face\", \"face\", \"face\", \"face\", \"face\", \"face\", \"face\", \"fans\", \"fans\", \"fans\", \"fans\", \"fans\", \"fans\", \"fans\", \"fans\", \"fantasy\", \"fantasy\", \"fantasy\", \"fantasy\", \"fantasy\", \"fantasy\", \"fantasy\", \"fantasy\", \"fantasy\", \"favorite\", \"favorite\", \"favorite\", \"favorite\", \"favorite\", \"favorite\", \"favorites\", \"favorites\", \"favorites\", \"favorites\", \"favorites\", \"fbi\", \"fbi\", \"fbi\", \"fbi\", \"fbi\", \"fbi\", \"feature\", \"feature\", \"feature\", \"feature\", \"feature\", \"feature\", \"feature\", \"features\", \"features\", \"features\", \"features\", \"features\", \"features\", \"features\", \"features\", \"features\", \"federation\", \"federation\", \"federation\", \"federation\", \"fiction\", \"fiction\", \"fiction\", \"fiction\", \"fiction\", \"fiction\", \"fiction\", \"fiction\", \"fiction\", \"film\", \"film\", \"film\", \"film\", \"film\", \"film\", \"film\", \"film\", \"film\", \"fleet\", \"fleet\", \"fleet\", \"food\", \"food\", \"food\", \"food\", \"food\", \"food\", \"food\", \"food\", \"foods\", \"foods\", \"foods\", \"force\", \"force\", \"force\", \"force\", \"force\", \"force\", \"force\", \"force\", \"forces\", \"forces\", \"forces\", \"forces\", \"forces\", \"forces\", \"forces\", \"forces\", \"forensic\", \"forensic\", \"forensic\", \"format\", \"format\", \"format\", \"format\", \"format\", \"format\", \"friend\", \"friend\", \"friend\", \"friend\", \"friend\", \"friend\", \"friend\", \"friend\", \"friend\", \"friends\", \"friends\", \"friends\", \"friends\", \"friends\", \"friends\", \"friends\", \"friends\", \"friends\", \"full\", \"full\", \"full\", \"full\", \"full\", \"full\", \"full\", \"full\", \"full\", \"fun\", \"fun\", \"fun\", \"fun\", \"fun\", \"fun\", \"fun\", \"funny\", \"funny\", \"funny\", \"funny\", \"funny\", \"funny\", \"funny\", \"funny\", \"fur\", \"fur\", \"fur\", \"fur\", \"fur\", \"future\", \"future\", \"future\", \"future\", \"future\", \"future\", \"future\", \"future\", \"future\", \"f\\u00fcr\", \"galactic\", \"galaxy\", \"galaxy\", \"galaxy\", \"game\", \"game\", \"game\", \"game\", \"game\", \"game\", \"game\", \"game\", \"gardening\", \"gardening\", \"gardening\", \"genres\", \"genres\", \"genres\", \"german\", \"german\", \"german\", \"german\", \"german\", \"german\", \"german\", \"germany\", \"germany\", \"germany\", \"germany\", \"germany\", \"germany\", \"gets\", \"gets\", \"gets\", \"gets\", \"gets\", \"gets\", \"gets\", \"girl\", \"girl\", \"girl\", \"girl\", \"girl\", \"girl\", \"girl\", \"girl\", \"girl\", \"girls\", \"girls\", \"girls\", \"girls\", \"girls\", \"girls\", \"girls\", \"girls\", \"glossary\", \"glossary\", \"glossary\", \"glossary\", \"glossary\", \"go\", \"go\", \"go\", \"go\", \"go\", \"go\", \"go\", \"god\", \"god\", \"god\", \"god\", \"god\", \"god\", \"god\", \"going\", \"going\", \"going\", \"going\", \"going\", \"going\", \"going\", \"got\", \"got\", \"got\", \"got\", \"got\", \"got\", \"got\", \"got\", \"gourmet\", \"gourmet\", \"grandma\", \"guaranteed\", \"guaranteed\", \"guaranteed\", \"guaranteed\", \"guaranteed\", \"guaranteed\", \"guaranteed\", \"guide\", \"guide\", \"guide\", \"guide\", \"guide\", \"guide\", \"guide\", \"guidelines\", \"guidelines\", \"guy\", \"guy\", \"guy\", \"guy\", \"guy\", \"guy\", \"guy\", \"guys\", \"guys\", \"guys\", \"handsome\", \"handsome\", \"handsome\", \"handsome\", \"handsome\", \"handsome\", \"handsome\", \"hardcover\", \"hardcover\", \"hardcover\", \"hardcover\", \"hardcover\", \"hardcover\", \"hardcover\", \"hardcover\", \"hardcover\", \"hat\", \"hat\", \"hat\", \"hat\", \"hat\", \"healing\", \"healing\", \"healing\", \"healing\", \"healing\", \"healing\", \"health\", \"health\", \"health\", \"health\", \"health\", \"health\", \"health\", \"health\", \"heiress\", \"heiress\", \"heiress\", \"heiress\", \"hemingway\", \"hemingway\", \"hemingway\", \"hemingway\", \"hemingway\", \"herbs\", \"herbs\", \"herbs\", \"herbs\", \"herbs\", \"hercule\", \"hercule\", \"hitler\", \"hitler\", \"hitler\", \"hitler\", \"hitler\", \"hitler\", \"hitler\", \"hollywood\", \"hollywood\", \"hollywood\", \"hollywood\", \"hollywood\", \"hollywood\", \"hollywood\", \"hollywood\", \"holocaust\", \"holocaust\", \"holocaust\", \"holocaust\", \"holocaust\", \"holocaust\", \"homicide\", \"homicide\", \"homicide\", \"horror\", \"horror\", \"horror\", \"horror\", \"horror\", \"horror\", \"horror\", \"horror\", \"horror\", \"hotels\", \"hotels\", \"hotels\", \"hotels\", \"hotels\", \"house\", \"house\", \"house\", \"house\", \"house\", \"house\", \"house\", \"house\", \"house\", \"house\", \"house\", \"humanity\", \"humanity\", \"humanity\", \"humanity\", \"humanity\", \"humanity\", \"humanity\", \"humans\", \"humans\", \"humans\", \"humans\", \"humans\", \"humans\", \"husband\", \"husband\", \"husband\", \"husband\", \"husband\", \"husband\", \"husband\", \"husband\", \"husbands\", \"husbands\", \"husbands\", \"husbands\", \"identification\", \"identification\", \"identification\", \"ihr\", \"ii\", \"ii\", \"ii\", \"ii\", \"ii\", \"ii\", \"ii\", \"ii\", \"ii\", \"ii\", \"il\", \"illus\", \"illus\", \"illus\", \"illus\", \"illus\", \"illustrated\", \"illustrated\", \"illustrated\", \"illustrated\", \"illustrated\", \"illustrated\", \"illustrated\", \"illustrations\", \"illustrations\", \"illustrations\", \"illustrations\", \"illustrations\", \"illustrations\", \"illustrations\", \"im\", \"important\", \"important\", \"important\", \"important\", \"important\", \"important\", \"important\", \"important\", \"important\", \"important\", \"improve\", \"improve\", \"improve\", \"improve\", \"includes\", \"includes\", \"includes\", \"includes\", \"includes\", \"includes\", \"includes\", \"includes\", \"includes\", \"including\", \"including\", \"including\", \"including\", \"including\", \"including\", \"including\", \"including\", \"indiana\", \"indiana\", \"indiana\", \"indiana\", \"information\", \"information\", \"information\", \"information\", \"information\", \"information\", \"information\", \"information\", \"ingredients\", \"ingredients\", \"ingredients\", \"ingredients\", \"ingredients\", \"innocent\", \"innocent\", \"innocent\", \"innocent\", \"innocent\", \"innocent\", \"innocent\", \"inspector\", \"inspector\", \"inspector\", \"inspector\", \"inspector\", \"instructions\", \"instructions\", \"instructions\", \"instructions\", \"instructions\", \"instructions\", \"interactive\", \"interactive\", \"interactive\", \"interactive\", \"interactive\", \"interactive\", \"interstellar\", \"interstellar\", \"intimate\", \"intimate\", \"intimate\", \"intimate\", \"intimate\", \"intimate\", \"intimate\", \"intimate\", \"introduction\", \"introduction\", \"introduction\", \"introduction\", \"introduction\", \"introduction\", \"introduction\", \"introduction\", \"introduction\", \"invaders\", \"invaders\", \"invaders\", \"investigate\", \"investigate\", \"investigate\", \"investigate\", \"investigation\", \"investigation\", \"investigation\", \"investigation\", \"investigation\", \"investigation\", \"investigator\", \"investigator\", \"investigator\", \"investigator\", \"investigator\", \"iran\", \"iran\", \"iran\", \"iran\", \"iran\", \"isbn\", \"isbn\", \"isbn\", \"isbn\", \"isbn\", \"issues\", \"issues\", \"issues\", \"issues\", \"issues\", \"issues\", \"issues\", \"ist\", \"jacket\", \"jacket\", \"jacket\", \"jacket\", \"jacket\", \"jacket\", \"jackie\", \"jackie\", \"jackie\", \"jackie\", \"jackie\", \"jan\", \"jan\", \"jan\", \"jan\", \"jan\", \"jan\", \"jan\", \"jan\", \"jessie\", \"jessie\", \"jewelry\", \"jewelry\", \"jewelry\", \"jewish\", \"jewish\", \"jewish\", \"jewish\", \"jewish\", \"jewish\", \"jewish\", \"jews\", \"jews\", \"jews\", \"jews\", \"jews\", \"jo\", \"jo\", \"jo\", \"john\", \"john\", \"john\", \"john\", \"john\", \"john\", \"john\", \"john\", \"john\", \"john\", \"john\", \"josh\", \"josh\", \"josh\", \"josh\", \"journey\", \"journey\", \"journey\", \"journey\", \"journey\", \"journey\", \"journey\", \"journey\", \"journey\", \"joyce\", \"joyce\", \"joyce\", \"joyce\", \"jury\", \"jury\", \"kennedy\", \"kennedy\", \"kennedy\", \"kennedy\", \"kennedy\", \"kennedy\", \"kennedy\", \"kick\", \"kick\", \"kick\", \"kick\", \"kids\", \"kids\", \"kids\", \"kids\", \"kids\", \"kids\", \"killed\", \"killed\", \"killed\", \"killed\", \"killed\", \"killed\", \"killer\", \"killer\", \"killer\", \"killer\", \"killer\", \"killer\", \"killer\", \"killer\", \"kirk\", \"kirk\", \"kirk\", \"kirk\", \"kitchen\", \"kitchen\", \"kitchen\", \"kitchen\", \"kitchen\", \"knows\", \"knows\", \"knows\", \"knows\", \"knows\", \"knows\", \"knows\", \"la\", \"la\", \"la\", \"la\", \"la\", \"la\", \"lady\", \"lady\", \"lady\", \"lady\", \"lady\", \"lady\", \"lady\", \"lady\", \"land\", \"land\", \"land\", \"land\", \"land\", \"land\", \"land\", \"land\", \"las\", \"las\", \"las\", \"las\", \"las\", \"laugh\", \"laugh\", \"laugh\", \"laugh\", \"laugh\", \"laugh\", \"le\", \"le\", \"le\", \"le\", \"le\", \"le\", \"learn\", \"learn\", \"learn\", \"learn\", \"learn\", \"learn\", \"learn\", \"learn\", \"learn\", \"leben\", \"les\", \"les\", \"listings\", \"listings\", \"listings\", \"literary\", \"literary\", \"literary\", \"literary\", \"literary\", \"literary\", \"literary\", \"literature\", \"literature\", \"literature\", \"literature\", \"literature\", \"literature\", \"literature\", \"literature\", \"london\", \"london\", \"london\", \"london\", \"london\", \"london\", \"london\", \"london\", \"london\", \"london\", \"los\", \"los\", \"los\", \"los\", \"los\", \"los\", \"los\", \"los\", \"los\", \"los\", \"lot\", \"lot\", \"lot\", \"lot\", \"lot\", \"lot\", \"lot\", \"lot\", \"lovable\", \"lovable\", \"lovable\", \"lovable\", \"lovable\", \"lovecraft\", \"lovecraft\", \"lovecraft\", \"lui\", \"mall\", \"mall\", \"mama\", \"mama\", \"mama\", \"management\", \"management\", \"management\", \"management\", \"management\", \"managers\", \"mankind\", \"mankind\", \"mankind\", \"mankind\", \"maps\", \"maps\", \"maps\", \"maps\", \"maps\", \"maps\", \"marilyn\", \"marilyn\", \"marilyn\", \"marilyn\", \"marilyn\", \"marilyn\", \"marriage\", \"marriage\", \"marriage\", \"marriage\", \"marriage\", \"marriage\", \"marriage\", \"marriage\", \"marriage\", \"mars\", \"mars\", \"mars\", \"mars\", \"mars\", \"mars\", \"masterpiece\", \"masterpiece\", \"masterpiece\", \"masterpiece\", \"masterpiece\", \"masterpiece\", \"masterpiece\", \"masterpiece\", \"masterpieces\", \"masterpieces\", \"masterpieces\", \"masterpieces\", \"masterpieces\", \"mathematics\", \"mathematics\", \"maybe\", \"maybe\", \"maybe\", \"maybe\", \"maybe\", \"meal\", \"meal\", \"meal\", \"meal\", \"meals\", \"meals\", \"meals\", \"meals\", \"meditations\", \"meditations\", \"meg\", \"meg\", \"meg\", \"memoir\", \"memoir\", \"memoir\", \"memoir\", \"memoir\", \"memoir\", \"memoir\", \"menu\", \"menu\", \"menu\", \"menu\", \"methods\", \"methods\", \"methods\", \"methods\", \"methods\", \"methods\", \"methods\", \"military\", \"military\", \"military\", \"military\", \"military\", \"million\", \"million\", \"million\", \"million\", \"million\", \"million\", \"million\", \"million\", \"million\", \"mission\", \"mission\", \"mission\", \"mission\", \"mission\", \"mission\", \"mission\", \"mission\", \"mission\", \"mission\", \"mit\", \"mob\", \"mob\", \"mob\", \"mob\", \"modern\", \"modern\", \"modern\", \"modern\", \"modern\", \"modern\", \"modern\", \"modern\", \"modern\", \"mom\", \"mom\", \"mom\", \"mom\", \"monroe\", \"monroe\", \"monroe\", \"monroe\", \"motive\", \"motive\", \"motive\", \"movie\", \"movie\", \"movie\", \"movie\", \"movie\", \"movie\", \"movie\", \"movie\", \"moving\", \"moving\", \"moving\", \"moving\", \"moving\", \"moving\", \"moving\", \"moving\", \"murdered\", \"murdered\", \"murdered\", \"murdered\", \"murdered\", \"murderer\", \"murderer\", \"murderer\", \"murderer\", \"murderer\", \"murdering\", \"murdering\", \"murders\", \"murders\", \"murders\", \"murders\", \"murders\", \"murders\", \"mysterious\", \"mysterious\", \"mysterious\", \"mysterious\", \"mysterious\", \"mysterious\", \"mysterious\", \"mysterious\", \"mysterious\", \"mystery\", \"mystery\", \"mystery\", \"mystery\", \"mystery\", \"mystery\", \"mystery\", \"mystery\", \"mystery\", \"m\\u00e1s\", \"nach\", \"nation\", \"nation\", \"nation\", \"nation\", \"nation\", \"nation\", \"nation\", \"nation\", \"nation\", \"navy\", \"navy\", \"navy\", \"navy\", \"navy\", \"nazi\", \"nazi\", \"nazi\", \"nazi\", \"nazi\", \"nazi\", \"nazi\", \"nazis\", \"nazis\", \"nazis\", \"nazis\", \"nazis\", \"nazis\", \"nazis\", \"need\", \"need\", \"need\", \"need\", \"need\", \"need\", \"need\", \"need\", \"negative\", \"negative\", \"negative\", \"nice\", \"nice\", \"nicht\", \"night\", \"night\", \"night\", \"night\", \"night\", \"night\", \"night\", \"night\", \"nobleman\", \"nobleman\", \"nobleman\", \"novelette\", \"novella\", \"novella\", \"novella\", \"novella\", \"novellas\", \"novellas\", \"novels\", \"novels\", \"novels\", \"novels\", \"novels\", \"novels\", \"novels\", \"novels\", \"nuclear\", \"nuclear\", \"nuclear\", \"nuclear\", \"nuclear\", \"nuclear\", \"nuclear\", \"nur\", \"oates\", \"occupation\", \"occupation\", \"occupation\", \"occupation\", \"occupation\", \"occupation\", \"occupation\", \"occupation\", \"occupied\", \"occupied\", \"occupied\", \"occupied\", \"occupied\", \"occupied\", \"offers\", \"offers\", \"offers\", \"offers\", \"offers\", \"offers\", \"offers\", \"offers\", \"offers\", \"oh\", \"oh\", \"original\", \"original\", \"original\", \"original\", \"original\", \"original\", \"original\", \"original\", \"original\", \"original\", \"pages\", \"pages\", \"pages\", \"pages\", \"pages\", \"pages\", \"pages\", \"pages\", \"pages\", \"pages\", \"pages\", \"pal\", \"pal\", \"paperback\", \"paperback\", \"paperback\", \"paperback\", \"paperback\", \"paperback\", \"paperback\", \"paperback\", \"paperback\", \"par\", \"par\", \"par\", \"par\", \"para\", \"parenting\", \"parenting\", \"parents\", \"parents\", \"parents\", \"parents\", \"parents\", \"parents\", \"parents\", \"parents\", \"parents\", \"parents\", \"parents\", \"parks\", \"parks\", \"parks\", \"parks\", \"parks\", \"pas\", \"passion\", \"passion\", \"passion\", \"passion\", \"passion\", \"passion\", \"passion\", \"passion\", \"passion\", \"penguin\", \"penguin\", \"penguin\", \"perfect\", \"perfect\", \"perfect\", \"perfect\", \"perfect\", \"perfect\", \"perfect\", \"perfect\", \"personal\", \"personal\", \"personal\", \"personal\", \"personal\", \"personal\", \"personal\", \"personal\", \"personal\", \"personal\", \"photographs\", \"photographs\", \"photographs\", \"photographs\", \"photographs\", \"photographs\", \"photographs\", \"photographs\", \"photographs\", \"photographs\", \"photos\", \"photos\", \"photos\", \"photos\", \"photos\", \"photos\", \"photos\", \"photos\", \"photos\", \"photos\", \"picard\", \"pilots\", \"pilots\", \"pitt\", \"pitt\", \"planet\", \"planet\", \"planet\", \"planet\", \"planet\", \"planet\", \"planets\", \"planets\", \"planets\", \"plants\", \"plants\", \"plants\", \"plants\", \"plants\", \"pocket\", \"pocket\", \"pocket\", \"pocket\", \"pocket\", \"pocket\", \"poe\", \"poe\", \"poe\", \"poem\", \"poem\", \"poem\", \"poem\", \"poems\", \"poems\", \"poems\", \"poems\", \"poems\", \"poet\", \"poet\", \"poet\", \"poet\", \"poet\", \"poet\", \"poet\", \"poet\", \"poetry\", \"poetry\", \"poetry\", \"poetry\", \"poetry\", \"poetry\", \"poets\", \"poets\", \"poets\", \"poets\", \"poirot\", \"poirot\", \"poland\", \"poland\", \"poland\", \"poland\", \"police\", \"police\", \"police\", \"police\", \"police\", \"police\", \"police\", \"police\", \"polish\", \"polish\", \"polish\", \"polish\", \"polish\", \"polish\", \"political\", \"political\", \"political\", \"political\", \"political\", \"political\", \"politics\", \"politics\", \"politics\", \"politics\", \"politics\", \"politics\", \"politics\", \"popular\", \"popular\", \"popular\", \"popular\", \"popular\", \"popular\", \"popular\", \"popular\", \"popular\", \"popular\", \"por\", \"portrait\", \"portrait\", \"portrait\", \"portrait\", \"portrait\", \"portrait\", \"portrait\", \"portrait\", \"portrait\", \"positive\", \"positive\", \"positive\", \"pour\", \"pour\", \"pour\", \"powers\", \"powers\", \"powers\", \"powers\", \"powers\", \"powers\", \"practical\", \"practical\", \"practical\", \"practical\", \"practical\", \"practical\", \"practice\", \"practice\", \"practice\", \"practice\", \"practice\", \"practice\", \"practices\", \"practices\", \"practices\", \"practices\", \"practices\", \"president\", \"president\", \"president\", \"president\", \"president\", \"president\", \"president\", \"presidential\", \"presidential\", \"presidential\", \"presidents\", \"presidents\", \"presidents\", \"presidents\", \"principles\", \"principles\", \"principles\", \"principles\", \"principles\", \"print\", \"print\", \"print\", \"print\", \"print\", \"print\", \"print\", \"print\", \"printing\", \"printing\", \"printing\", \"printing\", \"printing\", \"printing\", \"prize\", \"prize\", \"prize\", \"prize\", \"prize\", \"prize\", \"prize\", \"problems\", \"problems\", \"problems\", \"problems\", \"problems\", \"problems\", \"problems\", \"problems\", \"processes\", \"processes\", \"program\", \"program\", \"program\", \"program\", \"program\", \"program\", \"programs\", \"programs\", \"programs\", \"programs\", \"projects\", \"projects\", \"projects\", \"projects\", \"projects\", \"projects\", \"prose\", \"prose\", \"prose\", \"prose\", \"prose\", \"prose\", \"prose\", \"prosecutor\", \"proven\", \"proven\", \"proven\", \"proven\", \"proven\", \"proven\", \"provides\", \"provides\", \"provides\", \"provides\", \"provides\", \"provides\", \"provides\", \"provides\", \"provides\", \"publication\", \"publication\", \"publication\", \"publication\", \"publication\", \"publication\", \"publication\", \"publication\", \"publication\", \"published\", \"published\", \"published\", \"published\", \"published\", \"published\", \"published\", \"published\", \"published\", \"published\", \"puppy\", \"puppy\", \"puppy\", \"purchase\", \"purchase\", \"purchase\", \"purchase\", \"purchase\", \"qu\", \"que\", \"questions\", \"questions\", \"questions\", \"questions\", \"questions\", \"questions\", \"questions\", \"questions\", \"questions\", \"qui\", \"rabbit\", \"rabbit\", \"rabbit\", \"rabbit\", \"race\", \"race\", \"race\", \"race\", \"race\", \"race\", \"race\", \"railroad\", \"railroad\", \"railroad\", \"railroad\", \"railroad\", \"raped\", \"raped\", \"really\", \"really\", \"really\", \"really\", \"really\", \"really\", \"really\", \"really\", \"recipe\", \"recipe\", \"recipe\", \"recipe\", \"recipes\", \"recipes\", \"recipes\", \"recipes\", \"recounts\", \"recounts\", \"recounts\", \"recounts\", \"recounts\", \"recounts\", \"recounts\", \"recounts\", \"reference\", \"reference\", \"reference\", \"reference\", \"relationships\", \"relationships\", \"relationships\", \"relationships\", \"relationships\", \"released\", \"released\", \"released\", \"released\", \"released\", \"released\", \"remedies\", \"remedies\", \"research\", \"research\", \"research\", \"research\", \"research\", \"research\", \"research\", \"research\", \"reservation\", \"reservation\", \"restaurants\", \"restaurants\", \"restaurants\", \"revolution\", \"revolution\", \"revolution\", \"revolution\", \"revolution\", \"revolution\", \"revolution\", \"revolution\", \"right\", \"right\", \"right\", \"right\", \"right\", \"right\", \"right\", \"right\", \"rights\", \"rights\", \"rights\", \"rights\", \"rights\", \"rights\", \"rights\", \"rise\", \"rise\", \"rise\", \"rise\", \"rise\", \"rise\", \"rise\", \"robot\", \"robot\", \"robot\", \"robot\", \"robots\", \"robots\", \"robots\", \"robots\", \"rom\", \"rom\", \"rom\", \"roosevelt\", \"roosevelt\", \"roosevelt\", \"roosevelt\", \"sa\", \"saga\", \"saga\", \"saga\", \"saga\", \"saga\", \"saga\", \"saga\", \"saga\", \"saga\", \"sassy\", \"sassy\", \"sassy\", \"save\", \"save\", \"save\", \"save\", \"save\", \"save\", \"save\", \"save\", \"save\", \"scare\", \"scare\", \"scare\", \"school\", \"school\", \"school\", \"school\", \"school\", \"school\", \"school\", \"school\", \"school\", \"science\", \"science\", \"science\", \"science\", \"science\", \"science\", \"science\", \"science\", \"sciences\", \"sciences\", \"sciences\", \"scientists\", \"scientists\", \"scientists\", \"scientists\", \"scientists\", \"se\", \"sea\", \"sea\", \"sea\", \"sea\", \"sea\", \"sea\", \"sea\", \"sea\", \"sea\", \"secrets\", \"secrets\", \"secrets\", \"secrets\", \"secrets\", \"secrets\", \"secrets\", \"secrets\", \"secrets\", \"secrets\", \"seine\", \"seine\", \"self\", \"self\", \"self\", \"self\", \"self\", \"self\", \"self\", \"self\", \"self\", \"serial\", \"serial\", \"serial\", \"serial\", \"serial\", \"serial\", \"serial\", \"ses\", \"sexy\", \"sexy\", \"sexy\", \"sexy\", \"sexy\", \"ship\", \"ship\", \"ship\", \"ship\", \"ship\", \"shipping\", \"shipping\", \"shipping\", \"shipping\", \"shipping\", \"shipping\", \"ships\", \"ships\", \"ships\", \"ships\", \"ships\", \"ships\", \"show\", \"show\", \"show\", \"show\", \"show\", \"show\", \"show\", \"show\", \"shows\", \"shows\", \"shows\", \"shows\", \"shows\", \"shows\", \"shows\", \"shows\", \"si\", \"sich\", \"sie\", \"sind\", \"sister\", \"sister\", \"sister\", \"sister\", \"sister\", \"sister\", \"sister\", \"sister\", \"slayer\", \"slayer\", \"slayer\", \"sleuth\", \"sleuth\", \"sleuth\", \"social\", \"social\", \"social\", \"social\", \"social\", \"social\", \"social\", \"social\", \"solar\", \"solar\", \"solar\", \"solar\", \"sold\", \"sold\", \"sold\", \"sold\", \"sold\", \"sold\", \"sold\", \"sold\", \"sold\", \"something\", \"something\", \"something\", \"something\", \"something\", \"something\", \"something\", \"something\", \"something\", \"son\", \"son\", \"son\", \"son\", \"son\", \"son\", \"son\", \"son\", \"son\", \"soon\", \"soon\", \"soon\", \"soon\", \"soon\", \"soon\", \"soup\", \"soup\", \"soup\", \"south\", \"south\", \"south\", \"south\", \"south\", \"south\", \"south\", \"space\", \"space\", \"space\", \"space\", \"space\", \"space\", \"space\", \"spaceship\", \"special\", \"special\", \"special\", \"special\", \"special\", \"special\", \"special\", \"special\", \"special\", \"special\", \"specific\", \"specific\", \"specific\", \"specific\", \"specific\", \"specific\", \"spine\", \"spine\", \"spine\", \"spine\", \"spiritual\", \"spiritual\", \"spiritual\", \"spiritual\", \"spiritual\", \"spiritual\", \"spirituality\", \"spirituality\", \"spirituality\", \"spooky\", \"spooky\", \"spooky\", \"spooky\", \"stabbed\", \"stabbed\", \"stardom\", \"stardom\", \"stardom\", \"stardom\", \"starfleet\", \"starship\", \"step\", \"step\", \"step\", \"step\", \"step\", \"step\", \"step\", \"stoker\", \"stoker\", \"stranger\", \"stranger\", \"stranger\", \"stranger\", \"stranger\", \"strategies\", \"strategies\", \"strategies\", \"strategies\", \"strategies\", \"strategies\", \"stress\", \"stress\", \"stress\", \"struggle\", \"struggle\", \"struggle\", \"struggle\", \"struggle\", \"struggle\", \"struggle\", \"stuck\", \"stuck\", \"stuck\", \"students\", \"students\", \"students\", \"students\", \"students\", \"students\", \"students\", \"study\", \"study\", \"study\", \"study\", \"study\", \"study\", \"study\", \"su\", \"submarine\", \"submarine\", \"summer\", \"summer\", \"summer\", \"summer\", \"summer\", \"summer\", \"summer\", \"summer\", \"summer\", \"superintendent\", \"superstar\", \"superstar\", \"superstar\", \"superstar\", \"superstar\", \"sur\", \"survival\", \"survival\", \"survival\", \"survival\", \"survival\", \"survival\", \"survival\", \"survival\", \"survivor\", \"survivor\", \"survivor\", \"survivor\", \"survivor\", \"survivor\", \"sus\", \"suspect\", \"suspect\", \"suspect\", \"suspect\", \"suspected\", \"suspected\", \"suspected\", \"suspects\", \"suspects\", \"suspects\", \"suspects\", \"suspects\", \"suspense\", \"suspense\", \"suspense\", \"suspense\", \"suspense\", \"suspense\", \"suspense\", \"sweeping\", \"sweeping\", \"sweeping\", \"sweeping\", \"sweeping\", \"sweeping\", \"symptoms\", \"symptoms\", \"symptoms\", \"syndicated\", \"syndicated\", \"syndicated\", \"syndicated\", \"tales\", \"tales\", \"tales\", \"tales\", \"tales\", \"tales\", \"tales\", \"tales\", \"tarot\", \"tarot\", \"tarot\", \"tarot\", \"techniques\", \"techniques\", \"techniques\", \"techniques\", \"techniques\", \"techniques\", \"tells\", \"tells\", \"tells\", \"tells\", \"tells\", \"tells\", \"tells\", \"tells\", \"tells\", \"tells\", \"text\", \"text\", \"text\", \"text\", \"text\", \"text\", \"text\", \"text\", \"text\", \"theoretical\", \"theoretical\", \"theory\", \"theory\", \"theory\", \"theory\", \"theory\", \"theory\", \"thing\", \"thing\", \"thing\", \"thing\", \"thing\", \"thing\", \"things\", \"things\", \"things\", \"things\", \"things\", \"things\", \"things\", \"things\", \"things\", \"times\", \"times\", \"times\", \"times\", \"times\", \"times\", \"times\", \"times\", \"times\", \"times\", \"today\", \"today\", \"today\", \"today\", \"today\", \"today\", \"today\", \"today\", \"today\", \"tolkien\", \"tolkien\", \"tolkien\", \"tolkien\", \"tours\", \"tours\", \"tours\", \"tours\", \"town\", \"town\", \"town\", \"town\", \"town\", \"town\", \"town\", \"town\", \"translated\", \"translated\", \"translated\", \"translation\", \"translation\", \"translation\", \"translation\", \"translation\", \"translation\", \"translations\", \"translations\", \"triumphant\", \"triumphant\", \"triumphant\", \"triumphant\", \"triumphant\", \"triumphant\", \"triumphs\", \"triumphs\", \"triumphs\", \"triumphs\", \"triumphs\", \"triumphs\", \"triumphs\", \"trivia\", \"trivia\", \"trivia\", \"trouble\", \"trouble\", \"trouble\", \"trouble\", \"trouble\", \"trouble\", \"truth\", \"truth\", \"truth\", \"truth\", \"truth\", \"truth\", \"truth\", \"truth\", \"tumultuous\", \"tumultuous\", \"tumultuous\", \"tumultuous\", \"tumultuous\", \"tumultuous\", \"turbulent\", \"turbulent\", \"turbulent\", \"turbulent\", \"turbulent\", \"turbulent\", \"twain\", \"twain\", \"twain\", \"un\", \"un\", \"un\", \"una\", \"und\", \"undead\", \"undead\", \"understanding\", \"understanding\", \"understanding\", \"understanding\", \"understanding\", \"understanding\", \"understanding\", \"understanding\", \"une\", \"unforgettable\", \"unforgettable\", \"unforgettable\", \"unforgettable\", \"unforgettable\", \"unforgettable\", \"unforgettable\", \"unforgettable\", \"universe\", \"universe\", \"universe\", \"universe\", \"universe\", \"universe\", \"universe\", \"universe\", \"unmask\", \"unmask\", \"unpublished\", \"unpublished\", \"unpublished\", \"unpublished\", \"unpublished\", \"unsolved\", \"unsolved\", \"unsolved\", \"updike\", \"updike\", \"updike\", \"use\", \"use\", \"use\", \"use\", \"use\", \"use\", \"use\", \"use\", \"users\", \"users\", \"users\", \"vampire\", \"vampire\", \"vampire\", \"vampire\", \"vampire\", \"vampire\", \"vampires\", \"vampires\", \"vampires\", \"vampires\", \"vampires\", \"vegetarian\", \"vegetarian\", \"vegetarian\", \"vessel\", \"vessel\", \"victim\", \"victim\", \"victim\", \"victim\", \"victim\", \"victim\", \"victim\", \"vietnam\", \"vietnam\", \"vietnam\", \"vietnam\", \"vietnam\", \"vietnam\", \"virus\", \"virus\", \"virus\", \"virus\", \"virus\", \"virus\", \"vocabulary\", \"vocabulary\", \"vocabulary\", \"vocabulary\", \"volume\", \"volume\", \"volume\", \"volume\", \"volume\", \"volume\", \"volume\", \"volume\", \"volume\", \"volume\", \"von\", \"von\", \"von\", \"von\", \"waitress\", \"waitress\", \"wakefield\", \"wakefield\", \"wants\", \"wants\", \"wants\", \"wants\", \"wants\", \"wants\", \"wants\", \"washington\", \"washington\", \"washington\", \"washington\", \"washington\", \"washington\", \"washington\", \"washington\", \"weapons\", \"weapons\", \"weapons\", \"weapons\", \"weapons\", \"wearing\", \"wearing\", \"white\", \"white\", \"white\", \"white\", \"white\", \"white\", \"white\", \"white\", \"white\", \"white\", \"wie\", \"wife\", \"wife\", \"wife\", \"wife\", \"wife\", \"wife\", \"wife\", \"wine\", \"wine\", \"wine\", \"wine\", \"winning\", \"winning\", \"winning\", \"winning\", \"winning\", \"winning\", \"winning\", \"winning\", \"wird\", \"wisdom\", \"wisdom\", \"wisdom\", \"wisdom\", \"wisdom\", \"wisdom\", \"wisdom\", \"wisdom\", \"woolf\", \"workplace\", \"workplace\", \"workplace\", \"works\", \"works\", \"works\", \"works\", \"works\", \"works\", \"works\", \"works\", \"works\", \"writer\", \"writer\", \"writer\", \"writer\", \"writer\", \"writer\", \"writer\", \"writer\", \"writers\", \"writers\", \"writers\", \"writers\", \"writers\", \"writers\", \"writers\", \"writers\", \"writers\", \"writing\", \"writing\", \"writing\", \"writing\", \"writing\", \"writing\", \"writing\", \"writing\", \"writing\", \"writings\", \"writings\", \"writings\", \"writings\", \"written\", \"written\", \"written\", \"written\", \"written\", \"written\", \"written\", \"written\", \"written\", \"wrote\", \"wrote\", \"wrote\", \"wrote\", \"wrote\", \"wrote\", \"wrote\", \"zu\"]}, \"R\": 30, \"lambda.step\": 0.01, \"plot.opts\": {\"xlab\": \"PC1\", \"ylab\": \"PC2\"}, \"topic.order\": [6, 10, 5, 7, 8, 1, 12, 11, 9, 2, 3, 4]};\n",
       "\n",
       "function LDAvis_load_lib(url, callback){\n",
       "  var s = document.createElement('script');\n",
       "  s.src = url;\n",
       "  s.async = true;\n",
       "  s.onreadystatechange = s.onload = callback;\n",
       "  s.onerror = function(){console.warn(\"failed to load library \" + url);};\n",
       "  document.getElementsByTagName(\"head\")[0].appendChild(s);\n",
       "}\n",
       "\n",
       "if(typeof(LDAvis) !== \"undefined\"){\n",
       "   // already loaded: just create the visualization\n",
       "   !function(LDAvis){\n",
       "       new LDAvis(\"#\" + \"ldavis_el528391403460303329443997491209\", ldavis_el528391403460303329443997491209_data);\n",
       "   }(LDAvis);\n",
       "}else if(typeof define === \"function\" && define.amd){\n",
       "   // require.js is available: use it to load d3/LDAvis\n",
       "   require.config({paths: {d3: \"https://d3js.org/d3.v5\"}});\n",
       "   require([\"d3\"], function(d3){\n",
       "      window.d3 = d3;\n",
       "      LDAvis_load_lib(\"https://cdn.jsdelivr.net/gh/bmabey/pyLDAvis@3.3.1/pyLDAvis/js/ldavis.v3.0.0.js\", function(){\n",
       "        new LDAvis(\"#\" + \"ldavis_el528391403460303329443997491209\", ldavis_el528391403460303329443997491209_data);\n",
       "      });\n",
       "    });\n",
       "}else{\n",
       "    // require.js not available: dynamically load d3 & LDAvis\n",
       "    LDAvis_load_lib(\"https://d3js.org/d3.v5.js\", function(){\n",
       "         LDAvis_load_lib(\"https://cdn.jsdelivr.net/gh/bmabey/pyLDAvis@3.3.1/pyLDAvis/js/ldavis.v3.0.0.js\", function(){\n",
       "                 new LDAvis(\"#\" + \"ldavis_el528391403460303329443997491209\", ldavis_el528391403460303329443997491209_data);\n",
       "            })\n",
       "         });\n",
       "}\n",
       "</script>"
      ],
      "text/plain": [
       "PreparedData(topic_coordinates=              x         y  topics  cluster       Freq\n",
       "topic                                                \n",
       "5     -0.052033 -0.123963       1        1  28.231979\n",
       "9     -0.072092 -0.065714       2        1  17.611414\n",
       "4     -0.081758 -0.011746       3        1  13.448252\n",
       "6     -0.114480  0.077597       4        1  11.478816\n",
       "7     -0.068839 -0.111123       5        1   8.637953\n",
       "0     -0.102690  0.142444       6        1   4.323269\n",
       "11    -0.069413 -0.121126       7        1   4.215719\n",
       "10     0.360567  0.067870       8        1   3.349837\n",
       "8     -0.091212  0.277234       9        1   3.033430\n",
       "1      0.299993 -0.017076      10        1   2.452221\n",
       "2     -0.009856 -0.124368      11        1   1.636371\n",
       "3      0.001812  0.009971      12        1   1.580738, topic_info=             Term        Freq       Total Category  logprob  loglift\n",
       "1721           de  897.000000  897.000000  Default  30.0000  30.0000\n",
       "3829           la  554.000000  554.000000  Default  29.0000  29.0000\n",
       "6993          und  397.000000  397.000000  Default  28.0000  28.0000\n",
       "1838          der  395.000000  395.000000  Default  27.0000  27.0000\n",
       "1923          die  412.000000  412.000000  Default  26.0000  26.0000\n",
       "...           ...         ...         ...      ...      ...      ...\n",
       "1              10   22.680463   77.369561  Topic12  -5.3893   2.9202\n",
       "0             000   31.270417  168.641671  Topic12  -5.0681   2.4622\n",
       "1235        clean   17.810943   49.300126  Topic12  -5.6310   3.1292\n",
       "2163      edition   26.181635  295.945676  Topic12  -5.2457   1.7222\n",
       "5239  publication   18.241596   91.479138  Topic12  -5.6071   2.5349\n",
       "\n",
       "[754 rows x 6 columns], token_table=      Topic      Freq   Term\n",
       "term                        \n",
       "0         1  0.047438    000\n",
       "0         2  0.035578    000\n",
       "0         3  0.071157    000\n",
       "0         4  0.136384    000\n",
       "0         5  0.112665    000\n",
       "...     ...       ...    ...\n",
       "7439      4  0.065953  wrote\n",
       "7439      5  0.026381  wrote\n",
       "7439      6  0.026381  wrote\n",
       "7439      7  0.026381  wrote\n",
       "7464     10  0.995084     zu\n",
       "\n",
       "[3653 rows x 3 columns], R=30, lambda_step=0.01, plot_opts={'xlab': 'PC1', 'ylab': 'PC2'}, topic_order=[6, 10, 5, 7, 8, 1, 12, 11, 9, 2, 3, 4])"
      ]
     },
     "execution_count": 621,
     "metadata": {},
     "output_type": "execute_result"
    },
    {
     "name": "stderr",
     "output_type": "stream",
     "text": [
      "/Users/derekcall/opt/anaconda3/lib/python3.8/site-packages/past/builtins/misc.py:45: DeprecationWarning: the imp module is deprecated in favour of importlib; see the module's documentation for alternative uses\n",
      "  from imp import reload\n",
      "/Users/derekcall/opt/anaconda3/lib/python3.8/site-packages/past/builtins/misc.py:45: DeprecationWarning: the imp module is deprecated in favour of importlib; see the module's documentation for alternative uses\n",
      "  from imp import reload\n",
      "/Users/derekcall/opt/anaconda3/lib/python3.8/site-packages/past/builtins/misc.py:45: DeprecationWarning: the imp module is deprecated in favour of importlib; see the module's documentation for alternative uses\n",
      "  from imp import reload\n",
      "/Users/derekcall/opt/anaconda3/lib/python3.8/site-packages/past/builtins/misc.py:45: DeprecationWarning: the imp module is deprecated in favour of importlib; see the module's documentation for alternative uses\n",
      "  from imp import reload\n",
      "/Users/derekcall/opt/anaconda3/lib/python3.8/site-packages/past/builtins/misc.py:45: DeprecationWarning: the imp module is deprecated in favour of importlib; see the module's documentation for alternative uses\n",
      "  from imp import reload\n",
      "/Users/derekcall/opt/anaconda3/lib/python3.8/site-packages/past/builtins/misc.py:45: DeprecationWarning: the imp module is deprecated in favour of importlib; see the module's documentation for alternative uses\n",
      "  from imp import reload\n",
      "/Users/derekcall/opt/anaconda3/lib/python3.8/site-packages/past/builtins/misc.py:45: DeprecationWarning: the imp module is deprecated in favour of importlib; see the module's documentation for alternative uses\n",
      "  from imp import reload\n",
      "/Users/derekcall/opt/anaconda3/lib/python3.8/site-packages/past/builtins/misc.py:45: DeprecationWarning: the imp module is deprecated in favour of importlib; see the module's documentation for alternative uses\n",
      "  from imp import reload\n",
      "/Users/derekcall/opt/anaconda3/lib/python3.8/site-packages/past/builtins/misc.py:45: DeprecationWarning: the imp module is deprecated in favour of importlib; see the module's documentation for alternative uses\n",
      "  from imp import reload\n",
      "/Users/derekcall/opt/anaconda3/lib/python3.8/site-packages/past/builtins/misc.py:45: DeprecationWarning: the imp module is deprecated in favour of importlib; see the module's documentation for alternative uses\n",
      "  from imp import reload\n"
     ]
    }
   ],
   "source": [
    "pyLDAvis.sklearn.prepare(lda_tf, tfidf_matrix, tfidf_vectorizer)"
   ]
  },
  {
   "cell_type": "code",
   "execution_count": null,
   "metadata": {},
   "outputs": [],
   "source": []
  },
  {
   "cell_type": "code",
   "execution_count": null,
   "metadata": {},
   "outputs": [],
   "source": []
  },
  {
   "cell_type": "code",
   "execution_count": null,
   "metadata": {},
   "outputs": [],
   "source": []
  }
 ],
 "metadata": {
  "kernelspec": {
   "display_name": "Python 3 (ipykernel)",
   "language": "python",
   "name": "python3"
  },
  "language_info": {
   "codemirror_mode": {
    "name": "ipython",
    "version": 3
   },
   "file_extension": ".py",
   "mimetype": "text/x-python",
   "name": "python",
   "nbconvert_exporter": "python",
   "pygments_lexer": "ipython3",
   "version": "3.8.5"
  }
 },
 "nbformat": 4,
 "nbformat_minor": 4
}
